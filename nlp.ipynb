{
 "cells": [
  {
   "cell_type": "markdown",
   "metadata": {},
   "source": [
    "#  Natural Language Processing "
   ]
  },
  {
   "cell_type": "code",
   "execution_count": 1,
   "metadata": {},
   "outputs": [
    {
     "name": "stderr",
     "output_type": "stream",
     "text": [
      "Using TensorFlow backend.\n"
     ]
    }
   ],
   "source": [
    "from tqdm import tqdm\n",
    "from sklearn.svm import SVC\n",
    "from keras.models import Sequential\n",
    "from keras.layers.recurrent import LSTM, GRU\n",
    "from keras.layers.core import Dense, Activation, Dropout\n",
    "from keras.layers.embeddings import Embedding\n",
    "from keras.layers.normalization import BatchNormalization\n",
    "from keras.utils import np_utils\n",
    "from sklearn import preprocessing, decomposition, model_selection, metrics, pipeline\n",
    "from sklearn.model_selection import GridSearchCV\n",
    "from sklearn.feature_extraction.text import TfidfVectorizer, CountVectorizer\n",
    "from sklearn.decomposition import TruncatedSVD\n",
    "from sklearn.linear_model import LogisticRegression\n",
    "from sklearn.model_selection import train_test_split\n",
    "from sklearn.naive_bayes import MultinomialNB\n",
    "from keras.layers import GlobalMaxPooling1D, Conv1D, MaxPooling1D, Flatten, Bidirectional, SpatialDropout1D\n",
    "from keras.preprocessing import sequence, text\n",
    "from keras.callbacks import EarlyStopping\n",
    "from nltk import word_tokenize\n",
    "from nltk.corpus import stopwords\n",
    "stop_words = stopwords.words('english')\n",
    "\n",
    "\n",
    "\n"
   ]
  },
  {
   "cell_type": "code",
   "execution_count": 2,
   "metadata": {},
   "outputs": [],
   "source": [
    "import nltk\n",
    "import pandas as pd\n",
    "import numpy as np"
   ]
  },
  {
   "cell_type": "code",
   "execution_count": 3,
   "metadata": {},
   "outputs": [],
   "source": [
    "texts=pd.read_csv(\"/home/aman/anaconda3/spooky-author-identification/train.csv\")"
   ]
  },
  {
   "cell_type": "code",
   "execution_count": 4,
   "metadata": {},
   "outputs": [
    {
     "data": {
      "text/html": [
       "<div>\n",
       "<style scoped>\n",
       "    .dataframe tbody tr th:only-of-type {\n",
       "        vertical-align: middle;\n",
       "    }\n",
       "\n",
       "    .dataframe tbody tr th {\n",
       "        vertical-align: top;\n",
       "    }\n",
       "\n",
       "    .dataframe thead th {\n",
       "        text-align: right;\n",
       "    }\n",
       "</style>\n",
       "<table border=\"1\" class=\"dataframe\">\n",
       "  <thead>\n",
       "    <tr style=\"text-align: right;\">\n",
       "      <th></th>\n",
       "      <th>id</th>\n",
       "      <th>text</th>\n",
       "      <th>author</th>\n",
       "    </tr>\n",
       "  </thead>\n",
       "  <tbody>\n",
       "    <tr>\n",
       "      <th>0</th>\n",
       "      <td>id26305</td>\n",
       "      <td>This process, however, afforded me no means of...</td>\n",
       "      <td>EAP</td>\n",
       "    </tr>\n",
       "    <tr>\n",
       "      <th>1</th>\n",
       "      <td>id17569</td>\n",
       "      <td>It never once occurred to me that the fumbling...</td>\n",
       "      <td>HPL</td>\n",
       "    </tr>\n",
       "    <tr>\n",
       "      <th>2</th>\n",
       "      <td>id11008</td>\n",
       "      <td>In his left hand was a gold snuff box, from wh...</td>\n",
       "      <td>EAP</td>\n",
       "    </tr>\n",
       "    <tr>\n",
       "      <th>3</th>\n",
       "      <td>id27763</td>\n",
       "      <td>How lovely is spring As we looked from Windsor...</td>\n",
       "      <td>MWS</td>\n",
       "    </tr>\n",
       "    <tr>\n",
       "      <th>4</th>\n",
       "      <td>id12958</td>\n",
       "      <td>Finding nothing else, not even gold, the Super...</td>\n",
       "      <td>HPL</td>\n",
       "    </tr>\n",
       "    <tr>\n",
       "      <th>5</th>\n",
       "      <td>id22965</td>\n",
       "      <td>A youth passed in solitude, my best years spen...</td>\n",
       "      <td>MWS</td>\n",
       "    </tr>\n",
       "    <tr>\n",
       "      <th>6</th>\n",
       "      <td>id09674</td>\n",
       "      <td>The astronomer, perhaps, at this point, took r...</td>\n",
       "      <td>EAP</td>\n",
       "    </tr>\n",
       "    <tr>\n",
       "      <th>7</th>\n",
       "      <td>id13515</td>\n",
       "      <td>The surcingle hung in ribands from my body.</td>\n",
       "      <td>EAP</td>\n",
       "    </tr>\n",
       "    <tr>\n",
       "      <th>8</th>\n",
       "      <td>id19322</td>\n",
       "      <td>I knew that you could not say to yourself 'ste...</td>\n",
       "      <td>EAP</td>\n",
       "    </tr>\n",
       "    <tr>\n",
       "      <th>9</th>\n",
       "      <td>id00912</td>\n",
       "      <td>I confess that neither the structure of langua...</td>\n",
       "      <td>MWS</td>\n",
       "    </tr>\n",
       "  </tbody>\n",
       "</table>\n",
       "</div>"
      ],
      "text/plain": [
       "        id                                               text author\n",
       "0  id26305  This process, however, afforded me no means of...    EAP\n",
       "1  id17569  It never once occurred to me that the fumbling...    HPL\n",
       "2  id11008  In his left hand was a gold snuff box, from wh...    EAP\n",
       "3  id27763  How lovely is spring As we looked from Windsor...    MWS\n",
       "4  id12958  Finding nothing else, not even gold, the Super...    HPL\n",
       "5  id22965  A youth passed in solitude, my best years spen...    MWS\n",
       "6  id09674  The astronomer, perhaps, at this point, took r...    EAP\n",
       "7  id13515        The surcingle hung in ribands from my body.    EAP\n",
       "8  id19322  I knew that you could not say to yourself 'ste...    EAP\n",
       "9  id00912  I confess that neither the structure of langua...    MWS"
      ]
     },
     "execution_count": 4,
     "metadata": {},
     "output_type": "execute_result"
    }
   ],
   "source": [
    "texts.head(10)"
   ]
  },
  {
   "cell_type": "code",
   "execution_count": 5,
   "metadata": {},
   "outputs": [],
   "source": [
    "byauthor=texts.groupby(\"author\")   ##split the data byauthor"
   ]
  },
  {
   "cell_type": "code",
   "execution_count": 6,
   "metadata": {},
   "outputs": [
    {
     "name": "stdout",
     "output_type": "stream",
     "text": [
      "<class 'pandas.core.frame.DataFrame'>\n",
      "RangeIndex: 19579 entries, 0 to 19578\n",
      "Data columns (total 3 columns):\n",
      "id        19579 non-null object\n",
      "text      19579 non-null object\n",
      "author    19579 non-null object\n",
      "dtypes: object(3)\n",
      "memory usage: 459.0+ KB\n"
     ]
    }
   ],
   "source": [
    "texts.info()"
   ]
  },
  {
   "cell_type": "code",
   "execution_count": 7,
   "metadata": {},
   "outputs": [
    {
     "name": "stderr",
     "output_type": "stream",
     "text": [
      "[nltk_data] Downloading package stopwords to /home/aman/nltk_data...\n",
      "[nltk_data]   Package stopwords is already up-to-date!\n"
     ]
    },
    {
     "data": {
      "text/plain": [
       "True"
      ]
     },
     "execution_count": 7,
     "metadata": {},
     "output_type": "execute_result"
    }
   ],
   "source": [
    "nltk.download('stopwords')"
   ]
  },
  {
   "cell_type": "code",
   "execution_count": 8,
   "metadata": {},
   "outputs": [
    {
     "name": "stderr",
     "output_type": "stream",
     "text": [
      "[nltk_data] Error loading punkt: <urlopen error [Errno -3] Temporary\n",
      "[nltk_data]     failure in name resolution>\n"
     ]
    },
    {
     "data": {
      "text/plain": [
       "False"
      ]
     },
     "execution_count": 8,
     "metadata": {},
     "output_type": "execute_result"
    }
   ],
   "source": [
    "nltk.download('punkt')"
   ]
  },
  {
   "cell_type": "code",
   "execution_count": 8,
   "metadata": {},
   "outputs": [],
   "source": [
    "wordfreqbyauthor=nltk.probability.ConditionalFreqDist()"
   ]
  },
  {
   "cell_type": "code",
   "execution_count": 9,
   "metadata": {},
   "outputs": [
    {
     "data": {
      "text/plain": [
       "author\n",
       "EAP    7900\n",
       "HPL    5635\n",
       "MWS    6044\n",
       "dtype: int64"
      ]
     },
     "execution_count": 9,
     "metadata": {},
     "output_type": "execute_result"
    }
   ],
   "source": [
    "byauthor.size()"
   ]
  },
  {
   "cell_type": "code",
   "execution_count": 10,
   "metadata": {},
   "outputs": [],
   "source": [
    "for name,group in byauthor:\n",
    "    \n",
    "    sentence=group['text'].str.cat(sep=' ')\n",
    "    \n",
    "    sentences=sentence.lower()\n",
    "    \n",
    "    tokens = nltk.tokenize.word_tokenize(sentences)\n",
    "    \n",
    "    frequency=nltk.FreqDist(tokens)\n",
    "    \n",
    "    wordfreqbyauthor[name]=(frequency)\n",
    "    \n",
    "# now we have an dictionary where each entry is the frequency distrobution\n",
    "# of words for a specific author. "
   ]
  },
  {
   "cell_type": "code",
   "execution_count": 11,
   "metadata": {},
   "outputs": [],
   "source": [
    "a={\"name\": \"amabdarasj\",\n",
    "  \"age\": \"fgrogihohfg\"}"
   ]
  },
  {
   "cell_type": "code",
   "execution_count": 12,
   "metadata": {},
   "outputs": [
    {
     "data": {
      "text/plain": [
       "'amabdarasj'"
      ]
     },
     "execution_count": 12,
     "metadata": {},
     "output_type": "execute_result"
    }
   ],
   "source": [
    "a.pop(\"name\")"
   ]
  },
  {
   "cell_type": "code",
   "execution_count": 14,
   "metadata": {},
   "outputs": [
    {
     "data": {
      "text/plain": [
       "{'age': 'fgrogihohfg'}"
      ]
     },
     "execution_count": 14,
     "metadata": {},
     "output_type": "execute_result"
    }
   ],
   "source": [
    "a"
   ]
  },
  {
   "cell_type": "code",
   "execution_count": null,
   "metadata": {},
   "outputs": [],
   "source": []
  },
  {
   "cell_type": "markdown",
   "metadata": {},
   "source": [
    "Now we can look at how often each writer uses specific words. Since this is a Halloween competition, how about \"blood\", \"scream\" and \"fear\"? 👻😨🧛‍♀️"
   ]
  },
  {
   "cell_type": "code",
   "execution_count": 13,
   "metadata": {},
   "outputs": [
    {
     "name": "stdout",
     "output_type": "stream",
     "text": [
      "blood:  EAP\n",
      "0.00014645324695463396\n",
      "blood:  HPL\n",
      "0.0002298361842596689\n",
      "blood:  MWS\n",
      "0.00022772649518331984\n",
      "\n",
      "scream:  EAP\n",
      "1.72297937593687e-05\n",
      "scream:  HPL\n",
      "9.193447370386757e-05\n",
      "scream:  MWS\n",
      "2.647982502131626e-05\n",
      "\n",
      "fear:  EAP\n",
      "0.0001033787625562122\n",
      "fear:  HPL\n",
      "0.0005745904606491723\n",
      "fear:  MWS\n",
      "0.0006196279054988005\n",
      "\n"
     ]
    }
   ],
   "source": [
    "## Here we see the freq of word 'blood'\n",
    "for i in wordfreqbyauthor.keys():\n",
    "    print(\"blood: \",i)\n",
    "    print(wordfreqbyauthor[i].freq('blood'))\n",
    "    \n",
    "print()\n",
    "\n",
    "## Here we see the freq of word 'blood'\n",
    "for i in wordfreqbyauthor.keys():\n",
    "    print(\"scream: \",i)\n",
    "    print(wordfreqbyauthor[i].freq('scream'))\n",
    "    \n",
    "print()\n",
    "\n",
    "## Here we see the freq of word 'blood'\n",
    "for i in wordfreqbyauthor.keys():\n",
    "    print(\"fear: \",i)\n",
    "    print(wordfreqbyauthor[i].freq('fear'))\n",
    "    \n",
    "print()\n",
    "\n",
    "\n",
    "\n"
   ]
  },
  {
   "cell_type": "code",
   "execution_count": 14,
   "metadata": {},
   "outputs": [
    {
     "data": {
      "text/plain": [
       "0.0002298361842596689"
      ]
     },
     "execution_count": 14,
     "metadata": {},
     "output_type": "execute_result"
    }
   ],
   "source": [
    "wordfreqbyauthor['HPL'].freq('blood')"
   ]
  },
  {
   "cell_type": "code",
   "execution_count": 15,
   "metadata": {},
   "outputs": [
    {
     "data": {
      "text/plain": [
       "0.00022772649518331984"
      ]
     },
     "execution_count": 15,
     "metadata": {},
     "output_type": "execute_result"
    }
   ],
   "source": [
    "wordfreqbyauthor['MWS'].freq('blood')"
   ]
  },
  {
   "cell_type": "markdown",
   "metadata": {},
   "source": [
    "##in natural language processing we filter out the useless data. these useless data are call stop words"
   ]
  },
  {
   "cell_type": "code",
   "execution_count": 16,
   "metadata": {},
   "outputs": [],
   "source": [
    "train=pd.read_csv(\"/home/aman/anaconda3/spooky-author-identification/train.csv\")\n",
    "test=pd.read_csv(\"/home/aman/anaconda3/spooky-author-identification/test.csv\")\n",
    "sample=pd.read_csv(\"/home/aman/anaconda3/spooky-author-identification/sample_submission.csv\")"
   ]
  },
  {
   "cell_type": "code",
   "execution_count": 17,
   "metadata": {},
   "outputs": [],
   "source": [
    "def multiclass_logloss(actual, predicted, eps=1e-15):\n",
    "    \"\"\"Multi class version of Logarithmic Loss metric.\n",
    "    :param actual: Array containing the actual target classes\n",
    "    :param predicted: Matrix with class predictions, one probability per class\n",
    "    \"\"\"\n",
    "    # Convert 'actual' to a binary array if it's not already:\n",
    "    if len(actual.shape) == 1:\n",
    "        actual2 = np.zeros((actual.shape[0], predicted.shape[1]))\n",
    "        for i, val in enumerate(actual):\n",
    "            actual2[i, val] = 1\n",
    "        actual = actual2\n",
    "\n",
    "    clip = np.clip(predicted, eps, 1 - eps)\n",
    "    rows = actual.shape[0]\n",
    "    vsota = np.sum(actual * np.log(clip))\n",
    "    return -1.0 / rows * vsota"
   ]
  },
  {
   "cell_type": "code",
   "execution_count": 18,
   "metadata": {},
   "outputs": [],
   "source": [
    "lbl_enc=preprocessing.LabelEncoder()"
   ]
  },
  {
   "cell_type": "code",
   "execution_count": 19,
   "metadata": {},
   "outputs": [],
   "source": [
    "y=lbl_enc.fit_transform(train.author.values)"
   ]
  },
  {
   "cell_type": "code",
   "execution_count": 20,
   "metadata": {},
   "outputs": [],
   "source": [
    "num_class=3"
   ]
  },
  {
   "cell_type": "code",
   "execution_count": 21,
   "metadata": {},
   "outputs": [],
   "source": [
    "x_train, x_dev, y_train, y_dev = train_test_split(train.text.values, y, \n",
    "                                                  stratify=y, \n",
    "                                                  random_state=42, \n",
    "                                                  test_size=0.1, shuffle=True)\n",
    "y_train = (np.arange(num_class) == y_train[:, None]).astype(np.float32)\n",
    "y_dev = (np.arange(num_class) == y_dev[:, None]).astype(np.float32)"
   ]
  },
  {
   "cell_type": "code",
   "execution_count": 22,
   "metadata": {},
   "outputs": [
    {
     "data": {
      "text/plain": [
       "(1958, 3)"
      ]
     },
     "execution_count": 22,
     "metadata": {},
     "output_type": "execute_result"
    }
   ],
   "source": [
    "y_dev.shape"
   ]
  },
  {
   "cell_type": "code",
   "execution_count": 23,
   "metadata": {},
   "outputs": [
    {
     "data": {
      "text/plain": [
       "(17621, 3)"
      ]
     },
     "execution_count": 23,
     "metadata": {},
     "output_type": "execute_result"
    }
   ],
   "source": [
    "y_train.shape"
   ]
  },
  {
   "cell_type": "code",
   "execution_count": 24,
   "metadata": {},
   "outputs": [
    {
     "name": "stdout",
     "output_type": "stream",
     "text": [
      "(17621,)\n",
      "(1958,)\n"
     ]
    }
   ],
   "source": [
    "print(x_train.shape)\n",
    "print(x_dev.shape)"
   ]
  },
  {
   "cell_type": "code",
   "execution_count": 25,
   "metadata": {},
   "outputs": [],
   "source": [
    "# Always start with these features. They work (almost) everytime!\n",
    "tfv = TfidfVectorizer(min_df=3,  max_features=None, \n",
    "            strip_accents='unicode', analyzer='word',token_pattern=r'\\w{1,}',\n",
    "            ngram_range=(1, 3), use_idf=1,smooth_idf=1,sublinear_tf=1,\n",
    "            stop_words = 'english')"
   ]
  },
  {
   "cell_type": "code",
   "execution_count": 26,
   "metadata": {},
   "outputs": [
    {
     "data": {
      "text/plain": [
       "TfidfVectorizer(analyzer='word', binary=False, decode_error='strict',\n",
       "                dtype=<class 'numpy.float64'>, encoding='utf-8',\n",
       "                input='content', lowercase=True, max_df=1.0, max_features=None,\n",
       "                min_df=3, ngram_range=(1, 3), norm='l2', preprocessor=None,\n",
       "                smooth_idf=1, stop_words='english', strip_accents='unicode',\n",
       "                sublinear_tf=1, token_pattern='\\\\w{1,}', tokenizer=None,\n",
       "                use_idf=1, vocabulary=None)"
      ]
     },
     "execution_count": 26,
     "metadata": {},
     "output_type": "execute_result"
    }
   ],
   "source": [
    "tfv.fit(list(x_train)+list(x_dev))"
   ]
  },
  {
   "cell_type": "code",
   "execution_count": 27,
   "metadata": {},
   "outputs": [],
   "source": [
    "x_train_tfv=tfv.transform(x_train)\n",
    "x_dev_tfv=tfv.transform(x_dev)"
   ]
  },
  {
   "cell_type": "code",
   "execution_count": 28,
   "metadata": {},
   "outputs": [
    {
     "data": {
      "text/plain": [
       "(1958, 15102)"
      ]
     },
     "execution_count": 28,
     "metadata": {},
     "output_type": "execute_result"
    }
   ],
   "source": [
    "x_dev_tfv.shape"
   ]
  },
  {
   "cell_type": "code",
   "execution_count": 29,
   "metadata": {},
   "outputs": [
    {
     "data": {
      "text/plain": [
       "matrix([[0., 0., 0., ..., 0., 0., 0.],\n",
       "        [0., 0., 0., ..., 0., 0., 0.],\n",
       "        [0., 0., 0., ..., 0., 0., 0.],\n",
       "        ...,\n",
       "        [0., 0., 0., ..., 0., 0., 0.],\n",
       "        [0., 0., 0., ..., 0., 0., 0.],\n",
       "        [0., 0., 0., ..., 0., 0., 0.]])"
      ]
     },
     "execution_count": 29,
     "metadata": {},
     "output_type": "execute_result"
    }
   ],
   "source": [
    "x_train_tfv.todense()\n"
   ]
  },
  {
   "cell_type": "code",
   "execution_count": 30,
   "metadata": {},
   "outputs": [
    {
     "data": {
      "text/plain": [
       "array([0.24694244, 0.31534174, 0.26213576, ..., 0.32150132, 0.31320636,\n",
       "       0.37073425])"
      ]
     },
     "execution_count": 30,
     "metadata": {},
     "output_type": "execute_result"
    }
   ],
   "source": [
    "x_train_tfv.data"
   ]
  },
  {
   "cell_type": "code",
   "execution_count": 31,
   "metadata": {},
   "outputs": [
    {
     "data": {
      "text/plain": [
       "array([     0,     11,     18, ..., 198504, 198513, 198521], dtype=int32)"
      ]
     },
     "execution_count": 31,
     "metadata": {},
     "output_type": "execute_result"
    }
   ],
   "source": [
    "x_train_tfv.indptr"
   ]
  },
  {
   "cell_type": "markdown",
   "metadata": {},
   "source": [
    "## Bag of Words method."
   ]
  },
  {
   "cell_type": "markdown",
   "metadata": {},
   "source": [
    "for reference:_ https://stackabuse.com/python-for-nlp-creating-bag-of-words-model-from-scratch/"
   ]
  },
  {
   "cell_type": "code",
   "execution_count": 32,
   "metadata": {},
   "outputs": [],
   "source": [
    "import random\n",
    "import string\n",
    "import bs4 as bs  \n",
    "import urllib.request  \n",
    "import re \n",
    "import heapq"
   ]
  },
  {
   "cell_type": "code",
   "execution_count": 33,
   "metadata": {},
   "outputs": [],
   "source": [
    "raw_html=urllib.request.urlopen('https://en.wikipedia.org/wiki/Natural_language_processing')"
   ]
  },
  {
   "cell_type": "code",
   "execution_count": 34,
   "metadata": {},
   "outputs": [],
   "source": [
    "raw_html=raw_html.read()\n",
    "article_html=bs.BeautifulSoup(raw_html,'lxml')"
   ]
  },
  {
   "cell_type": "code",
   "execution_count": 35,
   "metadata": {},
   "outputs": [],
   "source": [
    "article_paragraphs = article_html.find_all('p')\n"
   ]
  },
  {
   "cell_type": "code",
   "execution_count": 36,
   "metadata": {},
   "outputs": [],
   "source": [
    "article_text=''\n",
    "for para in article_paragraphs:\n",
    "    article_text+=para.text"
   ]
  },
  {
   "cell_type": "code",
   "execution_count": 37,
   "metadata": {},
   "outputs": [],
   "source": [
    "corpus=nltk.sent_tokenize(article_text)"
   ]
  },
  {
   "cell_type": "code",
   "execution_count": 38,
   "metadata": {},
   "outputs": [],
   "source": [
    "for i in range(len(corpus)):\n",
    "    corpus[i]=corpus[i].lower()\n",
    "    corpus[i]=re.sub(r'\\W',' ',corpus [i])\n",
    "    corpus[i]=re.sub(r'\\s+',' ',corpus [i])"
   ]
  },
  {
   "cell_type": "code",
   "execution_count": 39,
   "metadata": {},
   "outputs": [],
   "source": [
    "word_freq={}\n",
    "for sentence in corpus:\n",
    "    tokens=nltk.word_tokenize(sentence)\n",
    "    for token in tokens:\n",
    "        if token not in word_freq.keys():\n",
    "            word_freq[token]=1\n",
    "        else:\n",
    "            word_freq[token]+=1"
   ]
  },
  {
   "cell_type": "code",
   "execution_count": 40,
   "metadata": {},
   "outputs": [
    {
     "data": {
      "text/plain": [
       "{'natural': 20,\n",
       " 'language': 26,\n",
       " 'processing': 17,\n",
       " 'nlp': 8,\n",
       " 'is': 26,\n",
       " 'a': 44,\n",
       " 'subfield': 1,\n",
       " 'of': 89,\n",
       " 'linguistics': 7,\n",
       " 'computer': 3,\n",
       " 'science': 3,\n",
       " 'information': 5,\n",
       " 'engineering': 1,\n",
       " 'and': 31,\n",
       " 'artificial': 2,\n",
       " 'intelligence': 4,\n",
       " 'concerned': 1,\n",
       " 'with': 7,\n",
       " 'the': 97,\n",
       " 'interactions': 1,\n",
       " 'between': 2,\n",
       " 'computers': 2,\n",
       " 'human': 4,\n",
       " 'languages': 2,\n",
       " 'in': 35,\n",
       " 'particular': 1,\n",
       " 'how': 2,\n",
       " 'to': 36,\n",
       " 'program': 1,\n",
       " 'process': 2,\n",
       " 'analyze': 1,\n",
       " 'large': 4,\n",
       " 'amounts': 2,\n",
       " 'data': 10,\n",
       " 'challenges': 1,\n",
       " 'frequently': 2,\n",
       " 'involve': 1,\n",
       " 'speech': 4,\n",
       " 'recognition': 2,\n",
       " 'understanding': 3,\n",
       " 'generation': 1,\n",
       " 'history': 1,\n",
       " 'generally': 3,\n",
       " 'started': 1,\n",
       " '1950s': 1,\n",
       " 'although': 1,\n",
       " 'work': 3,\n",
       " 'can': 5,\n",
       " 'be': 6,\n",
       " 'found': 2,\n",
       " 'from': 6,\n",
       " 'earlier': 1,\n",
       " 'periods': 1,\n",
       " '1950': 1,\n",
       " 'alan': 1,\n",
       " 'turing': 2,\n",
       " 'published': 3,\n",
       " 'an': 6,\n",
       " 'article': 1,\n",
       " 'titled': 1,\n",
       " 'computing': 1,\n",
       " 'machinery': 1,\n",
       " 'which': 10,\n",
       " 'proposed': 1,\n",
       " 'what': 1,\n",
       " 'now': 2,\n",
       " 'called': 2,\n",
       " 'test': 1,\n",
       " 'as': 19,\n",
       " 'criterion': 1,\n",
       " 'clarification': 1,\n",
       " 'needed': 1,\n",
       " 'georgetown': 1,\n",
       " 'experiment': 1,\n",
       " '1954': 1,\n",
       " 'involved': 1,\n",
       " 'fully': 1,\n",
       " 'automatic': 1,\n",
       " 'translation': 10,\n",
       " 'more': 8,\n",
       " 'than': 4,\n",
       " 'sixty': 2,\n",
       " 'russian': 1,\n",
       " 'sentences': 1,\n",
       " 'into': 6,\n",
       " 'english': 2,\n",
       " 'authors': 2,\n",
       " 'claimed': 1,\n",
       " 'that': 17,\n",
       " 'within': 1,\n",
       " 'three': 1,\n",
       " 'or': 9,\n",
       " 'five': 1,\n",
       " 'years': 1,\n",
       " 'machine': 16,\n",
       " 'would': 1,\n",
       " 'solved': 1,\n",
       " 'problem': 1,\n",
       " '2': 1,\n",
       " 'however': 6,\n",
       " 'real': 7,\n",
       " 'progress': 1,\n",
       " 'was': 8,\n",
       " 'much': 3,\n",
       " 'slower': 1,\n",
       " 'after': 2,\n",
       " 'alpac': 1,\n",
       " 'report': 1,\n",
       " '1966': 2,\n",
       " 'ten': 1,\n",
       " 'year': 1,\n",
       " 'long': 1,\n",
       " 'research': 9,\n",
       " 'had': 2,\n",
       " 'failed': 1,\n",
       " 'fulfill': 1,\n",
       " 'expectations': 1,\n",
       " 'funding': 1,\n",
       " 'for': 16,\n",
       " 'dramatically': 1,\n",
       " 'reduced': 1,\n",
       " 'little': 1,\n",
       " 'further': 1,\n",
       " 'conducted': 1,\n",
       " 'until': 1,\n",
       " 'late': 3,\n",
       " '1980s': 4,\n",
       " 'when': 7,\n",
       " 'first': 3,\n",
       " 'statistical': 9,\n",
       " 'systems': 15,\n",
       " 'were': 8,\n",
       " 'developed': 4,\n",
       " 'some': 7,\n",
       " 'notably': 1,\n",
       " 'successful': 1,\n",
       " '1960s': 1,\n",
       " 'shrdlu': 1,\n",
       " 'system': 3,\n",
       " 'working': 1,\n",
       " 'restricted': 2,\n",
       " 'blocks': 1,\n",
       " 'worlds': 1,\n",
       " 'vocabularies': 1,\n",
       " 'eliza': 3,\n",
       " 'simulation': 1,\n",
       " 'rogerian': 1,\n",
       " 'psychotherapist': 1,\n",
       " 'written': 4,\n",
       " 'by': 7,\n",
       " 'joseph': 1,\n",
       " 'weizenbaum': 1,\n",
       " '1964': 1,\n",
       " 'using': 4,\n",
       " 'almost': 1,\n",
       " 'no': 1,\n",
       " 'about': 2,\n",
       " 'thought': 2,\n",
       " 'emotion': 1,\n",
       " 'sometimes': 1,\n",
       " 'provided': 1,\n",
       " 'startlingly': 1,\n",
       " 'like': 2,\n",
       " 'interaction': 1,\n",
       " 'patient': 1,\n",
       " 'exceeded': 1,\n",
       " 'very': 2,\n",
       " 'small': 1,\n",
       " 'knowledge': 3,\n",
       " 'base': 1,\n",
       " 'might': 1,\n",
       " 'provide': 1,\n",
       " 'generic': 1,\n",
       " 'response': 1,\n",
       " 'example': 3,\n",
       " 'responding': 1,\n",
       " 'my': 1,\n",
       " 'head': 2,\n",
       " 'hurts': 2,\n",
       " 'why': 1,\n",
       " 'do': 1,\n",
       " 'you': 1,\n",
       " 'say': 1,\n",
       " 'your': 1,\n",
       " 'during': 2,\n",
       " '1970s': 1,\n",
       " 'many': 10,\n",
       " 'programmers': 1,\n",
       " 'began': 1,\n",
       " 'write': 1,\n",
       " 'conceptual': 3,\n",
       " 'ontologies': 1,\n",
       " 'structured': 1,\n",
       " 'world': 5,\n",
       " 'understandable': 1,\n",
       " 'examples': 4,\n",
       " 'are': 9,\n",
       " 'margie': 1,\n",
       " 'schank': 1,\n",
       " '1975': 1,\n",
       " 'sam': 1,\n",
       " 'cullingford': 1,\n",
       " '1978': 2,\n",
       " 'pam': 1,\n",
       " 'wilensky': 1,\n",
       " 'talespin': 1,\n",
       " 'meehan': 1,\n",
       " '1976': 1,\n",
       " 'qualm': 1,\n",
       " 'lehnert': 2,\n",
       " '1977': 1,\n",
       " 'politics': 1,\n",
       " 'carbonell': 1,\n",
       " '1979': 1,\n",
       " 'plot': 1,\n",
       " 'units': 1,\n",
       " '1981': 1,\n",
       " 'this': 7,\n",
       " 'time': 2,\n",
       " 'chatterbots': 1,\n",
       " 'including': 2,\n",
       " 'parry': 1,\n",
       " 'racter': 1,\n",
       " 'jabberwacky': 1,\n",
       " 'up': 3,\n",
       " 'most': 3,\n",
       " 'based': 8,\n",
       " 'on': 12,\n",
       " 'complex': 1,\n",
       " 'sets': 1,\n",
       " 'hand': 5,\n",
       " 'rules': 9,\n",
       " 'starting': 1,\n",
       " 'there': 2,\n",
       " 'revolution': 2,\n",
       " 'introduction': 1,\n",
       " 'learning': 14,\n",
       " 'algorithms': 11,\n",
       " 'due': 3,\n",
       " 'both': 2,\n",
       " 'steady': 1,\n",
       " 'increase': 2,\n",
       " 'computational': 1,\n",
       " 'power': 1,\n",
       " 'see': 1,\n",
       " 'moore': 1,\n",
       " 's': 2,\n",
       " 'law': 1,\n",
       " 'gradual': 1,\n",
       " 'lessening': 1,\n",
       " 'dominance': 1,\n",
       " 'chomskyan': 1,\n",
       " 'theories': 1,\n",
       " 'e': 3,\n",
       " 'g': 3,\n",
       " 'transformational': 1,\n",
       " 'grammar': 2,\n",
       " 'whose': 1,\n",
       " 'theoretical': 1,\n",
       " 'underpinnings': 1,\n",
       " 'discouraged': 1,\n",
       " 'sort': 1,\n",
       " 'corpus': 2,\n",
       " 'underlies': 1,\n",
       " 'approach': 1,\n",
       " '3': 1,\n",
       " 'earliest': 2,\n",
       " 'used': 8,\n",
       " 'such': 13,\n",
       " 'decision': 2,\n",
       " 'trees': 3,\n",
       " 'produced': 4,\n",
       " 'hard': 2,\n",
       " 'if': 3,\n",
       " 'then': 3,\n",
       " 'similar': 2,\n",
       " 'existing': 2,\n",
       " 'part': 3,\n",
       " 'tagging': 2,\n",
       " 'introduced': 1,\n",
       " 'use': 2,\n",
       " 'hidden': 1,\n",
       " 'markov': 1,\n",
       " 'models': 8,\n",
       " 'increasingly': 3,\n",
       " 'has': 8,\n",
       " 'focused': 3,\n",
       " 'make': 3,\n",
       " 'soft': 2,\n",
       " 'probabilistic': 3,\n",
       " 'decisions': 2,\n",
       " 'attaching': 2,\n",
       " 'valued': 2,\n",
       " 'weights': 2,\n",
       " 'features': 2,\n",
       " 'making': 1,\n",
       " 'input': 7,\n",
       " 'cache': 1,\n",
       " 'upon': 1,\n",
       " 'rely': 1,\n",
       " 'robust': 1,\n",
       " 'given': 3,\n",
       " 'unfamiliar': 1,\n",
       " 'especially': 2,\n",
       " 'contains': 2,\n",
       " 'errors': 1,\n",
       " 'common': 2,\n",
       " 'produce': 1,\n",
       " 'reliable': 2,\n",
       " 'results': 6,\n",
       " 'integrated': 1,\n",
       " 'larger': 3,\n",
       " 'comprising': 1,\n",
       " 'multiple': 1,\n",
       " 'subtasks': 2,\n",
       " 'notable': 1,\n",
       " 'early': 2,\n",
       " 'successes': 1,\n",
       " 'occurred': 1,\n",
       " 'field': 1,\n",
       " 'at': 1,\n",
       " 'ibm': 1,\n",
       " 'where': 2,\n",
       " 'successively': 1,\n",
       " 'complicated': 1,\n",
       " 'these': 6,\n",
       " 'able': 1,\n",
       " 'take': 2,\n",
       " 'advantage': 2,\n",
       " 'multilingual': 1,\n",
       " 'textual': 1,\n",
       " 'corpora': 4,\n",
       " 'been': 3,\n",
       " 'parliament': 1,\n",
       " 'canada': 1,\n",
       " 'european': 1,\n",
       " 'union': 1,\n",
       " 'result': 2,\n",
       " 'laws': 1,\n",
       " 'calling': 1,\n",
       " 'all': 2,\n",
       " 'governmental': 1,\n",
       " 'proceedings': 1,\n",
       " 'official': 1,\n",
       " 'corresponding': 1,\n",
       " 'government': 1,\n",
       " 'other': 4,\n",
       " 'depended': 1,\n",
       " 'specifically': 1,\n",
       " 'tasks': 8,\n",
       " 'implemented': 1,\n",
       " 'often': 2,\n",
       " 'continues': 1,\n",
       " 'major': 1,\n",
       " 'limitation': 1,\n",
       " 'success': 1,\n",
       " 'great': 1,\n",
       " 'deal': 1,\n",
       " 'gone': 1,\n",
       " 'methods': 2,\n",
       " 'effectively': 1,\n",
       " 'limited': 1,\n",
       " 'recent': 1,\n",
       " 'unsupervised': 1,\n",
       " 'semi': 1,\n",
       " 'supervised': 2,\n",
       " 'learn': 3,\n",
       " 'not': 2,\n",
       " 'annotated': 4,\n",
       " 'desired': 1,\n",
       " 'answers': 2,\n",
       " 'combination': 1,\n",
       " 'non': 2,\n",
       " 'task': 4,\n",
       " 'difficult': 1,\n",
       " 'typically': 1,\n",
       " 'produces': 1,\n",
       " 'less': 2,\n",
       " 'accurate': 1,\n",
       " 'amount': 2,\n",
       " 'enormous': 1,\n",
       " 'available': 1,\n",
       " 'among': 1,\n",
       " 'things': 1,\n",
       " 'entire': 1,\n",
       " 'content': 1,\n",
       " 'wide': 1,\n",
       " 'web': 1,\n",
       " 'inferior': 1,\n",
       " 'algorithm': 2,\n",
       " 'low': 1,\n",
       " 'enough': 1,\n",
       " 'complexity': 1,\n",
       " 'practical': 1,\n",
       " '2010s': 1,\n",
       " 'representation': 1,\n",
       " 'deep': 3,\n",
       " 'neural': 3,\n",
       " 'network': 2,\n",
       " 'style': 1,\n",
       " 'became': 1,\n",
       " 'widespread': 1,\n",
       " 'flurry': 1,\n",
       " 'showing': 1,\n",
       " 'techniques': 2,\n",
       " '4': 1,\n",
       " '5': 1,\n",
       " 'achieve': 1,\n",
       " 'state': 1,\n",
       " 'art': 1,\n",
       " 'modeling': 2,\n",
       " '6': 1,\n",
       " 'parsing': 2,\n",
       " '7': 1,\n",
       " '8': 1,\n",
       " 'others': 2,\n",
       " 'popular': 1,\n",
       " 'include': 1,\n",
       " 'word': 6,\n",
       " 'embeddings': 1,\n",
       " 'capture': 1,\n",
       " 'semantic': 1,\n",
       " 'properties': 1,\n",
       " 'words': 2,\n",
       " 'end': 2,\n",
       " 'higher': 1,\n",
       " 'level': 1,\n",
       " 'question': 1,\n",
       " 'answering': 1,\n",
       " 'instead': 2,\n",
       " 'relying': 1,\n",
       " 'pipeline': 1,\n",
       " 'separate': 1,\n",
       " 'intermediate': 2,\n",
       " 'dependency': 1,\n",
       " 'areas': 1,\n",
       " 'shift': 1,\n",
       " 'entailed': 1,\n",
       " 'substantial': 1,\n",
       " 'changes': 1,\n",
       " 'designed': 2,\n",
       " 'approaches': 2,\n",
       " 'may': 1,\n",
       " 'viewed': 1,\n",
       " 'new': 1,\n",
       " 'paradigm': 2,\n",
       " 'distinct': 1,\n",
       " 'instance': 1,\n",
       " 'term': 1,\n",
       " 'nmt': 1,\n",
       " 'emphasizes': 1,\n",
       " 'fact': 1,\n",
       " 'directly': 1,\n",
       " 'sequence': 3,\n",
       " 'transformations': 1,\n",
       " 'obviating': 1,\n",
       " 'need': 1,\n",
       " 'steps': 1,\n",
       " 'alignment': 1,\n",
       " 'smt': 1,\n",
       " 'days': 1,\n",
       " 'coding': 1,\n",
       " 'set': 3,\n",
       " '9': 1,\n",
       " '10': 1,\n",
       " 'writing': 1,\n",
       " 'grammars': 1,\n",
       " 'devising': 1,\n",
       " 'heuristic': 1,\n",
       " 'stemming': 1,\n",
       " 'since': 1,\n",
       " 'so': 1,\n",
       " '11': 1,\n",
       " '12': 1,\n",
       " 'mid': 1,\n",
       " '1990s': 1,\n",
       " 'relied': 1,\n",
       " 'heavily': 1,\n",
       " 'calls': 1,\n",
       " 'inference': 3,\n",
       " 'automatically': 1,\n",
       " 'through': 3,\n",
       " 'analysis': 1,\n",
       " 'plural': 1,\n",
       " 'form': 1,\n",
       " 'documents': 1,\n",
       " 'possibly': 1,\n",
       " 'annotations': 1,\n",
       " 'typical': 1,\n",
       " 'different': 2,\n",
       " 'classes': 1,\n",
       " 'have': 4,\n",
       " 'applied': 1,\n",
       " 'generated': 1,\n",
       " 'handwritten': 1,\n",
       " 'each': 1,\n",
       " 'feature': 1,\n",
       " 'they': 2,\n",
       " 'express': 1,\n",
       " 'relative': 3,\n",
       " 'certainty': 1,\n",
       " 'possible': 1,\n",
       " 'rather': 1,\n",
       " 'only': 1,\n",
       " 'one': 3,\n",
       " 'producing': 1,\n",
       " 'model': 1,\n",
       " 'included': 1,\n",
       " 'component': 1,\n",
       " 'advantages': 1,\n",
       " 'over': 1,\n",
       " 'following': 1,\n",
       " 'list': 1,\n",
       " 'commonly': 2,\n",
       " 'researched': 1,\n",
       " 'direct': 1,\n",
       " 'applications': 1,\n",
       " 'while': 1,\n",
       " 'serve': 1,\n",
       " 'aid': 1,\n",
       " 'solving': 1,\n",
       " 'though': 1,\n",
       " 'closely': 1,\n",
       " 'intertwined': 1,\n",
       " 'subdivided': 1,\n",
       " 'categories': 1,\n",
       " 'convenience': 1,\n",
       " 'coarse': 1,\n",
       " 'division': 1,\n",
       " 'below': 1,\n",
       " '2018': 1,\n",
       " '1': 1,\n",
       " 'road': 1,\n",
       " 'marketed': 1,\n",
       " 'novel': 1,\n",
       " 'million': 1,\n",
       " 'cognition': 1,\n",
       " 'refers': 1,\n",
       " 'mental': 1,\n",
       " 'action': 1,\n",
       " 'acquiring': 1,\n",
       " 'experience': 2,\n",
       " 'senses': 1,\n",
       " '19': 1,\n",
       " 'cognitive': 8,\n",
       " 'interdisciplinary': 2,\n",
       " 'scientific': 1,\n",
       " 'study': 1,\n",
       " 'mind': 1,\n",
       " 'its': 1,\n",
       " 'processes': 1,\n",
       " '20': 1,\n",
       " 'branch': 1,\n",
       " 'combining': 1,\n",
       " 'psychology': 1,\n",
       " '21': 1,\n",
       " 'george': 1,\n",
       " 'lakoff': 2,\n",
       " 'offers': 1,\n",
       " 'methodology': 1,\n",
       " 'build': 1,\n",
       " 'perspective': 1,\n",
       " 'along': 2,\n",
       " 'findings': 1,\n",
       " '22': 1,\n",
       " 'defining': 2,\n",
       " 'aspect': 2,\n",
       " 'application': 1,\n",
       " 'theory': 1,\n",
       " 'metaphor': 2,\n",
       " 'explained': 1,\n",
       " 'idea': 3,\n",
       " 'terms': 1,\n",
       " 'another': 1,\n",
       " 'provides': 1,\n",
       " 'intent': 4,\n",
       " 'author': 4,\n",
       " '23': 1,\n",
       " 'consider': 1,\n",
       " 'meanings': 1,\n",
       " 'big': 6,\n",
       " 'comparative': 1,\n",
       " 'tree': 2,\n",
       " 'likely': 2,\n",
       " 'imply': 2,\n",
       " 'statement': 1,\n",
       " 'being': 5,\n",
       " 'physically': 1,\n",
       " 'comparison': 1,\n",
       " 'stative': 1,\n",
       " 'verb': 1,\n",
       " 'tomorrow': 1,\n",
       " 'day': 1,\n",
       " 'it': 1,\n",
       " 'importance': 1,\n",
       " 'presented': 3,\n",
       " 'complete': 1,\n",
       " 'but': 1,\n",
       " 'merely': 1,\n",
       " 'indicators': 1,\n",
       " 'implication': 1,\n",
       " 'behind': 1,\n",
       " 'usages': 1,\n",
       " 'she': 1,\n",
       " 'person': 2,\n",
       " 'will': 1,\n",
       " 'remain': 1,\n",
       " 'somewhat': 1,\n",
       " 'ambiguous': 1,\n",
       " 'alike': 1,\n",
       " 'without': 1,\n",
       " 'additional': 1,\n",
       " 'leads': 1,\n",
       " 'second': 1,\n",
       " 'namely': 1,\n",
       " 'context': 1,\n",
       " 'free': 1,\n",
       " 'pcfg': 1,\n",
       " 'enables': 1,\n",
       " 'assign': 1,\n",
       " 'measures': 1,\n",
       " 'meaning': 3,\n",
       " 'phrase': 2,\n",
       " 'sentence': 2,\n",
       " 'piece': 2,\n",
       " 'text': 3,\n",
       " 'before': 1,\n",
       " 'analyzed': 3,\n",
       " 'mathematical': 1,\n",
       " 'equation': 1,\n",
       " 'us': 1,\n",
       " 'patent': 1,\n",
       " '9269353': 1,\n",
       " 'rmm': 1,\n",
       " 'measure': 2,\n",
       " 'token': 2,\n",
       " 'any': 1,\n",
       " 'block': 1,\n",
       " 'n': 3,\n",
       " 'number': 2,\n",
       " 'tokens': 3,\n",
       " 'pmm': 1,\n",
       " 'probable': 1,\n",
       " 'd': 1,\n",
       " 'location': 1,\n",
       " 'pf': 1,\n",
       " 'probability': 1,\n",
       " 'function': 1,\n",
       " 'specific': 1}"
      ]
     },
     "execution_count": 40,
     "metadata": {},
     "output_type": "execute_result"
    }
   ],
   "source": [
    "word_freq"
   ]
  },
  {
   "cell_type": "code",
   "execution_count": 41,
   "metadata": {},
   "outputs": [
    {
     "data": {
      "text/plain": [
       "649"
      ]
     },
     "execution_count": 41,
     "metadata": {},
     "output_type": "execute_result"
    }
   ],
   "source": [
    "len(word_freq)"
   ]
  },
  {
   "cell_type": "code",
   "execution_count": 42,
   "metadata": {},
   "outputs": [],
   "source": [
    "most_freq = heapq.nlargest(200, word_freq, key=word_freq.get)"
   ]
  },
  {
   "cell_type": "code",
   "execution_count": 43,
   "metadata": {},
   "outputs": [
    {
     "data": {
      "text/plain": [
       "200"
      ]
     },
     "execution_count": 43,
     "metadata": {},
     "output_type": "execute_result"
    }
   ],
   "source": [
    "len(most_freq)"
   ]
  },
  {
   "cell_type": "code",
   "execution_count": 44,
   "metadata": {},
   "outputs": [],
   "source": [
    "sentence_vector=[]\n",
    "for sentence in corpus:\n",
    "    sentence_tokes=nltk.word_tokenize(sentence)\n",
    "    set_toke=[]\n",
    "    for token in most_freq:\n",
    "        if token in sentence_tokes:\n",
    "            set_toke.append(1)\n",
    "        else:\n",
    "            set_toke.append(0)\n",
    "    sentence_vector.append(set_toke)\n",
    "    "
   ]
  },
  {
   "cell_type": "code",
   "execution_count": 45,
   "metadata": {},
   "outputs": [],
   "source": [
    "senVect=np.asarray(sentence_vector)"
   ]
  },
  {
   "cell_type": "code",
   "execution_count": 46,
   "metadata": {},
   "outputs": [
    {
     "data": {
      "text/plain": [
       "array([[1, 1, 1, ..., 0, 0, 0],\n",
       "       [0, 0, 0, ..., 0, 0, 0],\n",
       "       [1, 1, 0, ..., 0, 0, 0],\n",
       "       ...,\n",
       "       [1, 0, 1, ..., 0, 0, 0],\n",
       "       [1, 1, 1, ..., 0, 0, 0],\n",
       "       [1, 1, 1, ..., 0, 0, 0]])"
      ]
     },
     "execution_count": 46,
     "metadata": {},
     "output_type": "execute_result"
    }
   ],
   "source": [
    "senVect"
   ]
  },
  {
   "cell_type": "markdown",
   "metadata": {},
   "source": [
    "Here we lower the content"
   ]
  },
  {
   "cell_type": "code",
   "execution_count": 47,
   "metadata": {},
   "outputs": [],
   "source": [
    "for i in range(len(x_train)):\n",
    "    x_train[i]=x_train[i].lower()\n",
    "    x_train[i]=re.sub(r'\\W',' ',x_train[i])\n",
    "    x_train[i]=re.sub(r'\\s+',' ',x_train [i])"
   ]
  },
  {
   "cell_type": "markdown",
   "metadata": {},
   "source": [
    "# 2.Here we remove some.."
   ]
  },
  {
   "cell_type": "markdown",
   "metadata": {},
   "source": [
    "% Strip all HTML\n",
    "% Looks for any expression that starts with < and ends with > and replace\n",
    "% and does not have any < or > in the tag it with a space\n",
    "email_contents = regexprep(email_contents, '<[^<>]+>', ' ');\n",
    "\n",
    "% Handle Numbers\n",
    "% Look for one or more characters between 0-9\n",
    "email_contents = regexprep(email_contents, '[0-9]+', 'number');\n",
    "\n",
    "% Handle URLS\n",
    "% Look for strings starting with http:// or https://\n",
    "email_contents = regexprep(email_contents, ...\n",
    "                           '(http|https)://[^\\s]*', 'httpaddr');\n",
    "\n",
    "% Handle Email Addresses\n",
    "% Look for strings with @ in the middle\n",
    "email_contents = regexprep(email_contents, '[^\\s]+@[^\\s]+', 'emailaddr');\n",
    "\n",
    "% Handle $ sign\n",
    "email_contents = regexprep(email_contents, '[$]+', 'dollar');"
   ]
  },
  {
   "cell_type": "code",
   "execution_count": 48,
   "metadata": {},
   "outputs": [],
   "source": [
    "a='to substcribe my channel plz follow this link- https://gaana.com/song/dil-ka-qaraar or you can follow me on fb-  https://www.facebook.com/aman.darash.37'"
   ]
  },
  {
   "cell_type": "code",
   "execution_count": 49,
   "metadata": {},
   "outputs": [],
   "source": [
    "a='my name is>then the 6799[obey the rule]'"
   ]
  },
  {
   "cell_type": "code",
   "execution_count": 50,
   "metadata": {},
   "outputs": [],
   "source": [
    "s=re.sub(r'[0-9]+','number',a)"
   ]
  },
  {
   "cell_type": "code",
   "execution_count": 51,
   "metadata": {},
   "outputs": [],
   "source": [
    "s=re.sub(r'[^\\s]+@[^\\s]+','emailaddr',a)"
   ]
  },
  {
   "cell_type": "code",
   "execution_count": 52,
   "metadata": {},
   "outputs": [],
   "source": [
    "s=re.sub(r'(http|https)://[^\\s]*', 'httpaddr',a)"
   ]
  },
  {
   "cell_type": "code",
   "execution_count": 53,
   "metadata": {},
   "outputs": [],
   "source": [
    "s=re.sub(r'<[^<>]+>','',a)"
   ]
  },
  {
   "cell_type": "code",
   "execution_count": 54,
   "metadata": {},
   "outputs": [],
   "source": [
    "def processcStat(content):\n",
    "    for i in range(len(content)):\n",
    "        content[i]=re.sub(r'[0-9]+','number',content[i])\n",
    "        content[i]=re.sub(r'[^\\s]+@[^\\s]+','emailaddr',content[i])\n",
    "        content[i]=re.sub(r'(http|https)://[^\\s]*', 'httpaddr',content[i])\n",
    "        content[i]=re.sub(r'<[^<>]+>','',content[i])\n",
    "        "
   ]
  },
  {
   "cell_type": "code",
   "execution_count": 55,
   "metadata": {},
   "outputs": [],
   "source": [
    "processcStat(x_train)"
   ]
  },
  {
   "cell_type": "code",
   "execution_count": 53,
   "metadata": {},
   "outputs": [],
   "source": [
    "m=x_train[1]"
   ]
  },
  {
   "cell_type": "code",
   "execution_count": 54,
   "metadata": {},
   "outputs": [
    {
     "data": {
      "text/plain": [
       "' no he said oh no a member of my family my niece and a most accomplished woman '"
      ]
     },
     "execution_count": 54,
     "metadata": {},
     "output_type": "execute_result"
    }
   ],
   "source": [
    "m.lower()"
   ]
  },
  {
   "cell_type": "code",
   "execution_count": 56,
   "metadata": {},
   "outputs": [],
   "source": [
    "word_freq={}\n",
    "for sentence in x_train:\n",
    "    sentence=sentence.lower()\n",
    "    tokens=nltk.word_tokenize(sentence)\n",
    "    for token in tokens:\n",
    "        if token not in word_freq.keys():\n",
    "            word_freq[token]=1\n",
    "        else:\n",
    "            word_freq[token]+=1"
   ]
  },
  {
   "cell_type": "code",
   "execution_count": 57,
   "metadata": {},
   "outputs": [],
   "source": [
    "aman=word_freq.copy()"
   ]
  },
  {
   "cell_type": "code",
   "execution_count": 57,
   "metadata": {},
   "outputs": [
    {
     "data": {
      "text/plain": [
       "array(['her hair was the brightest living gold and despite the poverty of her clothing seemed to set a crown of distinction on her head ',\n",
       "       ' no he said oh no a member of my family my niece and a most accomplished woman ',\n",
       "       'the magistrate appeared at first perfectly incredulous but as i continued he became more attentive and interested i saw him sometimes shudder with horror at others a lively surprise unmingled with disbelief was painted on his countenance ',\n",
       "       ...,\n",
       "       'the medical testimony spoke confidently of the virtuous character of the deceased ',\n",
       "       'when we arrived after a little rest he led me over the house and pointed out to me the rooms which my mother had inhabited ',\n",
       "       'some were destroyed the major part escaped by quick and well ordered movements and danger made them careful '],\n",
       "      dtype=object)"
      ]
     },
     "execution_count": 57,
     "metadata": {},
     "output_type": "execute_result"
    }
   ],
   "source": [
    "x_train"
   ]
  },
  {
   "cell_type": "code",
   "execution_count": 58,
   "metadata": {},
   "outputs": [
    {
     "data": {
      "text/plain": [
       "24005"
      ]
     },
     "execution_count": 58,
     "metadata": {},
     "output_type": "execute_result"
    }
   ],
   "source": [
    "len(word_freq)"
   ]
  },
  {
   "cell_type": "code",
   "execution_count": 58,
   "metadata": {},
   "outputs": [],
   "source": [
    "from sklearn import metrics"
   ]
  },
  {
   "cell_type": "code",
   "execution_count": 63,
   "metadata": {},
   "outputs": [],
   "source": [
    "\n",
    "for words in aman.keys():\n",
    "    if words in stopwords.words():\n",
    "        word_freq.pop(words)"
   ]
  },
  {
   "cell_type": "code",
   "execution_count": 59,
   "metadata": {},
   "outputs": [
    {
     "data": {
      "text/plain": [
       "9758"
      ]
     },
     "execution_count": 59,
     "metadata": {},
     "output_type": "execute_result"
    }
   ],
   "source": [
    "word_freq['i']"
   ]
  },
  {
   "cell_type": "code",
   "execution_count": 60,
   "metadata": {},
   "outputs": [
    {
     "data": {
      "text/plain": [
       "24005"
      ]
     },
     "execution_count": 60,
     "metadata": {},
     "output_type": "execute_result"
    }
   ],
   "source": [
    "len(word_freq)"
   ]
  },
  {
   "cell_type": "code",
   "execution_count": 63,
   "metadata": {},
   "outputs": [],
   "source": [
    "most_freq=heapq.nlargest(300, word_freq, key=word_freq.get)"
   ]
  },
  {
   "cell_type": "code",
   "execution_count": 64,
   "metadata": {},
   "outputs": [
    {
     "data": {
      "text/plain": [
       "['the',\n",
       " 'of',\n",
       " 'and',\n",
       " 'to',\n",
       " 'i',\n",
       " 'a',\n",
       " 'in',\n",
       " 'was',\n",
       " 'that',\n",
       " 'my',\n",
       " 'it',\n",
       " 'had',\n",
       " 'he',\n",
       " 'with',\n",
       " 'his',\n",
       " 'as',\n",
       " 'for',\n",
       " 'not',\n",
       " 'which',\n",
       " 'but',\n",
       " 'at',\n",
       " 'me',\n",
       " 'from',\n",
       " 'by',\n",
       " 'is',\n",
       " 'this',\n",
       " 'on',\n",
       " 'be',\n",
       " 'her',\n",
       " 'were',\n",
       " 'have',\n",
       " 'all',\n",
       " 'you',\n",
       " 'an',\n",
       " 'we',\n",
       " 'or',\n",
       " 'no',\n",
       " 'one',\n",
       " 'so',\n",
       " 'him',\n",
       " 'when',\n",
       " 'they',\n",
       " 'been',\n",
       " 'upon',\n",
       " 's',\n",
       " 'there',\n",
       " 'could',\n",
       " 'she',\n",
       " 'its',\n",
       " 'more',\n",
       " 'would',\n",
       " 'now',\n",
       " 'their',\n",
       " 'what',\n",
       " 'some',\n",
       " 'our',\n",
       " 'are',\n",
       " 'into',\n",
       " 'than',\n",
       " 'will',\n",
       " 'very',\n",
       " 'if',\n",
       " 'who',\n",
       " 'only',\n",
       " 'them',\n",
       " 'then',\n",
       " 'up',\n",
       " 'man',\n",
       " 'before',\n",
       " 'these',\n",
       " 'about',\n",
       " 'any',\n",
       " 'yet',\n",
       " 'said',\n",
       " 'did',\n",
       " 'even',\n",
       " 'out',\n",
       " 'time',\n",
       " 'your',\n",
       " 'can',\n",
       " 'might',\n",
       " 'after',\n",
       " 'like',\n",
       " 'must',\n",
       " 'old',\n",
       " 'most',\n",
       " 'us',\n",
       " 'first',\n",
       " 'over',\n",
       " 'other',\n",
       " 'through',\n",
       " 'never',\n",
       " 'night',\n",
       " 'life',\n",
       " 'do',\n",
       " 'such',\n",
       " 'found',\n",
       " 'made',\n",
       " 'should',\n",
       " 'eyes',\n",
       " 'seemed',\n",
       " 'those',\n",
       " 'little',\n",
       " 'while',\n",
       " 'great',\n",
       " 'still',\n",
       " 'myself',\n",
       " 'every',\n",
       " 'long',\n",
       " 'day',\n",
       " 'saw',\n",
       " 'has',\n",
       " 'where',\n",
       " 'many',\n",
       " 'own',\n",
       " 'well',\n",
       " 'again',\n",
       " 'came',\n",
       " 'down',\n",
       " 'much',\n",
       " 'how',\n",
       " 'thought',\n",
       " 'may',\n",
       " 'two',\n",
       " 'being',\n",
       " 'see',\n",
       " 'once',\n",
       " 'say',\n",
       " 'ever',\n",
       " 'thus',\n",
       " 'here',\n",
       " 'whose',\n",
       " 'am',\n",
       " 'death',\n",
       " 'heart',\n",
       " 'mind',\n",
       " 'too',\n",
       " 'far',\n",
       " 'without',\n",
       " 'house',\n",
       " 'heard',\n",
       " 'shall',\n",
       " 'men',\n",
       " 'things',\n",
       " 'however',\n",
       " 'left',\n",
       " 'thing',\n",
       " 'felt',\n",
       " 'place',\n",
       " 'years',\n",
       " 'love',\n",
       " 'last',\n",
       " 'know',\n",
       " 'earth',\n",
       " 'world',\n",
       " 'himself',\n",
       " 'though',\n",
       " 'indeed',\n",
       " 'come',\n",
       " 'light',\n",
       " 'few',\n",
       " 'head',\n",
       " 'back',\n",
       " 't',\n",
       " 'became',\n",
       " 'way',\n",
       " 'within',\n",
       " 'having',\n",
       " 'door',\n",
       " 'room',\n",
       " 'away',\n",
       " 'hand',\n",
       " 'nature',\n",
       " 'let',\n",
       " 'words',\n",
       " 'nor',\n",
       " 'nothing',\n",
       " 'make',\n",
       " 'strange',\n",
       " 'length',\n",
       " 'friend',\n",
       " 'same',\n",
       " 'whole',\n",
       " 'seen',\n",
       " 'human',\n",
       " 'knew',\n",
       " 'among',\n",
       " 'soon',\n",
       " 'voice',\n",
       " 'good',\n",
       " 'each',\n",
       " 'half',\n",
       " 'under',\n",
       " 'raymond',\n",
       " 'three',\n",
       " 'new',\n",
       " 'father',\n",
       " 'although',\n",
       " 'beyond',\n",
       " 'part',\n",
       " 'less',\n",
       " 'during',\n",
       " 'moment',\n",
       " 'soul',\n",
       " 'alone',\n",
       " 'another',\n",
       " 'o',\n",
       " 'just',\n",
       " 'since',\n",
       " 'off',\n",
       " 'almost',\n",
       " 'gave',\n",
       " 'near',\n",
       " 'sea',\n",
       " 'fear',\n",
       " 'air',\n",
       " 'took',\n",
       " 'full',\n",
       " 'young',\n",
       " 'city',\n",
       " 'dark',\n",
       " 'body',\n",
       " 'something',\n",
       " 'above',\n",
       " 'find',\n",
       " 'looked',\n",
       " 'around',\n",
       " 'days',\n",
       " 'small',\n",
       " 'why',\n",
       " 'end',\n",
       " 'passed',\n",
       " 'told',\n",
       " 'appeared',\n",
       " 'went',\n",
       " 'whom',\n",
       " 'lay',\n",
       " 'certain',\n",
       " 'itself',\n",
       " 'also',\n",
       " 'face',\n",
       " 'course',\n",
       " 'dead',\n",
       " 'open',\n",
       " 'spirit',\n",
       " 'perhaps',\n",
       " 'point',\n",
       " 'idea',\n",
       " 'think',\n",
       " 'horror',\n",
       " 'take',\n",
       " 'go',\n",
       " 'mr',\n",
       " 'until',\n",
       " 'black',\n",
       " 'water',\n",
       " 'between',\n",
       " 'deep',\n",
       " 'matter',\n",
       " 'high',\n",
       " 'form',\n",
       " 'tell',\n",
       " 'feet',\n",
       " 'look',\n",
       " 'known',\n",
       " 'hope',\n",
       " 'kind',\n",
       " 'least',\n",
       " 'manner',\n",
       " 'began',\n",
       " 'name',\n",
       " 'moon',\n",
       " 'often',\n",
       " 'street',\n",
       " 'side',\n",
       " 'because',\n",
       " 'become',\n",
       " 'turned',\n",
       " 'right',\n",
       " 'rather',\n",
       " 'against',\n",
       " 'sun',\n",
       " 'lost',\n",
       " 'always',\n",
       " 'hour',\n",
       " 'perdita',\n",
       " 'power',\n",
       " 'towards',\n",
       " 'ancient',\n",
       " 'home',\n",
       " 'feel',\n",
       " 'taken',\n",
       " 'people',\n",
       " 'spoke',\n",
       " 'morning',\n",
       " 'thousand',\n",
       " 'scene',\n",
       " 'means',\n",
       " 'hours',\n",
       " 'brought']"
      ]
     },
     "execution_count": 64,
     "metadata": {},
     "output_type": "execute_result"
    }
   ],
   "source": [
    "most_freq"
   ]
  },
  {
   "cell_type": "code",
   "execution_count": 65,
   "metadata": {},
   "outputs": [
    {
     "data": {
      "text/plain": [
       "['the',\n",
       " 'of',\n",
       " 'and',\n",
       " 'to',\n",
       " 'i',\n",
       " 'a',\n",
       " 'in',\n",
       " 'was',\n",
       " 'that',\n",
       " 'my',\n",
       " 'it',\n",
       " 'had',\n",
       " 'he',\n",
       " 'with',\n",
       " 'his',\n",
       " 'as',\n",
       " 'for',\n",
       " 'not',\n",
       " 'which',\n",
       " 'but',\n",
       " 'at',\n",
       " 'me',\n",
       " 'from',\n",
       " 'by',\n",
       " 'is',\n",
       " 'this',\n",
       " 'on',\n",
       " 'be',\n",
       " 'her',\n",
       " 'were',\n",
       " 'have',\n",
       " 'all',\n",
       " 'you',\n",
       " 'an',\n",
       " 'we',\n",
       " 'or',\n",
       " 'no',\n",
       " 'one',\n",
       " 'so',\n",
       " 'him',\n",
       " 'when',\n",
       " 'they',\n",
       " 'been',\n",
       " 'upon',\n",
       " 's',\n",
       " 'there',\n",
       " 'could',\n",
       " 'she',\n",
       " 'its',\n",
       " 'more',\n",
       " 'would',\n",
       " 'now',\n",
       " 'their',\n",
       " 'what',\n",
       " 'some',\n",
       " 'our',\n",
       " 'are',\n",
       " 'into',\n",
       " 'than',\n",
       " 'will',\n",
       " 'very',\n",
       " 'if',\n",
       " 'who',\n",
       " 'only',\n",
       " 'them',\n",
       " 'then',\n",
       " 'up',\n",
       " 'man',\n",
       " 'before',\n",
       " 'these',\n",
       " 'about',\n",
       " 'any',\n",
       " 'yet',\n",
       " 'said',\n",
       " 'did',\n",
       " 'even',\n",
       " 'out',\n",
       " 'time',\n",
       " 'your',\n",
       " 'can',\n",
       " 'might',\n",
       " 'after',\n",
       " 'like',\n",
       " 'must',\n",
       " 'old',\n",
       " 'most',\n",
       " 'us',\n",
       " 'first',\n",
       " 'over',\n",
       " 'other',\n",
       " 'through',\n",
       " 'never',\n",
       " 'night',\n",
       " 'life',\n",
       " 'do',\n",
       " 'such',\n",
       " 'found',\n",
       " 'made',\n",
       " 'should',\n",
       " 'eyes',\n",
       " 'seemed',\n",
       " 'those',\n",
       " 'little',\n",
       " 'while',\n",
       " 'great',\n",
       " 'still',\n",
       " 'myself',\n",
       " 'every',\n",
       " 'long',\n",
       " 'day',\n",
       " 'saw',\n",
       " 'has',\n",
       " 'where',\n",
       " 'many',\n",
       " 'own',\n",
       " 'well',\n",
       " 'again',\n",
       " 'came',\n",
       " 'down',\n",
       " 'much',\n",
       " 'how',\n",
       " 'thought',\n",
       " 'may',\n",
       " 'two',\n",
       " 'being',\n",
       " 'see',\n",
       " 'once',\n",
       " 'say',\n",
       " 'ever',\n",
       " 'thus',\n",
       " 'here',\n",
       " 'whose',\n",
       " 'am',\n",
       " 'death',\n",
       " 'heart',\n",
       " 'mind',\n",
       " 'too',\n",
       " 'far',\n",
       " 'without',\n",
       " 'house',\n",
       " 'heard',\n",
       " 'shall',\n",
       " 'men',\n",
       " 'things',\n",
       " 'however',\n",
       " 'left',\n",
       " 'thing',\n",
       " 'felt',\n",
       " 'place',\n",
       " 'years',\n",
       " 'love',\n",
       " 'last',\n",
       " 'know',\n",
       " 'earth',\n",
       " 'world',\n",
       " 'himself',\n",
       " 'though',\n",
       " 'indeed',\n",
       " 'come',\n",
       " 'light',\n",
       " 'few',\n",
       " 'head',\n",
       " 'back',\n",
       " 't',\n",
       " 'became',\n",
       " 'way',\n",
       " 'within',\n",
       " 'having',\n",
       " 'door',\n",
       " 'room',\n",
       " 'away',\n",
       " 'hand',\n",
       " 'nature',\n",
       " 'let',\n",
       " 'words',\n",
       " 'nor',\n",
       " 'nothing',\n",
       " 'make',\n",
       " 'strange',\n",
       " 'length',\n",
       " 'friend',\n",
       " 'same',\n",
       " 'whole',\n",
       " 'seen',\n",
       " 'human',\n",
       " 'knew',\n",
       " 'among',\n",
       " 'soon',\n",
       " 'voice',\n",
       " 'good',\n",
       " 'each',\n",
       " 'half',\n",
       " 'under',\n",
       " 'raymond',\n",
       " 'three',\n",
       " 'new',\n",
       " 'father',\n",
       " 'although',\n",
       " 'beyond',\n",
       " 'part',\n",
       " 'less',\n",
       " 'during',\n",
       " 'moment',\n",
       " 'soul',\n",
       " 'alone',\n",
       " 'another',\n",
       " 'o',\n",
       " 'just',\n",
       " 'since',\n",
       " 'off',\n",
       " 'almost',\n",
       " 'gave',\n",
       " 'near',\n",
       " 'sea',\n",
       " 'fear',\n",
       " 'air',\n",
       " 'took',\n",
       " 'full',\n",
       " 'young',\n",
       " 'city',\n",
       " 'dark',\n",
       " 'body',\n",
       " 'something',\n",
       " 'above',\n",
       " 'find',\n",
       " 'looked',\n",
       " 'around',\n",
       " 'days',\n",
       " 'small',\n",
       " 'why',\n",
       " 'end',\n",
       " 'passed',\n",
       " 'told',\n",
       " 'appeared',\n",
       " 'went',\n",
       " 'whom',\n",
       " 'lay',\n",
       " 'certain',\n",
       " 'itself',\n",
       " 'also',\n",
       " 'face',\n",
       " 'course',\n",
       " 'dead',\n",
       " 'open',\n",
       " 'spirit',\n",
       " 'perhaps',\n",
       " 'point',\n",
       " 'idea',\n",
       " 'think',\n",
       " 'horror',\n",
       " 'take',\n",
       " 'go',\n",
       " 'mr',\n",
       " 'until',\n",
       " 'black',\n",
       " 'water',\n",
       " 'between',\n",
       " 'deep',\n",
       " 'matter',\n",
       " 'high',\n",
       " 'form',\n",
       " 'tell',\n",
       " 'feet',\n",
       " 'look',\n",
       " 'known',\n",
       " 'hope',\n",
       " 'kind',\n",
       " 'least',\n",
       " 'manner',\n",
       " 'began',\n",
       " 'name',\n",
       " 'moon',\n",
       " 'often',\n",
       " 'street',\n",
       " 'side',\n",
       " 'because',\n",
       " 'become',\n",
       " 'turned',\n",
       " 'right',\n",
       " 'rather',\n",
       " 'against',\n",
       " 'sun',\n",
       " 'lost',\n",
       " 'always',\n",
       " 'hour',\n",
       " 'perdita',\n",
       " 'power',\n",
       " 'towards',\n",
       " 'ancient',\n",
       " 'home',\n",
       " 'feel',\n",
       " 'taken',\n",
       " 'people',\n",
       " 'spoke',\n",
       " 'morning',\n",
       " 'thousand',\n",
       " 'scene',\n",
       " 'means',\n",
       " 'hours',\n",
       " 'brought']"
      ]
     },
     "execution_count": 65,
     "metadata": {},
     "output_type": "execute_result"
    }
   ],
   "source": [
    "most_freq"
   ]
  },
  {
   "cell_type": "code",
   "execution_count": 66,
   "metadata": {},
   "outputs": [],
   "source": [
    "sentence_vector=[]\n",
    "for sentence in x_train:\n",
    "    sentence=sentence.lower()\n",
    "    sent_token=nltk.word_tokenize(sentence)\n",
    "    set_toke=[]\n",
    "    for token in most_freq:\n",
    "        if token in sent_token:\n",
    "            set_toke.append(1)\n",
    "        else:\n",
    "            set_toke.append(0)\n",
    "    sentence_vector.append(set_toke)"
   ]
  },
  {
   "cell_type": "code",
   "execution_count": 67,
   "metadata": {},
   "outputs": [],
   "source": [
    "setVect=np.asarray(sentence_vector)"
   ]
  },
  {
   "cell_type": "code",
   "execution_count": 68,
   "metadata": {},
   "outputs": [
    {
     "data": {
      "text/plain": [
       "array([[1, 0, 1, ..., 1, 0, 1],\n",
       "       [1, 1, 0, ..., 1, 0, 1],\n",
       "       [1, 1, 1, ..., 0, 0, 1],\n",
       "       ...,\n",
       "       [0, 0, 0, ..., 0, 0, 0],\n",
       "       [0, 0, 0, ..., 0, 0, 0],\n",
       "       [0, 0, 0, ..., 0, 0, 0]])"
      ]
     },
     "execution_count": 68,
     "metadata": {},
     "output_type": "execute_result"
    }
   ],
   "source": [
    "setVect[0:8000].T"
   ]
  },
  {
   "cell_type": "code",
   "execution_count": 69,
   "metadata": {},
   "outputs": [],
   "source": [
    "X_flatten=setVect.T"
   ]
  },
  {
   "cell_type": "code",
   "execution_count": 70,
   "metadata": {},
   "outputs": [
    {
     "data": {
      "text/plain": [
       "(300, 17621)"
      ]
     },
     "execution_count": 70,
     "metadata": {},
     "output_type": "execute_result"
    }
   ],
   "source": [
    "X_flatten.shape"
   ]
  },
  {
   "cell_type": "code",
   "execution_count": 84,
   "metadata": {},
   "outputs": [],
   "source": [
    "x_t=setVect1.T"
   ]
  },
  {
   "cell_type": "code",
   "execution_count": 85,
   "metadata": {},
   "outputs": [
    {
     "data": {
      "text/plain": [
       "(300, 1958)"
      ]
     },
     "execution_count": 85,
     "metadata": {},
     "output_type": "execute_result"
    }
   ],
   "source": [
    "x_t.shape"
   ]
  },
  {
   "cell_type": "code",
   "execution_count": 72,
   "metadata": {},
   "outputs": [],
   "source": [
    "y_flatten=y_train.T"
   ]
  },
  {
   "cell_type": "code",
   "execution_count": 73,
   "metadata": {},
   "outputs": [
    {
     "data": {
      "text/plain": [
       "(3, 17621)"
      ]
     },
     "execution_count": 73,
     "metadata": {},
     "output_type": "execute_result"
    }
   ],
   "source": [
    "y_flatten.shape"
   ]
  },
  {
   "cell_type": "code",
   "execution_count": 86,
   "metadata": {},
   "outputs": [],
   "source": [
    "y_t=y_dev.T"
   ]
  },
  {
   "cell_type": "code",
   "execution_count": 87,
   "metadata": {},
   "outputs": [
    {
     "data": {
      "text/plain": [
       "(3, 1958)"
      ]
     },
     "execution_count": 87,
     "metadata": {},
     "output_type": "execute_result"
    }
   ],
   "source": [
    "y_t.shape"
   ]
  },
  {
   "cell_type": "code",
   "execution_count": 76,
   "metadata": {},
   "outputs": [
    {
     "data": {
      "text/plain": [
       "(3, 17621)"
      ]
     },
     "execution_count": 76,
     "metadata": {},
     "output_type": "execute_result"
    }
   ],
   "source": [
    "y_flatten.shape"
   ]
  },
  {
   "cell_type": "code",
   "execution_count": 77,
   "metadata": {},
   "outputs": [],
   "source": [
    "from sklearn.ensemble import RandomForestClassifier"
   ]
  },
  {
   "cell_type": "code",
   "execution_count": 78,
   "metadata": {},
   "outputs": [],
   "source": [
    "clf=RandomForestClassifier(n_estimators=100)"
   ]
  },
  {
   "cell_type": "code",
   "execution_count": 73,
   "metadata": {},
   "outputs": [
    {
     "data": {
      "text/plain": [
       "RandomForestClassifier(bootstrap=True, class_weight=None, criterion='gini',\n",
       "                       max_depth=None, max_features='auto', max_leaf_nodes=None,\n",
       "                       min_impurity_decrease=0.0, min_impurity_split=None,\n",
       "                       min_samples_leaf=1, min_samples_split=2,\n",
       "                       min_weight_fraction_leaf=0.0, n_estimators=100,\n",
       "                       n_jobs=None, oob_score=False, random_state=None,\n",
       "                       verbose=0, warm_start=False)"
      ]
     },
     "execution_count": 73,
     "metadata": {},
     "output_type": "execute_result"
    }
   ],
   "source": [
    "clf.fit(x_train_tfv,y_train)"
   ]
  },
  {
   "cell_type": "code",
   "execution_count": 81,
   "metadata": {},
   "outputs": [],
   "source": [
    "y_pred=clf.predict(x_dev_tfv)"
   ]
  },
  {
   "cell_type": "code",
   "execution_count": 103,
   "metadata": {},
   "outputs": [
    {
     "data": {
      "text/plain": [
       "(1958, 3)"
      ]
     },
     "execution_count": 103,
     "metadata": {},
     "output_type": "execute_result"
    }
   ],
   "source": [
    "y_dev.shape"
   ]
  },
  {
   "cell_type": "code",
   "execution_count": 104,
   "metadata": {},
   "outputs": [
    {
     "data": {
      "text/plain": [
       "(1958, 3)"
      ]
     },
     "execution_count": 104,
     "metadata": {},
     "output_type": "execute_result"
    }
   ],
   "source": [
    "y_pred.shape"
   ]
  },
  {
   "cell_type": "code",
   "execution_count": 82,
   "metadata": {},
   "outputs": [
    {
     "data": {
      "text/plain": [
       "0.6001021450459653"
      ]
     },
     "execution_count": 82,
     "metadata": {},
     "output_type": "execute_result"
    }
   ],
   "source": [
    "metrics.accuracy_score(y_dev,y_pred)"
   ]
  },
  {
   "cell_type": "code",
   "execution_count": 104,
   "metadata": {},
   "outputs": [
    {
     "name": "stdout",
     "output_type": "stream",
     "text": [
      "now the accuracy is 61.13%\n"
     ]
    }
   ],
   "source": [
    "predict(x_t,y_t,parameters)"
   ]
  },
  {
   "cell_type": "markdown",
   "metadata": {},
   "source": [
    "## 2. here we use Deep Learning"
   ]
  },
  {
   "cell_type": "code",
   "execution_count": 79,
   "metadata": {},
   "outputs": [],
   "source": [
    "import time\n",
    "import pandas as pd\n",
    "import numpy as np\n",
    "import h5py\n",
    "import matplotlib.pyplot as plt\n",
    "import scipy\n",
    "from PIL import Image\n",
    "from scipy import ndimage\n",
    "from dnn_app_utils_v3 import *\n",
    "from dnn_utils_v2 import sigmoid, sigmoid_backward, relu, relu_backward\n",
    "import sklearn\n",
    "import sklearn.datasets\n",
    "import sklearn.linear_model\n",
    "\n",
    "\n",
    "import csv\n",
    "np.random.seed(1)"
   ]
  },
  {
   "cell_type": "code",
   "execution_count": null,
   "metadata": {},
   "outputs": [],
   "source": []
  },
  {
   "cell_type": "code",
   "execution_count": 80,
   "metadata": {},
   "outputs": [],
   "source": [
    "from nltk.corpus import stopwords"
   ]
  },
  {
   "cell_type": "code",
   "execution_count": 81,
   "metadata": {},
   "outputs": [],
   "source": [
    "from sklearn.model_selection import train_test_split\n",
    "from sklearn import svm"
   ]
  },
  {
   "cell_type": "code",
   "execution_count": 79,
   "metadata": {},
   "outputs": [],
   "source": [
    "clf = svm.SVC(kernel=\"linear\") "
   ]
  },
  {
   "cell_type": "code",
   "execution_count": 113,
   "metadata": {},
   "outputs": [
    {
     "data": {
      "text/plain": [
       "(17621, 300)"
      ]
     },
     "execution_count": 113,
     "metadata": {},
     "output_type": "execute_result"
    }
   ],
   "source": [
    "setVect.shape"
   ]
  },
  {
   "cell_type": "code",
   "execution_count": 127,
   "metadata": {},
   "outputs": [
    {
     "ename": "ValueError",
     "evalue": "bad input shape (17621, 3)",
     "output_type": "error",
     "traceback": [
      "\u001b[0;31m---------------------------------------------------------------------------\u001b[0m",
      "\u001b[0;31mValueError\u001b[0m                                Traceback (most recent call last)",
      "\u001b[0;32m<ipython-input-127-7ec45b9f72b1>\u001b[0m in \u001b[0;36m<module>\u001b[0;34m\u001b[0m\n\u001b[0;32m----> 1\u001b[0;31m \u001b[0mclf\u001b[0m\u001b[0;34m.\u001b[0m\u001b[0mfit\u001b[0m\u001b[0;34m(\u001b[0m\u001b[0mx_train_tfv\u001b[0m\u001b[0;34m,\u001b[0m\u001b[0my_train\u001b[0m\u001b[0;34m)\u001b[0m\u001b[0;34m\u001b[0m\u001b[0;34m\u001b[0m\u001b[0m\n\u001b[0m",
      "\u001b[0;32m~/anaconda3/lib/python3.7/site-packages/sklearn/svm/base.py\u001b[0m in \u001b[0;36mfit\u001b[0;34m(self, X, y, sample_weight)\u001b[0m\n\u001b[1;32m    144\u001b[0m         X, y = check_X_y(X, y, dtype=np.float64,\n\u001b[1;32m    145\u001b[0m                          \u001b[0morder\u001b[0m\u001b[0;34m=\u001b[0m\u001b[0;34m'C'\u001b[0m\u001b[0;34m,\u001b[0m \u001b[0maccept_sparse\u001b[0m\u001b[0;34m=\u001b[0m\u001b[0;34m'csr'\u001b[0m\u001b[0;34m,\u001b[0m\u001b[0;34m\u001b[0m\u001b[0;34m\u001b[0m\u001b[0m\n\u001b[0;32m--> 146\u001b[0;31m                          accept_large_sparse=False)\n\u001b[0m\u001b[1;32m    147\u001b[0m         \u001b[0my\u001b[0m \u001b[0;34m=\u001b[0m \u001b[0mself\u001b[0m\u001b[0;34m.\u001b[0m\u001b[0m_validate_targets\u001b[0m\u001b[0;34m(\u001b[0m\u001b[0my\u001b[0m\u001b[0;34m)\u001b[0m\u001b[0;34m\u001b[0m\u001b[0;34m\u001b[0m\u001b[0m\n\u001b[1;32m    148\u001b[0m \u001b[0;34m\u001b[0m\u001b[0m\n",
      "\u001b[0;32m~/anaconda3/lib/python3.7/site-packages/sklearn/utils/validation.py\u001b[0m in \u001b[0;36mcheck_X_y\u001b[0;34m(X, y, accept_sparse, accept_large_sparse, dtype, order, copy, force_all_finite, ensure_2d, allow_nd, multi_output, ensure_min_samples, ensure_min_features, y_numeric, warn_on_dtype, estimator)\u001b[0m\n\u001b[1;32m    722\u001b[0m                         dtype=None)\n\u001b[1;32m    723\u001b[0m     \u001b[0;32melse\u001b[0m\u001b[0;34m:\u001b[0m\u001b[0;34m\u001b[0m\u001b[0;34m\u001b[0m\u001b[0m\n\u001b[0;32m--> 724\u001b[0;31m         \u001b[0my\u001b[0m \u001b[0;34m=\u001b[0m \u001b[0mcolumn_or_1d\u001b[0m\u001b[0;34m(\u001b[0m\u001b[0my\u001b[0m\u001b[0;34m,\u001b[0m \u001b[0mwarn\u001b[0m\u001b[0;34m=\u001b[0m\u001b[0;32mTrue\u001b[0m\u001b[0;34m)\u001b[0m\u001b[0;34m\u001b[0m\u001b[0;34m\u001b[0m\u001b[0m\n\u001b[0m\u001b[1;32m    725\u001b[0m         \u001b[0m_assert_all_finite\u001b[0m\u001b[0;34m(\u001b[0m\u001b[0my\u001b[0m\u001b[0;34m)\u001b[0m\u001b[0;34m\u001b[0m\u001b[0;34m\u001b[0m\u001b[0m\n\u001b[1;32m    726\u001b[0m     \u001b[0;32mif\u001b[0m \u001b[0my_numeric\u001b[0m \u001b[0;32mand\u001b[0m \u001b[0my\u001b[0m\u001b[0;34m.\u001b[0m\u001b[0mdtype\u001b[0m\u001b[0;34m.\u001b[0m\u001b[0mkind\u001b[0m \u001b[0;34m==\u001b[0m \u001b[0;34m'O'\u001b[0m\u001b[0;34m:\u001b[0m\u001b[0;34m\u001b[0m\u001b[0;34m\u001b[0m\u001b[0m\n",
      "\u001b[0;32m~/anaconda3/lib/python3.7/site-packages/sklearn/utils/validation.py\u001b[0m in \u001b[0;36mcolumn_or_1d\u001b[0;34m(y, warn)\u001b[0m\n\u001b[1;32m    758\u001b[0m         \u001b[0;32mreturn\u001b[0m \u001b[0mnp\u001b[0m\u001b[0;34m.\u001b[0m\u001b[0mravel\u001b[0m\u001b[0;34m(\u001b[0m\u001b[0my\u001b[0m\u001b[0;34m)\u001b[0m\u001b[0;34m\u001b[0m\u001b[0;34m\u001b[0m\u001b[0m\n\u001b[1;32m    759\u001b[0m \u001b[0;34m\u001b[0m\u001b[0m\n\u001b[0;32m--> 760\u001b[0;31m     \u001b[0;32mraise\u001b[0m \u001b[0mValueError\u001b[0m\u001b[0;34m(\u001b[0m\u001b[0;34m\"bad input shape {0}\"\u001b[0m\u001b[0;34m.\u001b[0m\u001b[0mformat\u001b[0m\u001b[0;34m(\u001b[0m\u001b[0mshape\u001b[0m\u001b[0;34m)\u001b[0m\u001b[0;34m)\u001b[0m\u001b[0;34m\u001b[0m\u001b[0;34m\u001b[0m\u001b[0m\n\u001b[0m\u001b[1;32m    761\u001b[0m \u001b[0;34m\u001b[0m\u001b[0m\n\u001b[1;32m    762\u001b[0m \u001b[0;34m\u001b[0m\u001b[0m\n",
      "\u001b[0;31mValueError\u001b[0m: bad input shape (17621, 3)"
     ]
    }
   ],
   "source": [
    "clf.fit(x_train_tfv,y_train)"
   ]
  },
  {
   "cell_type": "code",
   "execution_count": 88,
   "metadata": {},
   "outputs": [
    {
     "data": {
      "text/plain": [
       "(1958,)"
      ]
     },
     "execution_count": 88,
     "metadata": {},
     "output_type": "execute_result"
    }
   ],
   "source": [
    "x_dev.shape"
   ]
  },
  {
   "cell_type": "code",
   "execution_count": 89,
   "metadata": {},
   "outputs": [
    {
     "data": {
      "text/plain": [
       "(1958, 3)"
      ]
     },
     "execution_count": 89,
     "metadata": {},
     "output_type": "execute_result"
    }
   ],
   "source": [
    "y_dev.shape"
   ]
  },
  {
   "cell_type": "code",
   "execution_count": 90,
   "metadata": {},
   "outputs": [],
   "source": [
    "sentence_vector1=[]\n",
    "for sentence in x_dev:\n",
    "    sentence=sentence.lower()\n",
    "    sent_token=nltk.word_tokenize(sentence)\n",
    "    set_toke=[]\n",
    "    for token in most_freq:\n",
    "        if token in sent_token:\n",
    "            set_toke.append(1)\n",
    "        else:\n",
    "            set_toke.append(0)\n",
    "    sentence_vector1.append(set_toke)"
   ]
  },
  {
   "cell_type": "code",
   "execution_count": 83,
   "metadata": {},
   "outputs": [],
   "source": [
    "setVect1=np.asarray(sentence_vector1)"
   ]
  },
  {
   "cell_type": "code",
   "execution_count": 70,
   "metadata": {},
   "outputs": [],
   "source": [
    "ypred=clf.predict(setVect1)"
   ]
  },
  {
   "cell_type": "code",
   "execution_count": 106,
   "metadata": {},
   "outputs": [
    {
     "ename": "NameError",
     "evalue": "name 'ydev' is not defined",
     "output_type": "error",
     "traceback": [
      "\u001b[0;31m---------------------------------------------------------------------------\u001b[0m",
      "\u001b[0;31mNameError\u001b[0m                                 Traceback (most recent call last)",
      "\u001b[0;32m<ipython-input-106-9500f9d9dee2>\u001b[0m in \u001b[0;36m<module>\u001b[0;34m\u001b[0m\n\u001b[0;32m----> 1\u001b[0;31m \u001b[0mmetrics\u001b[0m\u001b[0;34m.\u001b[0m\u001b[0maccuracy_score\u001b[0m\u001b[0;34m(\u001b[0m\u001b[0mydev\u001b[0m\u001b[0;34m,\u001b[0m\u001b[0mypred\u001b[0m\u001b[0;34m)\u001b[0m\u001b[0;34m\u001b[0m\u001b[0;34m\u001b[0m\u001b[0m\n\u001b[0m",
      "\u001b[0;31mNameError\u001b[0m: name 'ydev' is not defined"
     ]
    }
   ],
   "source": [
    "metrics.accuracy_score(ydev,ypred)"
   ]
  },
  {
   "cell_type": "code",
   "execution_count": 91,
   "metadata": {},
   "outputs": [],
   "source": [
    "def linear_forword(A,w,b):\n",
    "    \n",
    "    Z=np.dot(w,A)+b\n",
    "    assert(Z.shape==(w.shape[0],A.shape[1]))\n",
    "    cache=(A,w,b)\n",
    "    return Z,cache"
   ]
  },
  {
   "cell_type": "code",
   "execution_count": 92,
   "metadata": {},
   "outputs": [],
   "source": [
    "def initialize_parameters(n_x,n_h,n_y):\n",
    "    \n",
    "    ###here we conder to initialize the parameter#####\n",
    "    w1=np.random.randn(n_h,n_x)*0.01\n",
    "    b1=np.zeros((n_h,1))\n",
    "    w2=np.random.randn(n_y,n_h)*0.01\n",
    "    b2=np.zeros((n_y,1))\n",
    "    \n",
    "    ##HERE WE CHECK THE PARAMTERS\n",
    "    assert(w1.shape==(n_h,n_x))\n",
    "    assert(b1.shape==(n_h,1))\n",
    "    assert(w2.shape==(n_y,n_h))\n",
    "    assert(b2.shape==(n_y,1))\n",
    "    \n",
    "    parameters={\"W1\":w1,\n",
    "               \"b1\":b1,\n",
    "               \"W2\":w2,\n",
    "               \"b2\":b2}\n",
    "    return parameters\n",
    "    "
   ]
  },
  {
   "cell_type": "code",
   "execution_count": 93,
   "metadata": {},
   "outputs": [],
   "source": [
    "def L_model_forwrd(X, parameters):\n",
    "    \"\"\"\n",
    "    Implement forward propagation for the [LINEAR->RELU]*(L-1)->LINEAR->SIGMOID computation\n",
    "    \n",
    "    Arguments:\n",
    "    X -- data, numpy array of shape (input size, number of examples)\n",
    "    parameters -- output of initialize_parameters_deep()\n",
    "    \n",
    "    Returns:\n",
    "    AL -- last post-activation value\n",
    "    caches -- list of caches containing:\n",
    "                every cache of linear_relu_forward() (there are L-1 of them, indexed from 0 to L-2)\n",
    "                the cache of linear_sigmoid_forward() (there is one, indexed L-1)\n",
    "    \"\"\"\n",
    "\n",
    "    caches = []\n",
    "    A = X\n",
    "    L = len(parameters) // 2                  # number of layers in the neural network\n",
    "    \n",
    "    # Implement [LINEAR -> RELU]*(L-1). Add \"cache\" to the \"caches\" list.\n",
    "    for l in range(1, L):\n",
    "        A_prev = A \n",
    "        A, cache = linear_activation_forward(A_prev, parameters['W' + str(l)], parameters['b' + str(l)], activation = \"relu\")\n",
    "        caches.append(cache)\n",
    "    \n",
    "    # Implement LINEAR -> SIGMOID. Add \"cache\" to the \"caches\" list.\n",
    "    AL, cache = linear_activation_forward(A, parameters['W' + str(L)], parameters['b' + str(L)], activation = \"sigmoid\")\n",
    "    caches.append(cache)\n",
    "    \n",
    "    assert(AL.shape == (3,X.shape[1]))\n",
    "            \n",
    "    return AL, caches"
   ]
  },
  {
   "cell_type": "code",
   "execution_count": 94,
   "metadata": {},
   "outputs": [],
   "source": [
    "def L_model_backward(AL, Y, caches):\n",
    "    \"\"\"\n",
    "    Implement the backward propagation for the [LINEAR->RELU] * (L-1) -> LINEAR -> SIGMOID group\n",
    "    \n",
    "    Arguments:\n",
    "    AL -- probability vector, output of the forward propagation (L_model_forward())\n",
    "    Y -- true \"label\" vector (containing 0 if non-cat, 1 if cat)\n",
    "    caches -- list of caches containing:\n",
    "                every cache of linear_activation_forward() with \"relu\" (there are (L-1) or them, indexes from 0 to L-2)\n",
    "                the cache of linear_activation_forward() with \"sigmoid\" (there is one, index L-1)\n",
    "    \n",
    "    Returns:\n",
    "    grads -- A dictionary with the gradients\n",
    "             grads[\"dA\" + str(l)] = ... \n",
    "             grads[\"dW\" + str(l)] = ...\n",
    "             grads[\"db\" + str(l)] = ... \n",
    "    \"\"\"\n",
    "    grads = {}\n",
    "    L = len(caches) # the number of layers\n",
    "    m = AL.shape[1]\n",
    "    Y = Y.reshape(AL.shape) # after this line, Y is the same shape as AL\n",
    "    \n",
    "    # Initializing the backpropagation\n",
    "    dAL = - (np.divide(Y, AL) - np.divide(1 - Y, 1 - AL))\n",
    "    \n",
    "    # Lth layer (SIGMOID -> LINEAR) gradients. Inputs: \"AL, Y, caches\". Outputs: \"grads[\"dAL\"], grads[\"dWL\"], grads[\"dbL\"]\n",
    "    current_cache = caches[L-1]\n",
    "    grads[\"dA\" + str(L-1)], grads[\"dW\" + str(L)], grads[\"db\" + str(L)] = linear_activation_backward(dAL, current_cache, activation = \"sigmoid\")\n",
    "    \n",
    "    for l in reversed(range(L-1)):\n",
    "        # lth layer: (RELU -> LINEAR) gradients.\n",
    "        current_cache = caches[l]\n",
    "        dA_prev_temp, dW_temp, db_temp = linear_activation_backward(grads[\"dA\" + str(l + 1)], current_cache, activation = \"relu\")\n",
    "        grads[\"dA\" + str(l)] = dA_prev_temp\n",
    "        grads[\"dW\" + str(l + 1)] = dW_temp\n",
    "        grads[\"db\" + str(l + 1)] = db_temp\n",
    "\n",
    "    return grads"
   ]
  },
  {
   "cell_type": "code",
   "execution_count": 101,
   "metadata": {},
   "outputs": [
    {
     "name": "stdout",
     "output_type": "stream",
     "text": [
      "W1 = [[ 1.62434536e-02 -6.11756414e-03 -5.28171752e-03 ...  7.84770651e-03\n",
      "  -9.55425262e-03  5.85910431e-03]\n",
      " [ 2.06578332e-02 -1.47115693e-02 -8.30171895e-03 ...  9.86352180e-03\n",
      "  -4.66154857e-03  1.38499134e-02]\n",
      " [-1.07296428e-02  4.95158611e-03 -9.52062101e-03 ... -1.45832446e-02\n",
      "   4.94341651e-03 -1.49419377e-02]\n",
      " ...\n",
      " [-3.89270875e-03  1.11351353e-03 -2.58030601e-04 ... -7.72099866e-05\n",
      "   2.49801193e-03 -1.87481240e-02]\n",
      " [ 3.95088442e-03 -1.34564911e-02  1.45737463e-03 ... -1.00051781e-02\n",
      "   1.44122504e-02  1.75916528e-02]\n",
      " [ 1.51240457e-03  5.78534800e-03 -3.52116845e-03 ...  3.21586303e-04\n",
      "   2.05216338e-02 -4.65932584e-03]]\n",
      "b1 = [[0.]\n",
      " [0.]\n",
      " [0.]\n",
      " [0.]\n",
      " [0.]\n",
      " [0.]\n",
      " [0.]\n",
      " [0.]\n",
      " [0.]\n",
      " [0.]\n",
      " [0.]\n",
      " [0.]\n",
      " [0.]\n",
      " [0.]\n",
      " [0.]\n",
      " [0.]\n",
      " [0.]\n",
      " [0.]\n",
      " [0.]\n",
      " [0.]\n",
      " [0.]\n",
      " [0.]\n",
      " [0.]\n",
      " [0.]\n",
      " [0.]\n",
      " [0.]\n",
      " [0.]\n",
      " [0.]\n",
      " [0.]\n",
      " [0.]\n",
      " [0.]\n",
      " [0.]\n",
      " [0.]\n",
      " [0.]\n",
      " [0.]\n",
      " [0.]\n",
      " [0.]\n",
      " [0.]\n",
      " [0.]\n",
      " [0.]\n",
      " [0.]\n",
      " [0.]\n",
      " [0.]\n",
      " [0.]\n",
      " [0.]\n",
      " [0.]\n",
      " [0.]\n",
      " [0.]\n",
      " [0.]\n",
      " [0.]\n",
      " [0.]\n",
      " [0.]\n",
      " [0.]\n",
      " [0.]\n",
      " [0.]\n",
      " [0.]\n",
      " [0.]\n",
      " [0.]\n",
      " [0.]\n",
      " [0.]\n",
      " [0.]\n",
      " [0.]\n",
      " [0.]\n",
      " [0.]\n",
      " [0.]\n",
      " [0.]\n",
      " [0.]\n",
      " [0.]\n",
      " [0.]\n",
      " [0.]\n",
      " [0.]\n",
      " [0.]\n",
      " [0.]\n",
      " [0.]\n",
      " [0.]\n",
      " [0.]\n",
      " [0.]\n",
      " [0.]\n",
      " [0.]\n",
      " [0.]]\n",
      "W2 = [[ 6.96139352e-03  2.31154308e-02  1.03561473e-02  9.05268669e-04\n",
      "  -1.11042856e-02  4.92133308e-03 -4.55282998e-03 -3.03386296e-03\n",
      "   1.15876993e-02 -2.06936970e-02  5.05555289e-04  1.95712529e-02\n",
      "  -3.33575827e-03  3.81062326e-03 -3.00656735e-03 -1.09231429e-02\n",
      "  -1.35163552e-02 -4.51983461e-03 -9.70312501e-03 -1.05132512e-02\n",
      "   1.55555324e-02  1.09939171e-02 -1.32590898e-02 -7.82690063e-05\n",
      "   1.27871010e-02 -1.35882762e-02  5.99791795e-03  2.08920249e-02\n",
      "   1.21066303e-02 -3.74487302e-03  1.03230062e-02  3.21191082e-03\n",
      "   3.06225644e-04 -5.96299494e-03 -1.53546086e-02 -7.63811716e-03\n",
      "   7.16502684e-03 -1.18636039e-02 -6.99848586e-03 -6.60717725e-04\n",
      "   1.08226289e-02 -1.44702788e-02  9.49831298e-03  1.53744823e-02\n",
      "   3.75877505e-03  5.79781738e-03  1.73793356e-04 -4.40322096e-03\n",
      "  -1.05065494e-02 -5.87304824e-03  7.21593359e-04  1.67639148e-02\n",
      "  -1.63893008e-03  1.05970667e-02 -1.18194902e-03  1.14367327e-02\n",
      "  -7.75942432e-04 -1.15297432e-02  6.49017046e-03  1.60978172e-02\n",
      "  -5.90615761e-03 -1.13150606e-02  5.31295382e-03 -7.29720680e-03\n",
      "  -1.24473526e-03 -4.05424797e-04 -4.46627992e-03 -1.44368525e-03\n",
      "  -1.66414110e-03 -2.93853000e-03  1.06388225e-03  9.56608341e-03\n",
      "   5.16247844e-04  4.96533282e-03  1.60833182e-02  1.75036344e-02\n",
      "  -2.61774124e-03 -1.27917462e-03 -4.59041329e-06  2.24863940e-02]\n",
      " [-8.67834741e-03  4.24984113e-03 -2.31424501e-03  7.35096378e-03\n",
      "   6.31561445e-03 -2.32532093e-03  7.00390577e-03  7.35498373e-03\n",
      "  -2.44484403e-03  2.54668458e-02  2.32848131e-04 -1.35708485e-02\n",
      "  -2.33304118e-03 -1.73544101e-03  1.73874366e-02 -1.00026543e-02\n",
      "   4.68793506e-04 -7.27882462e-03  1.90877168e-02  1.87060481e-02\n",
      "  -8.13485175e-04  1.67890934e-03  1.18852887e-02  7.06753688e-03\n",
      "   3.07538094e-03  2.16057889e-03  1.14162409e-02 -1.05763857e-02\n",
      "  -1.10340382e-03  8.32659309e-03 -1.58103538e-02 -3.43669913e-04\n",
      "   4.34588141e-03  2.61713900e-04  1.02518543e-02 -1.93319740e-02\n",
      "   7.88168081e-03  1.13338224e-02 -1.96686084e-02 -1.51303215e-02\n",
      "  -7.89603184e-03 -1.58155029e-04  7.82099251e-03  5.24345654e-03\n",
      "   1.16322346e-02  1.55808297e-02 -2.58609945e-03  3.58619484e-03\n",
      "   7.45494961e-03  1.78938006e-02  8.12703780e-03  2.83961928e-03\n",
      "   1.28391303e-03 -1.14119845e-02  1.22064579e-02  9.81942487e-03\n",
      "   3.60416497e-03 -1.27471184e-02  1.04818049e-02  4.99348548e-03\n",
      "   1.08347682e-02 -8.52531386e-03 -1.48160995e-05 -5.06004533e-03\n",
      "   9.38810151e-03  1.33681346e-02  3.30669719e-03 -3.51144131e-03\n",
      "   3.63299495e-03 -1.26389521e-02  8.80192342e-03  1.17776730e-02\n",
      "   1.60531324e-02 -3.36146314e-03  1.32644996e-02 -1.40337636e-02\n",
      "   3.88700569e-05 -5.37655827e-03 -9.24173657e-03 -2.69419540e-03]\n",
      " [-4.30643067e-03 -2.39686097e-02  5.19583653e-03 -2.36486289e-02\n",
      "  -8.73345801e-03  1.10961449e-03  2.98976278e-03  1.81143443e-03\n",
      "   1.17089064e-02 -1.12133471e-02  1.24994793e-02 -6.51810120e-03\n",
      "   1.04118030e-03  5.06558656e-03  2.86008423e-02 -1.76568627e-02\n",
      "  -6.67491092e-03 -9.95945754e-03  6.01186601e-03  2.31552438e-05\n",
      "   1.65327852e-02  1.12954655e-02  9.90185495e-03 -1.40472001e-02\n",
      "   8.99303199e-03  8.52197815e-03 -2.84612867e-02  1.50625931e-02\n",
      "  -5.29672580e-03 -5.73659258e-03  8.91562196e-03  2.55572381e-03\n",
      "   2.94893677e-03  6.25173877e-03 -5.31829628e-04  9.77488505e-03\n",
      "   1.09680235e-02 -2.85730582e-03  1.09453897e-02 -6.58888436e-03\n",
      "   1.49269197e-02 -9.24669490e-03  5.74886359e-03 -2.71222916e-03\n",
      "  -1.68178286e-02 -5.36650660e-03  4.05702044e-03  2.19189382e-02\n",
      "  -3.02354026e-03 -5.12171038e-03 -3.95404716e-03 -1.07756955e-02\n",
      "  -1.06466032e-02  1.12219530e-02 -3.10352246e-03 -1.61748597e-03\n",
      "   1.14643752e-02  2.71657092e-03 -5.39754348e-03  1.28788646e-02\n",
      "   1.55239131e-02 -7.67151540e-03  3.75862397e-03  2.10210765e-03\n",
      "   4.82528780e-03 -5.29194428e-03 -1.19884732e-02  6.32968778e-06\n",
      "   3.76843736e-03 -9.47126640e-03  7.20219590e-03  1.80957593e-02\n",
      "  -3.63987924e-03 -6.19896077e-04 -1.13902731e-02 -8.22212249e-03\n",
      "   1.81449147e-02 -2.47904088e-03 -2.25187655e-02  1.77613049e-02]]\n",
      "b2 = [[0.]\n",
      " [0.]\n",
      " [0.]]\n"
     ]
    }
   ],
   "source": [
    "parameters = initialize_parameters(n_x,n_h,n_y)\n",
    "print(\"W1 = \" + str(parameters[\"W1\"]))\n",
    "print(\"b1 = \" + str(parameters[\"b1\"]))\n",
    "print(\"W2 = \" + str(parameters[\"W2\"]))\n",
    "print(\"b2 = \" + str(parameters[\"b2\"]))\n",
    "#print(parameters[\"b2\"].shape)\n",
    "#print(X_flatten.shape)"
   ]
  },
  {
   "cell_type": "code",
   "execution_count": 93,
   "metadata": {},
   "outputs": [
    {
     "data": {
      "text/plain": [
       "3"
      ]
     },
     "execution_count": 93,
     "metadata": {},
     "output_type": "execute_result"
    }
   ],
   "source": [
    "n_y"
   ]
  },
  {
   "cell_type": "code",
   "execution_count": 88,
   "metadata": {},
   "outputs": [],
   "source": [
    "W1=parameters['W1']\n",
    "b1=parameters['b1']\n",
    "W2=parameters['W2']\n",
    "b2=parameters['b2']"
   ]
  },
  {
   "cell_type": "code",
   "execution_count": 98,
   "metadata": {},
   "outputs": [],
   "source": [
    "k=np.dot(W1,X_flatten)+b1"
   ]
  },
  {
   "cell_type": "code",
   "execution_count": 101,
   "metadata": {},
   "outputs": [],
   "source": [
    "z1,actvation_cache=relu(k)"
   ]
  },
  {
   "cell_type": "code",
   "execution_count": 104,
   "metadata": {},
   "outputs": [],
   "source": [
    "k1=np.dot(W2,z1)+b2"
   ]
  },
  {
   "cell_type": "code",
   "execution_count": 106,
   "metadata": {},
   "outputs": [],
   "source": [
    "z2,activation_cache2=sigmoid(k1)"
   ]
  },
  {
   "cell_type": "code",
   "execution_count": 71,
   "metadata": {},
   "outputs": [
    {
     "data": {
      "text/plain": [
       "(3, 17621)"
      ]
     },
     "execution_count": 71,
     "metadata": {},
     "output_type": "execute_result"
    }
   ],
   "source": [
    "y_flatten.shape"
   ]
  },
  {
   "cell_type": "code",
   "execution_count": 112,
   "metadata": {},
   "outputs": [
    {
     "data": {
      "text/plain": [
       "(3, 17621)"
      ]
     },
     "execution_count": 112,
     "metadata": {},
     "output_type": "execute_result"
    }
   ],
   "source": [
    "z2.shape"
   ]
  },
  {
   "cell_type": "code",
   "execution_count": 114,
   "metadata": {},
   "outputs": [],
   "source": [
    "m=17621"
   ]
  },
  {
   "cell_type": "code",
   "execution_count": 123,
   "metadata": {},
   "outputs": [],
   "source": [
    "ss=(y_flatten*np.log(z2))+(1-y_flatten)*np.log(1-z2)"
   ]
  },
  {
   "cell_type": "code",
   "execution_count": 133,
   "metadata": {},
   "outputs": [],
   "source": [
    "l=np.sum(ss,axis=1)"
   ]
  },
  {
   "cell_type": "code",
   "execution_count": 140,
   "metadata": {},
   "outputs": [],
   "source": [
    "cost=-sum(l/m)"
   ]
  },
  {
   "cell_type": "code",
   "execution_count": 141,
   "metadata": {},
   "outputs": [
    {
     "data": {
      "text/plain": [
       "2.0797609546975835"
      ]
     },
     "execution_count": 141,
     "metadata": {},
     "output_type": "execute_result"
    }
   ],
   "source": [
    "cost"
   ]
  },
  {
   "cell_type": "code",
   "execution_count": 119,
   "metadata": {},
   "outputs": [
    {
     "data": {
      "text/plain": [
       "52"
      ]
     },
     "execution_count": 119,
     "metadata": {},
     "output_type": "execute_result"
    }
   ],
   "source": [
    "2+5*10"
   ]
  },
  {
   "cell_type": "code",
   "execution_count": 146,
   "metadata": {},
   "outputs": [
    {
     "data": {
      "text/plain": [
       "0.6932536515658622"
      ]
     },
     "execution_count": 146,
     "metadata": {},
     "output_type": "execute_result"
    }
   ],
   "source": [
    "compute_cost1(z2,y_flatten)"
   ]
  },
  {
   "cell_type": "code",
   "execution_count": null,
   "metadata": {},
   "outputs": [],
   "source": []
  },
  {
   "cell_type": "code",
   "execution_count": 102,
   "metadata": {},
   "outputs": [],
   "source": [
    "def compute_cost1(AL, Y):\n",
    "    \n",
    "    m=Y.shape[1]\n",
    "    cost =-sum((Y*np.log(AL)+(1-Y)*(np.log(1-AL))).T)/m\n",
    "    cost=np.squeeze(cost)\n",
    "    cost=np.mean(cost)\n",
    "    assert(cost.shape==())\n",
    "    \n",
    "    return cost   "
   ]
  },
  {
   "cell_type": "code",
   "execution_count": 103,
   "metadata": {},
   "outputs": [],
   "source": [
    "def linear_activation_backword(dA,cache,activation):\n",
    "    \n",
    "    linear_cache,activation_cache=cache\n",
    "    if activation==\"sigmoid\":\n",
    "        dz=sigmoid_backward(dA,activation_cache)\n",
    "        dA_prev,dw,db=linear_backword(dz,linear_cache)\n",
    "    elif activation==\"relu\":\n",
    "        dz=re# GRADED FUNCTION: linear_forward\n",
    "\n",
    "def linear_forward(A, W, b):\n",
    "    \n",
    "    ### START CODE HERE ### (≈ 1 line of code)\n",
    "    Z = np.dot(W,A)+b\n",
    "    ### END CODE HERE ###\n",
    "    \n",
    "    assert(Z.shape == (W.shape[0], A.shape[1]))\n",
    "    cache = (A, W, b)\n",
    "    \n",
    "    return Z, cache"
   ]
  },
  {
   "cell_type": "code",
   "execution_count": 104,
   "metadata": {},
   "outputs": [],
   "source": [
    "def linear_activation_forword(A_prev,w,b,activation):\n",
    "    \n",
    "    ##WE HAVE FOUND THE ACTIVATION WITH THE RESTRICTION\n",
    "    if activation==\"sigmoid\":\n",
    "        Z,linear_cache=linear_forword(A_prev,w,b)\n",
    "        A,activation_cache=sigmoid(Z)\n",
    "    ##IF THE ACTIVATION IS RELU THEN\n",
    "    elif activation==\"relu\":\n",
    "        Z,linear_cache=linear_forword(A_prev,w,b)\n",
    "        A,activation_cache=relu(Z)\n",
    "    \n",
    "    ##VERYFYING THE SHAPE OF ACTIVATION USING ASSERT\n",
    "    assert(A.shape==(w.shape[0],A_prev.shape[1]))\n",
    "    cache=(linear_cache,activation_cache)\n",
    "    \n",
    "    return A,cache \n"
   ]
  },
  {
   "cell_type": "code",
   "execution_count": 105,
   "metadata": {},
   "outputs": [],
   "source": [
    "def linear_backword(dz,cache):\n",
    "    \n",
    "    A_prev,w,b=cache\n",
    "    m=A_prev.shape[1]\n",
    "    ##HERE WE GO WITH BACKPROPAGATION\n",
    "    dw=(1/m)*np.dot(dz,A_prev.T)\n",
    "    db=(1/m)*np.sum(dz,axis=1,keepdims=True)\n",
    "    dA_prev=np.dot(w.T,dz)\n",
    "    \n",
    "    assert(dw.shape==w.shape)\n",
    "    assert(db.shape==b.shape)\n",
    "    assert(dA_prev.shape==A_prev.shape)\n",
    "    \n",
    "    return dA_prev,dw,db\n",
    "    \n"
   ]
  },
  {
   "cell_type": "code",
   "execution_count": 133,
   "metadata": {},
   "outputs": [],
   "source": [
    "n_x=len(X_flatten)\n",
    "n_h=80\n",
    "n_y=3\n",
    "layers_dims=(n_x,500,80,500,3)"
   ]
  },
  {
   "cell_type": "code",
   "execution_count": 134,
   "metadata": {},
   "outputs": [
    {
     "data": {
      "text/plain": [
       "300"
      ]
     },
     "execution_count": 134,
     "metadata": {},
     "output_type": "execute_result"
    }
   ],
   "source": [
    "layers_dims[0]"
   ]
  },
  {
   "cell_type": "code",
   "execution_count": 107,
   "metadata": {},
   "outputs": [],
   "source": [
    "def linear_activation_backword(dA,cache,activation):\n",
    "    \n",
    "    linear_cache,activation_cache=cache\n",
    "    if activation==\"sigmoid\":\n",
    "        dz=sigmoid_backward(dA,activation_cache)\n",
    "        dA_prev,dw,db=linear_backword(dz,linear_cache)\n",
    "    elif activation==\"relu\":\n",
    "        dz=relu_backward(dA,activation_cache)\n",
    "        dA_prev,dw,db=linear_backword(dz,linear_cache)\n",
    "    \n",
    "    return dA_prev,dw,db"
   ]
  },
  {
   "cell_type": "code",
   "execution_count": 108,
   "metadata": {},
   "outputs": [],
   "source": [
    "def linear_activation_backword(dA,cache,activation):\n",
    "    \n",
    "    linear_cache,activation_cache=cache\n",
    "    if activation==\"sigmoid\":\n",
    "        dz=sigmoid_backward(dA,activation_cache)\n",
    "        dA_prev,dw,db=linear_backword(dz,linear_cache)\n",
    "    elif activation==\"relu\":\n",
    "        dz=relu_backward(dA,activation_cache)\n",
    "        dA_prev,dw,db=linear_backword(dz,linear_cache)\n",
    "    \n",
    "    return dA_prev,dw,db\n",
    "    \n",
    "    "
   ]
  },
  {
   "cell_type": "code",
   "execution_count": 109,
   "metadata": {},
   "outputs": [],
   "source": [
    "def softmax_backward(dA, cache):\n",
    "    \"\"\"\n",
    "    Implement the backward propagation for a single SIGMOID unit.\n",
    "\n",
    "    Arguments:\n",
    "    dA -- post-activation gradient, of any shape\n",
    "    cache -- 'Z' where we store for computing backward propagation efficiently\n",
    "\n",
    "    Returns:\n",
    "    dZ -- Gradient of the cost with respect to Z\n",
    "    \"\"\"\n",
    "    \n",
    "    Z = cache\n",
    "    \n",
    "    e_x = np.exp(Z - np.max(Z))\n",
    "    s=e_x / e_x.sum()\n",
    "    dZ = dA * s * (1-s)\n",
    "    \n",
    "    assert (dZ.shape == Z.shape)\n",
    "    \n",
    "    return dZ\n"
   ]
  },
  {
   "cell_type": "code",
   "execution_count": 110,
   "metadata": {},
   "outputs": [],
   "source": [
    "def update_parameters(parameters,grads,learning_rate):\n",
    "    L=len(parameters)//2\n",
    "    for  l in range(L):\n",
    "        parameters[\"W\"+str(l+1)]=parameters[\"W\"+str(l+1)]- learning_rate*grads[\"dW\"+str(l+1)]\n",
    "        parameters[\"b\"+str(l+1)]=parameters[\"b\"+str(l+1)]- learning_rate*grads[\"db\"+str(l+1)]\n",
    "    \n",
    "    return parameters"
   ]
  },
  {
   "cell_type": "code",
   "execution_count": 111,
   "metadata": {},
   "outputs": [],
   "source": [
    "def two_layer_model(X, Y, layers_dims, learning_rate = 0.075, num_iterations = 3000, print_cost=False):\n",
    "    \n",
    "    costs=[]\n",
    "    grad={}\n",
    "    n_x,n_h,n_y=layers_dims\n",
    "    \n",
    "    ##INITIALIZE THE PARAMETERS\n",
    "    parameters=initialize_parameters(n_x,n_h,n_y)\n",
    "    ##here we introduce the parameters w1,w2,b1,b2\n",
    "    w1=parameters[\"W1\"]\n",
    "    b1=parameters[\"b1\"]\n",
    "    w2=parameters[\"W2\"]\n",
    "    b2=parameters[\"b2\"]\n",
    "    \n",
    "    ##AGAIN WE LOOP THE GRAD FUNCTION#################\n",
    "    for i in range(0,num_iterations):\n",
    "        \n",
    "        A1,cache1=linear_activation_forword(X,w1,b1,activation=\"relu\")\n",
    "        A2,cache2=linear_activation_forword(A1,w2,b2,activation=\"sigmoid\")\n",
    "        \n",
    "        ##COMPUTE COST \n",
    "        cost=compute_cost1(A2,Y)\n",
    "        \n",
    "        ## INITIALIZE THE BACKWORD PAPAMWTERS\n",
    "        dA2=-(np.divide(Y,A2)-np.divide(1-Y,1-A2))\n",
    "        \n",
    "        ## HERE WE INITIALIZE THE LINEAR BACKWORD PROPAGATION\n",
    "        dA1,dw2,db2=linear_activation_backword(dA2,cache2,activation=\"sigmoid\")\n",
    "        dA2,dw1,db1=linear_activation_backword(dA1,cache1,activation=\"relu\")\n",
    "        \n",
    "        ## set grads ['dW1'] to dw1, f=grads['db1']\n",
    "        grad['dW1']=dw1\n",
    "        grad['db1']=db1\n",
    "        grad['dW2']=dw2\n",
    "        grad['db2']=db2\n",
    "        \n",
    "        ## update the parameters\n",
    "        parameters=update_parameters(parameters,grad,learning_rate)\n",
    "        \n",
    "        ## retrieve w1,w2,b1,b2 from the parameters\n",
    "        w1=parameters['W1']\n",
    "        b1=parameters['b1']\n",
    "        w2=parameters['W2']\n",
    "        b2=parameters['b2']\n",
    "        \n",
    "        ### print the cost every 100 training examples\n",
    "        if print_cost and i%100==0:\n",
    "            print(\"Cost after iteration {}: {}\".format(i,cost))\n",
    "        if print_cost and i%100==0:\n",
    "            costs.append(cost)\n",
    "    # plot the cost\n",
    "    plt.plot(np.squeeze(costs))\n",
    "    plt.ylabel('cost')\n",
    "    plt.xlabel('iterations(per hundreds)')\n",
    "    plt.title(\"Learning rate= \"+str(learning_rate))\n",
    "    plt.show()\n",
    "    return parameters\n",
    "       "
   ]
  },
  {
   "cell_type": "code",
   "execution_count": 99,
   "metadata": {},
   "outputs": [
    {
     "name": "stdout",
     "output_type": "stream",
     "text": [
      "Cost after iteration 0: 0.6929841381544447\n"
     ]
    },
    {
     "ename": "KeyboardInterrupt",
     "evalue": "",
     "output_type": "error",
     "traceback": [
      "\u001b[0;31m---------------------------------------------------------------------------\u001b[0m",
      "\u001b[0;31mKeyboardInterrupt\u001b[0m                         Traceback (most recent call last)",
      "\u001b[0;32m<ipython-input-99-f9b97786d1d6>\u001b[0m in \u001b[0;36m<module>\u001b[0;34m\u001b[0m\n\u001b[1;32m      1\u001b[0m \u001b[0mtic\u001b[0m\u001b[0;34m=\u001b[0m\u001b[0mtime\u001b[0m\u001b[0;34m.\u001b[0m\u001b[0mtime\u001b[0m\u001b[0;34m(\u001b[0m\u001b[0;34m)\u001b[0m\u001b[0;34m\u001b[0m\u001b[0;34m\u001b[0m\u001b[0m\n\u001b[0;32m----> 2\u001b[0;31m \u001b[0mparameters\u001b[0m \u001b[0;34m=\u001b[0m \u001b[0mtwo_layer_model\u001b[0m\u001b[0;34m(\u001b[0m\u001b[0mX_flatten\u001b[0m\u001b[0;34m,\u001b[0m \u001b[0my_flatten\u001b[0m\u001b[0;34m,\u001b[0m \u001b[0mlayers_dims\u001b[0m \u001b[0;34m=\u001b[0m \u001b[0;34m(\u001b[0m\u001b[0mn_x\u001b[0m\u001b[0;34m,\u001b[0m \u001b[0;36m800\u001b[0m\u001b[0;34m,\u001b[0m \u001b[0mn_y\u001b[0m\u001b[0;34m)\u001b[0m\u001b[0;34m,\u001b[0m \u001b[0mnum_iterations\u001b[0m \u001b[0;34m=\u001b[0m \u001b[0;36m3000\u001b[0m\u001b[0;34m,\u001b[0m \u001b[0mprint_cost\u001b[0m\u001b[0;34m=\u001b[0m\u001b[0;32mTrue\u001b[0m\u001b[0;34m)\u001b[0m\u001b[0;34m\u001b[0m\u001b[0;34m\u001b[0m\u001b[0m\n\u001b[0m\u001b[1;32m      3\u001b[0m \u001b[0mtoc\u001b[0m\u001b[0;34m=\u001b[0m\u001b[0mtime\u001b[0m\u001b[0;34m.\u001b[0m\u001b[0mtime\u001b[0m\u001b[0;34m(\u001b[0m\u001b[0;34m)\u001b[0m\u001b[0;34m\u001b[0m\u001b[0;34m\u001b[0m\u001b[0m\n\u001b[1;32m      4\u001b[0m \u001b[0mprint\u001b[0m\u001b[0;34m(\u001b[0m\u001b[0;34m\"total time req:  \"\u001b[0m\u001b[0;34m+\u001b[0m\u001b[0mstr\u001b[0m\u001b[0;34m(\u001b[0m\u001b[0mtoc\u001b[0m\u001b[0;34m-\u001b[0m\u001b[0mtic\u001b[0m\u001b[0;34m)\u001b[0m\u001b[0;34m)\u001b[0m\u001b[0;34m\u001b[0m\u001b[0;34m\u001b[0m\u001b[0m\n",
      "\u001b[0;32m<ipython-input-98-fb3a932a28b1>\u001b[0m in \u001b[0;36mtwo_layer_model\u001b[0;34m(X, Y, layers_dims, learning_rate, num_iterations, print_cost)\u001b[0m\n\u001b[1;32m     27\u001b[0m         \u001b[0;31m## HERE WE INITIALIZE THE LINEAR BACKWORD PROPAGATION\u001b[0m\u001b[0;34m\u001b[0m\u001b[0;34m\u001b[0m\u001b[0;34m\u001b[0m\u001b[0m\n\u001b[1;32m     28\u001b[0m         \u001b[0mdA1\u001b[0m\u001b[0;34m,\u001b[0m\u001b[0mdw2\u001b[0m\u001b[0;34m,\u001b[0m\u001b[0mdb2\u001b[0m\u001b[0;34m=\u001b[0m\u001b[0mlinear_activation_backword\u001b[0m\u001b[0;34m(\u001b[0m\u001b[0mdA2\u001b[0m\u001b[0;34m,\u001b[0m\u001b[0mcache2\u001b[0m\u001b[0;34m,\u001b[0m\u001b[0mactivation\u001b[0m\u001b[0;34m=\u001b[0m\u001b[0;34m\"sigmoid\"\u001b[0m\u001b[0;34m)\u001b[0m\u001b[0;34m\u001b[0m\u001b[0;34m\u001b[0m\u001b[0m\n\u001b[0;32m---> 29\u001b[0;31m         \u001b[0mdA2\u001b[0m\u001b[0;34m,\u001b[0m\u001b[0mdw1\u001b[0m\u001b[0;34m,\u001b[0m\u001b[0mdb1\u001b[0m\u001b[0;34m=\u001b[0m\u001b[0mlinear_activation_backword\u001b[0m\u001b[0;34m(\u001b[0m\u001b[0mdA1\u001b[0m\u001b[0;34m,\u001b[0m\u001b[0mcache1\u001b[0m\u001b[0;34m,\u001b[0m\u001b[0mactivation\u001b[0m\u001b[0;34m=\u001b[0m\u001b[0;34m\"relu\"\u001b[0m\u001b[0;34m)\u001b[0m\u001b[0;34m\u001b[0m\u001b[0;34m\u001b[0m\u001b[0m\n\u001b[0m\u001b[1;32m     30\u001b[0m \u001b[0;34m\u001b[0m\u001b[0m\n\u001b[1;32m     31\u001b[0m         \u001b[0;31m## set grads ['dW1'] to dw1, f=grads['db1']\u001b[0m\u001b[0;34m\u001b[0m\u001b[0;34m\u001b[0m\u001b[0;34m\u001b[0m\u001b[0m\n",
      "\u001b[0;32m<ipython-input-95-157cc8d5055e>\u001b[0m in \u001b[0;36mlinear_activation_backword\u001b[0;34m(dA, cache, activation)\u001b[0m\n\u001b[1;32m      7\u001b[0m     \u001b[0;32melif\u001b[0m \u001b[0mactivation\u001b[0m\u001b[0;34m==\u001b[0m\u001b[0;34m\"relu\"\u001b[0m\u001b[0;34m:\u001b[0m\u001b[0;34m\u001b[0m\u001b[0;34m\u001b[0m\u001b[0m\n\u001b[1;32m      8\u001b[0m         \u001b[0mdz\u001b[0m\u001b[0;34m=\u001b[0m\u001b[0mrelu_backward\u001b[0m\u001b[0;34m(\u001b[0m\u001b[0mdA\u001b[0m\u001b[0;34m,\u001b[0m\u001b[0mactivation_cache\u001b[0m\u001b[0;34m)\u001b[0m\u001b[0;34m\u001b[0m\u001b[0;34m\u001b[0m\u001b[0m\n\u001b[0;32m----> 9\u001b[0;31m         \u001b[0mdA_prev\u001b[0m\u001b[0;34m,\u001b[0m\u001b[0mdw\u001b[0m\u001b[0;34m,\u001b[0m\u001b[0mdb\u001b[0m\u001b[0;34m=\u001b[0m\u001b[0mlinear_backword\u001b[0m\u001b[0;34m(\u001b[0m\u001b[0mdz\u001b[0m\u001b[0;34m,\u001b[0m\u001b[0mlinear_cache\u001b[0m\u001b[0;34m)\u001b[0m\u001b[0;34m\u001b[0m\u001b[0;34m\u001b[0m\u001b[0m\n\u001b[0m\u001b[1;32m     10\u001b[0m \u001b[0;34m\u001b[0m\u001b[0m\n\u001b[1;32m     11\u001b[0m     \u001b[0;32mreturn\u001b[0m \u001b[0mdA_prev\u001b[0m\u001b[0;34m,\u001b[0m\u001b[0mdw\u001b[0m\u001b[0;34m,\u001b[0m\u001b[0mdb\u001b[0m\u001b[0;34m\u001b[0m\u001b[0;34m\u001b[0m\u001b[0m\n",
      "\u001b[0;32m<ipython-input-89-7e52a46092c7>\u001b[0m in \u001b[0;36mlinear_backword\u001b[0;34m(dz, cache)\u001b[0m\n\u001b[1;32m      4\u001b[0m     \u001b[0mm\u001b[0m\u001b[0;34m=\u001b[0m\u001b[0mA_prev\u001b[0m\u001b[0;34m.\u001b[0m\u001b[0mshape\u001b[0m\u001b[0;34m[\u001b[0m\u001b[0;36m1\u001b[0m\u001b[0;34m]\u001b[0m\u001b[0;34m\u001b[0m\u001b[0;34m\u001b[0m\u001b[0m\n\u001b[1;32m      5\u001b[0m     \u001b[0;31m##HERE WE GO WITH BACKPROPAGATION\u001b[0m\u001b[0;34m\u001b[0m\u001b[0;34m\u001b[0m\u001b[0;34m\u001b[0m\u001b[0m\n\u001b[0;32m----> 6\u001b[0;31m     \u001b[0mdw\u001b[0m\u001b[0;34m=\u001b[0m\u001b[0;34m(\u001b[0m\u001b[0;36m1\u001b[0m\u001b[0;34m/\u001b[0m\u001b[0mm\u001b[0m\u001b[0;34m)\u001b[0m\u001b[0;34m*\u001b[0m\u001b[0mnp\u001b[0m\u001b[0;34m.\u001b[0m\u001b[0mdot\u001b[0m\u001b[0;34m(\u001b[0m\u001b[0mdz\u001b[0m\u001b[0;34m,\u001b[0m\u001b[0mA_prev\u001b[0m\u001b[0;34m.\u001b[0m\u001b[0mT\u001b[0m\u001b[0;34m)\u001b[0m\u001b[0;34m\u001b[0m\u001b[0;34m\u001b[0m\u001b[0m\n\u001b[0m\u001b[1;32m      7\u001b[0m     \u001b[0mdb\u001b[0m\u001b[0;34m=\u001b[0m\u001b[0;34m(\u001b[0m\u001b[0;36m1\u001b[0m\u001b[0;34m/\u001b[0m\u001b[0mm\u001b[0m\u001b[0;34m)\u001b[0m\u001b[0;34m*\u001b[0m\u001b[0mnp\u001b[0m\u001b[0;34m.\u001b[0m\u001b[0msum\u001b[0m\u001b[0;34m(\u001b[0m\u001b[0mdz\u001b[0m\u001b[0;34m,\u001b[0m\u001b[0maxis\u001b[0m\u001b[0;34m=\u001b[0m\u001b[0;36m1\u001b[0m\u001b[0;34m,\u001b[0m\u001b[0mkeepdims\u001b[0m\u001b[0;34m=\u001b[0m\u001b[0;32mTrue\u001b[0m\u001b[0;34m)\u001b[0m\u001b[0;34m\u001b[0m\u001b[0;34m\u001b[0m\u001b[0m\n\u001b[1;32m      8\u001b[0m     \u001b[0mdA_prev\u001b[0m\u001b[0;34m=\u001b[0m\u001b[0mnp\u001b[0m\u001b[0;34m.\u001b[0m\u001b[0mdot\u001b[0m\u001b[0;34m(\u001b[0m\u001b[0mw\u001b[0m\u001b[0;34m.\u001b[0m\u001b[0mT\u001b[0m\u001b[0;34m,\u001b[0m\u001b[0mdz\u001b[0m\u001b[0;34m)\u001b[0m\u001b[0;34m\u001b[0m\u001b[0;34m\u001b[0m\u001b[0m\n",
      "\u001b[0;32m<__array_function__ internals>\u001b[0m in \u001b[0;36mdot\u001b[0;34m(*args, **kwargs)\u001b[0m\n",
      "\u001b[0;31mKeyboardInterrupt\u001b[0m: "
     ]
    }
   ],
   "source": [
    "tic=time.time()\n",
    "parameters = two_layer_model(X_flatten, y_flatten, layers_dims = (n_x, 800, n_y), num_iterations = 3000, print_cost=True)\n",
    "toc=time.time()\n",
    "print(\"total time req:  \"+str(toc-tic))"
   ]
  },
  {
   "cell_type": "code",
   "execution_count": 135,
   "metadata": {},
   "outputs": [
    {
     "name": "stdout",
     "output_type": "stream",
     "text": [
      "now the accuracy is 73.95%\n"
     ]
    }
   ],
   "source": [
    "predict(x_t,y_t,parameters)"
   ]
  },
  {
   "cell_type": "code",
   "execution_count": 112,
   "metadata": {},
   "outputs": [
    {
     "data": {
      "text/plain": [
       "{'W1': array([[ 1.62434536e-02, -6.11756414e-03, -5.28171752e-03, ...,\n",
       "          7.84770651e-03, -9.55425262e-03,  5.85910431e-03],\n",
       "        [ 2.06578332e-02, -1.47115693e-02, -8.30171895e-03, ...,\n",
       "          9.86352180e-03, -4.66154857e-03,  1.38499134e-02],\n",
       "        [-1.07296428e-02,  4.95158611e-03, -9.52062101e-03, ...,\n",
       "         -1.45832446e-02,  4.94341651e-03, -1.49419377e-02],\n",
       "        ...,\n",
       "        [-3.89270875e-03,  1.11351353e-03, -2.58030601e-04, ...,\n",
       "         -7.72099866e-05,  2.49801193e-03, -1.87481240e-02],\n",
       "        [ 3.95088442e-03, -1.34564911e-02,  1.45737463e-03, ...,\n",
       "         -1.00051781e-02,  1.44122504e-02,  1.75916528e-02],\n",
       "        [ 1.51240457e-03,  5.78534800e-03, -3.52116845e-03, ...,\n",
       "          3.21586303e-04,  2.05216338e-02, -4.65932584e-03]]),\n",
       " 'b1': array([[0.],\n",
       "        [0.],\n",
       "        [0.],\n",
       "        [0.],\n",
       "        [0.],\n",
       "        [0.],\n",
       "        [0.],\n",
       "        [0.],\n",
       "        [0.],\n",
       "        [0.],\n",
       "        [0.],\n",
       "        [0.],\n",
       "        [0.],\n",
       "        [0.],\n",
       "        [0.],\n",
       "        [0.],\n",
       "        [0.],\n",
       "        [0.],\n",
       "        [0.],\n",
       "        [0.],\n",
       "        [0.],\n",
       "        [0.],\n",
       "        [0.],\n",
       "        [0.],\n",
       "        [0.],\n",
       "        [0.],\n",
       "        [0.],\n",
       "        [0.],\n",
       "        [0.],\n",
       "        [0.],\n",
       "        [0.],\n",
       "        [0.],\n",
       "        [0.],\n",
       "        [0.],\n",
       "        [0.],\n",
       "        [0.],\n",
       "        [0.],\n",
       "        [0.],\n",
       "        [0.],\n",
       "        [0.],\n",
       "        [0.],\n",
       "        [0.],\n",
       "        [0.],\n",
       "        [0.],\n",
       "        [0.],\n",
       "        [0.],\n",
       "        [0.],\n",
       "        [0.],\n",
       "        [0.],\n",
       "        [0.],\n",
       "        [0.],\n",
       "        [0.],\n",
       "        [0.],\n",
       "        [0.],\n",
       "        [0.],\n",
       "        [0.],\n",
       "        [0.],\n",
       "        [0.],\n",
       "        [0.],\n",
       "        [0.],\n",
       "        [0.],\n",
       "        [0.],\n",
       "        [0.],\n",
       "        [0.],\n",
       "        [0.],\n",
       "        [0.],\n",
       "        [0.],\n",
       "        [0.],\n",
       "        [0.],\n",
       "        [0.],\n",
       "        [0.],\n",
       "        [0.],\n",
       "        [0.],\n",
       "        [0.],\n",
       "        [0.],\n",
       "        [0.],\n",
       "        [0.],\n",
       "        [0.],\n",
       "        [0.],\n",
       "        [0.]]),\n",
       " 'W2': array([[ 6.96139352e-03,  2.31154308e-02,  1.03561473e-02,\n",
       "          9.05268669e-04, -1.11042856e-02,  4.92133308e-03,\n",
       "         -4.55282998e-03, -3.03386296e-03,  1.15876993e-02,\n",
       "         -2.06936970e-02,  5.05555289e-04,  1.95712529e-02,\n",
       "         -3.33575827e-03,  3.81062326e-03, -3.00656735e-03,\n",
       "         -1.09231429e-02, -1.35163552e-02, -4.51983461e-03,\n",
       "         -9.70312501e-03, -1.05132512e-02,  1.55555324e-02,\n",
       "          1.09939171e-02, -1.32590898e-02, -7.82690063e-05,\n",
       "          1.27871010e-02, -1.35882762e-02,  5.99791795e-03,\n",
       "          2.08920249e-02,  1.21066303e-02, -3.74487302e-03,\n",
       "          1.03230062e-02,  3.21191082e-03,  3.06225644e-04,\n",
       "         -5.96299494e-03, -1.53546086e-02, -7.63811716e-03,\n",
       "          7.16502684e-03, -1.18636039e-02, -6.99848586e-03,\n",
       "         -6.60717725e-04,  1.08226289e-02, -1.44702788e-02,\n",
       "          9.49831298e-03,  1.53744823e-02,  3.75877505e-03,\n",
       "          5.79781738e-03,  1.73793356e-04, -4.40322096e-03,\n",
       "         -1.05065494e-02, -5.87304824e-03,  7.21593359e-04,\n",
       "          1.67639148e-02, -1.63893008e-03,  1.05970667e-02,\n",
       "         -1.18194902e-03,  1.14367327e-02, -7.75942432e-04,\n",
       "         -1.15297432e-02,  6.49017046e-03,  1.60978172e-02,\n",
       "         -5.90615761e-03, -1.13150606e-02,  5.31295382e-03,\n",
       "         -7.29720680e-03, -1.24473526e-03, -4.05424797e-04,\n",
       "         -4.46627992e-03, -1.44368525e-03, -1.66414110e-03,\n",
       "         -2.93853000e-03,  1.06388225e-03,  9.56608341e-03,\n",
       "          5.16247844e-04,  4.96533282e-03,  1.60833182e-02,\n",
       "          1.75036344e-02, -2.61774124e-03, -1.27917462e-03,\n",
       "         -4.59041329e-06,  2.24863940e-02],\n",
       "        [-8.67834741e-03,  4.24984113e-03, -2.31424501e-03,\n",
       "          7.35096378e-03,  6.31561445e-03, -2.32532093e-03,\n",
       "          7.00390577e-03,  7.35498373e-03, -2.44484403e-03,\n",
       "          2.54668458e-02,  2.32848131e-04, -1.35708485e-02,\n",
       "         -2.33304118e-03, -1.73544101e-03,  1.73874366e-02,\n",
       "         -1.00026543e-02,  4.68793506e-04, -7.27882462e-03,\n",
       "          1.90877168e-02,  1.87060481e-02, -8.13485175e-04,\n",
       "          1.67890934e-03,  1.18852887e-02,  7.06753688e-03,\n",
       "          3.07538094e-03,  2.16057889e-03,  1.14162409e-02,\n",
       "         -1.05763857e-02, -1.10340382e-03,  8.32659309e-03,\n",
       "         -1.58103538e-02, -3.43669913e-04,  4.34588141e-03,\n",
       "          2.61713900e-04,  1.02518543e-02, -1.93319740e-02,\n",
       "          7.88168081e-03,  1.13338224e-02, -1.96686084e-02,\n",
       "         -1.51303215e-02, -7.89603184e-03, -1.58155029e-04,\n",
       "          7.82099251e-03,  5.24345654e-03,  1.16322346e-02,\n",
       "          1.55808297e-02, -2.58609945e-03,  3.58619484e-03,\n",
       "          7.45494961e-03,  1.78938006e-02,  8.12703780e-03,\n",
       "          2.83961928e-03,  1.28391303e-03, -1.14119845e-02,\n",
       "          1.22064579e-02,  9.81942487e-03,  3.60416497e-03,\n",
       "         -1.27471184e-02,  1.04818049e-02,  4.99348548e-03,\n",
       "          1.08347682e-02, -8.52531386e-03, -1.48160995e-05,\n",
       "         -5.06004533e-03,  9.38810151e-03,  1.33681346e-02,\n",
       "          3.30669719e-03, -3.51144131e-03,  3.63299495e-03,\n",
       "         -1.26389521e-02,  8.80192342e-03,  1.17776730e-02,\n",
       "          1.60531324e-02, -3.36146314e-03,  1.32644996e-02,\n",
       "         -1.40337636e-02,  3.88700569e-05, -5.37655827e-03,\n",
       "         -9.24173657e-03, -2.69419540e-03],\n",
       "        [-4.30643067e-03, -2.39686097e-02,  5.19583653e-03,\n",
       "         -2.36486289e-02, -8.73345801e-03,  1.10961449e-03,\n",
       "          2.98976278e-03,  1.81143443e-03,  1.17089064e-02,\n",
       "         -1.12133471e-02,  1.24994793e-02, -6.51810120e-03,\n",
       "          1.04118030e-03,  5.06558656e-03,  2.86008423e-02,\n",
       "         -1.76568627e-02, -6.67491092e-03, -9.95945754e-03,\n",
       "          6.01186601e-03,  2.31552438e-05,  1.65327852e-02,\n",
       "          1.12954655e-02,  9.90185495e-03, -1.40472001e-02,\n",
       "          8.99303199e-03,  8.52197815e-03, -2.84612867e-02,\n",
       "          1.50625931e-02, -5.29672580e-03, -5.73659258e-03,\n",
       "          8.91562196e-03,  2.55572381e-03,  2.94893677e-03,\n",
       "          6.25173877e-03, -5.31829628e-04,  9.77488505e-03,\n",
       "          1.09680235e-02, -2.85730582e-03,  1.09453897e-02,\n",
       "         -6.58888436e-03,  1.49269197e-02, -9.24669490e-03,\n",
       "          5.74886359e-03, -2.71222916e-03, -1.68178286e-02,\n",
       "         -5.36650660e-03,  4.05702044e-03,  2.19189382e-02,\n",
       "         -3.02354026e-03, -5.12171038e-03, -3.95404716e-03,\n",
       "         -1.07756955e-02, -1.06466032e-02,  1.12219530e-02,\n",
       "         -3.10352246e-03, -1.61748597e-03,  1.14643752e-02,\n",
       "          2.71657092e-03, -5.39754348e-03,  1.28788646e-02,\n",
       "          1.55239131e-02, -7.67151540e-03,  3.75862397e-03,\n",
       "          2.10210765e-03,  4.82528780e-03, -5.29194428e-03,\n",
       "         -1.19884732e-02,  6.32968778e-06,  3.76843736e-03,\n",
       "         -9.47126640e-03,  7.20219590e-03,  1.80957593e-02,\n",
       "         -3.63987924e-03, -6.19896077e-04, -1.13902731e-02,\n",
       "         -8.22212249e-03,  1.81449147e-02, -2.47904088e-03,\n",
       "         -2.25187655e-02,  1.77613049e-02]]),\n",
       " 'b2': array([[0.],\n",
       "        [0.],\n",
       "        [0.]])}"
      ]
     },
     "execution_count": 112,
     "metadata": {},
     "output_type": "execute_result"
    }
   ],
   "source": [
    "parameters"
   ]
  },
  {
   "cell_type": "code",
   "execution_count": 192,
   "metadata": {},
   "outputs": [],
   "source": [
    "most_freq=[word for word in most_freq if not word in stopwords.words()]"
   ]
  },
  {
   "cell_type": "code",
   "execution_count": 194,
   "metadata": {},
   "outputs": [
    {
     "data": {
      "text/plain": [
       "467"
      ]
     },
     "execution_count": 194,
     "metadata": {},
     "output_type": "execute_result"
    }
   ],
   "source": [
    "len(most_freq)"
   ]
  },
  {
   "cell_type": "code",
   "execution_count": 82,
   "metadata": {},
   "outputs": [
    {
     "data": {
      "text/plain": [
       "array([[0.33725037, 0.0120133 , 0.77939093],\n",
       "       [0.3203433 , 0.23555779, 0.36997337],\n",
       "       [0.56714509, 0.13459648, 0.20939841],\n",
       "       [0.58336389, 0.23080498, 0.12164241],\n",
       "       [0.15971185, 0.47186056, 0.30910669],\n",
       "       [0.36129568, 0.28528358, 0.2300418 ],\n",
       "       [0.06668249, 0.11782098, 0.83821917],\n",
       "       [0.03035653, 0.04873479, 0.94244696],\n",
       "       [0.34366124, 0.0756463 , 0.59514489],\n",
       "       [0.64274527, 0.04651778, 0.34996358]])"
      ]
     },
     "execution_count": 82,
     "metadata": {},
     "output_type": "execute_result"
    }
   ],
   "source": [
    "y_pred.T[0:10]"
   ]
  },
  {
   "cell_type": "code",
   "execution_count": 92,
   "metadata": {},
   "outputs": [
    {
     "data": {
      "text/plain": [
       "(3, 1958)"
      ]
     },
     "execution_count": 92,
     "metadata": {},
     "output_type": "execute_result"
    }
   ],
   "source": [
    "y_t.shape"
   ]
  },
  {
   "cell_type": "code",
   "execution_count": 104,
   "metadata": {},
   "outputs": [],
   "source": [
    "from sklearn import preprocessing"
   ]
  },
  {
   "cell_type": "code",
   "execution_count": 162,
   "metadata": {},
   "outputs": [],
   "source": [
    "lb = preprocessing.LabelBinarizer()"
   ]
  },
  {
   "cell_type": "code",
   "execution_count": 93,
   "metadata": {},
   "outputs": [],
   "source": [
    "y_p=np.zeros((y_pred.T.shape))\n",
    "i=0\n",
    "for l in y_pred.T:\n",
    "    l=l.tolist()\n",
    "    indx=l.index(max(l))\n",
    "    y_p[i][indx]=1\n",
    "    i=i+1"
   ]
  },
  {
   "cell_type": "code",
   "execution_count": 88,
   "metadata": {},
   "outputs": [],
   "source": [
    "l=y_pred.T[0]"
   ]
  },
  {
   "cell_type": "code",
   "execution_count": 183,
   "metadata": {},
   "outputs": [],
   "source": [
    "l=l.tolist()"
   ]
  },
  {
   "cell_type": "code",
   "execution_count": 186,
   "metadata": {},
   "outputs": [
    {
     "data": {
      "text/plain": [
       "2"
      ]
     },
     "execution_count": 186,
     "metadata": {},
     "output_type": "execute_result"
    }
   ],
   "source": [
    "l.index(max(l))"
   ]
  },
  {
   "cell_type": "code",
   "execution_count": 85,
   "metadata": {},
   "outputs": [
    {
     "data": {
      "text/plain": [
       "array([[1., 1., 1., ..., 0., 0., 0.],\n",
       "       [0., 0., 0., ..., 0., 0., 1.],\n",
       "       [0., 0., 0., ..., 1., 1., 0.]], dtype=float32)"
      ]
     },
     "execution_count": 85,
     "metadata": {},
     "output_type": "execute_result"
    }
   ],
   "source": [
    "y_t[0:10]"
   ]
  },
  {
   "cell_type": "code",
   "execution_count": 94,
   "metadata": {},
   "outputs": [
    {
     "data": {
      "text/plain": [
       "array([[0., 0., 1.],\n",
       "       [1., 0., 0.],\n",
       "       [1., 0., 0.],\n",
       "       ...,\n",
       "       [0., 0., 1.],\n",
       "       [1., 0., 0.],\n",
       "       [0., 1., 0.]])"
      ]
     },
     "execution_count": 94,
     "metadata": {},
     "output_type": "execute_result"
    }
   ],
   "source": [
    "y_p"
   ]
  },
  {
   "cell_type": "code",
   "execution_count": 93,
   "metadata": {},
   "outputs": [
    {
     "data": {
      "text/plain": [
       "(1958, 3)"
      ]
     },
     "execution_count": 93,
     "metadata": {},
     "output_type": "execute_result"
    }
   ],
   "source": [
    "y_p.shape"
   ]
  },
  {
   "cell_type": "code",
   "execution_count": 197,
   "metadata": {},
   "outputs": [],
   "source": [
    "y_t=y_t.T"
   ]
  },
  {
   "cell_type": "code",
   "execution_count": 96,
   "metadata": {},
   "outputs": [
    {
     "data": {
      "text/plain": [
       "(1958, 3)"
      ]
     },
     "execution_count": 96,
     "metadata": {},
     "output_type": "execute_result"
    }
   ],
   "source": [
    "y_p.shape"
   ]
  },
  {
   "cell_type": "code",
   "execution_count": 200,
   "metadata": {},
   "outputs": [
    {
     "data": {
      "text/plain": [
       "(1958, 3)"
      ]
     },
     "execution_count": 200,
     "metadata": {},
     "output_type": "execute_result"
    }
   ],
   "source": [
    "y_t.shape"
   ]
  },
  {
   "cell_type": "code",
   "execution_count": 201,
   "metadata": {},
   "outputs": [
    {
     "name": "stdout",
     "output_type": "stream",
     "text": [
      "now the accuracy is 72.06%\n"
     ]
    }
   ],
   "source": [
    "predict(x_t,y_t.T,parameters)"
   ]
  },
  {
   "cell_type": "code",
   "execution_count": 98,
   "metadata": {},
   "outputs": [
    {
     "data": {
      "text/plain": [
       "0.6736465781409602"
      ]
     },
     "execution_count": 98,
     "metadata": {},
     "output_type": "execute_result"
    }
   ],
   "source": [
    "metrics.accuracy_score(y_t,y_p)"
   ]
  },
  {
   "cell_type": "code",
   "execution_count": 157,
   "metadata": {},
   "outputs": [
    {
     "data": {
      "text/plain": [
       "0.6664964249233912"
      ]
     },
     "execution_count": 157,
     "metadata": {},
     "output_type": "execute_result"
    }
   ],
   "source": [
    "metrics.accuracy_score(y_t,y_p)"
   ]
  },
  {
   "cell_type": "code",
   "execution_count": 202,
   "metadata": {},
   "outputs": [
    {
     "data": {
      "text/plain": [
       "(1, 300)"
      ]
     },
     "execution_count": 202,
     "metadata": {},
     "output_type": "execute_result"
    }
   ],
   "source": [
    "vr.shape"
   ]
  },
  {
   "cell_type": "code",
   "execution_count": 217,
   "metadata": {},
   "outputs": [
    {
     "data": {
      "text/plain": [
       "array([1., 0., 0.], dtype=float32)"
      ]
     },
     "execution_count": 217,
     "metadata": {},
     "output_type": "execute_result"
    }
   ],
   "source": [
    "y_train[1]"
   ]
  },
  {
   "cell_type": "code",
   "execution_count": 215,
   "metadata": {},
   "outputs": [],
   "source": [
    "y_pred,caches=L_model_forward(vr.T, parameters)"
   ]
  },
  {
   "cell_type": "code",
   "execution_count": 216,
   "metadata": {},
   "outputs": [
    {
     "data": {
      "text/plain": [
       "array([[0.89747464],\n",
       "       [0.06619898],\n",
       "       [0.05926075]])"
      ]
     },
     "execution_count": 216,
     "metadata": {},
     "output_type": "execute_result"
    }
   ],
   "source": [
    "y_pred"
   ]
  },
  {
   "cell_type": "code",
   "execution_count": 113,
   "metadata": {},
   "outputs": [],
   "source": [
    "def predict(X,Y,parameters):\n",
    "    y_pred,caches=L_model_forwrd(X, parameters)\n",
    "    \n",
    "    ##convert it into normalize format\n",
    "    y_p=np.zeros((y_pred.T.shape))\n",
    "    i=0\n",
    "    for l in y_pred.T:\n",
    "        l=l.tolist()\n",
    "        indx=l.index(max(l))\n",
    "        y_p[i][indx]=1\n",
    "        i=i+1\n",
    "        \n",
    "    ##finished the binarization\n",
    "    y_t=Y.T\n",
    "    accur=metrics.accuracy_score(y_t,y_p)\n",
    "    print(\"now the accuracy is {0:.2f}%\".format(accur*100))"
   ]
  },
  {
   "cell_type": "code",
   "execution_count": 114,
   "metadata": {},
   "outputs": [],
   "source": [
    "def sentTokenizer(contents):\n",
    "    sentence_vector1=[]\n",
    "    for sentence in contents:\n",
    "        sent_token=nltk.word_tokenize(sentence)\n",
    "        set_toke=[]\n",
    "        for token in most_freq:\n",
    "            if token in sent_token:\n",
    "                set_toke.append(1)\n",
    "            else:\n",
    "                set_toke.append(0)\n",
    "        sentence_vector1.append(set_toke)\n",
    "    setVect=np.asarray(sentence_vector1)\n",
    "    \n",
    "    return setVect"
   ]
  },
  {
   "cell_type": "code",
   "execution_count": 108,
   "metadata": {},
   "outputs": [
    {
     "name": "stdout",
     "output_type": "stream",
     "text": [
      "now the accuracy is 77.61%\n"
     ]
    }
   ],
   "source": [
    "predict(X_flatten,y_flatten,parameters)"
   ]
  },
  {
   "cell_type": "code",
   "execution_count": 103,
   "metadata": {},
   "outputs": [],
   "source": [
    "cont='\"No,\" he said, \"oh, no a member of my family my niece, and a most accomplished woman.\"'"
   ]
  },
  {
   "cell_type": "code",
   "execution_count": 104,
   "metadata": {},
   "outputs": [],
   "source": [
    "cont=cont.lower()\n",
    "sent_token=nltk.word_tokenize(cont)\n",
    "set_toke=[]\n",
    "for token in most_freq:\n",
    "    if token in sent_token:\n",
    "        set_toke.append(1)\n",
    "    else:\n",
    "        set_toke.append(0)\n",
    "vr=np.asarray(set_toke)"
   ]
  },
  {
   "cell_type": "code",
   "execution_count": 105,
   "metadata": {},
   "outputs": [],
   "source": [
    "vr=vr.reshape(1,300)"
   ]
  },
  {
   "cell_type": "code",
   "execution_count": 106,
   "metadata": {},
   "outputs": [
    {
     "data": {
      "text/plain": [
       "(1, 300)"
      ]
     },
     "execution_count": 106,
     "metadata": {},
     "output_type": "execute_result"
    }
   ],
   "source": [
    "vr.shape"
   ]
  },
  {
   "cell_type": "code",
   "execution_count": 182,
   "metadata": {},
   "outputs": [
    {
     "data": {
      "text/plain": [
       "array(['Her hair was the brightest living gold, and despite the poverty of her clothing, seemed to set a crown of distinction on her head.',\n",
       "       '\"No,\" he said, \"oh, no a member of my family my niece, and a most accomplished woman.\"',\n",
       "       'The magistrate appeared at first perfectly incredulous, but as I continued he became more attentive and interested; I saw him sometimes shudder with horror; at others a lively surprise, unmingled with disbelief, was painted on his countenance.',\n",
       "       ...,\n",
       "       'The medical testimony spoke confidently of the virtuous character of the deceased.',\n",
       "       'When we arrived, after a little rest, he led me over the house and pointed out to me the rooms which my mother had inhabited.',\n",
       "       'Some were destroyed; the major part escaped by quick and well ordered movements; and danger made them careful.'],\n",
       "      dtype=object)"
      ]
     },
     "execution_count": 182,
     "metadata": {},
     "output_type": "execute_result"
    }
   ],
   "source": []
  },
  {
   "cell_type": "code",
   "execution_count": null,
   "metadata": {},
   "outputs": [],
   "source": []
  },
  {
   "cell_type": "code",
   "execution_count": 144,
   "metadata": {},
   "outputs": [
    {
     "name": "stdout",
     "output_type": "stream",
     "text": [
      "now the accuracy is 40.35%\n"
     ]
    }
   ],
   "source": [
    "predict(X_flatten,y_flatten,parameters)"
   ]
  },
  {
   "cell_type": "code",
   "execution_count": 177,
   "metadata": {},
   "outputs": [
    {
     "data": {
      "text/plain": [
       "[[0.0, 0.0, 0.0], [0.0, 0.0, 0.0]]"
      ]
     },
     "execution_count": 177,
     "metadata": {},
     "output_type": "execute_result"
    }
   ],
   "source": [
    "a.tolist()"
   ]
  },
  {
   "cell_type": "code",
   "execution_count": 174,
   "metadata": {},
   "outputs": [],
   "source": [
    "a=[1,2,3,4]"
   ]
  },
  {
   "cell_type": "code",
   "execution_count": 175,
   "metadata": {},
   "outputs": [
    {
     "data": {
      "text/plain": [
       "2"
      ]
     },
     "execution_count": 175,
     "metadata": {},
     "output_type": "execute_result"
    }
   ],
   "source": [
    "a.index(3)"
   ]
  },
  {
   "cell_type": "code",
   "execution_count": 97,
   "metadata": {},
   "outputs": [
    {
     "data": {
      "text/plain": [
       "(300, 17621)"
      ]
     },
     "execution_count": 97,
     "metadata": {},
     "output_type": "execute_result"
    }
   ],
   "source": [
    "X_flatten.shape"
   ]
  },
  {
   "cell_type": "code",
   "execution_count": 124,
   "metadata": {},
   "outputs": [
    {
     "data": {
      "text/plain": [
       "(300, 200, 200, 3)"
      ]
     },
     "execution_count": 124,
     "metadata": {},
     "output_type": "execute_result"
    }
   ],
   "source": [
    "layers_dims"
   ]
  },
  {
   "cell_type": "code",
   "execution_count": 122,
   "metadata": {},
   "outputs": [],
   "source": [
    "parmt=initialize_with_he(layers_dims)"
   ]
  },
  {
   "cell_type": "code",
   "execution_count": 125,
   "metadata": {},
   "outputs": [],
   "source": [
    "W1=parmt[\"W1\"]\n",
    "b1=parmt['b1']\n",
    "W2=parmt[\"W2\"]\n",
    "b2=parmt['b2']\n",
    "W3=parmt[\"W3\"]\n",
    "b3=parmt['b3']\n"
   ]
  },
  {
   "cell_type": "code",
   "execution_count": 137,
   "metadata": {},
   "outputs": [],
   "source": [
    "Z1=np.dot(W1,X_flatten)+b1\n",
    "A1,caches=relu(Z1)\n",
    "Z2=np.dot(W2,A1)+b2\n",
    "A2,caches=relu(Z2)\n",
    "Z3=np.dot(W3,A2)+b3\n",
    "A3,caches=softmax(Z3)"
   ]
  },
  {
   "cell_type": "code",
   "execution_count": 152,
   "metadata": {},
   "outputs": [],
   "source": [
    "Al,caches=forword_propagation(X_flatten,parameters)"
   ]
  },
  {
   "cell_type": "code",
   "execution_count": 155,
   "metadata": {},
   "outputs": [
    {
     "data": {
      "text/plain": [
       "array([[2.13265595e-05, 2.02546988e-05, 1.19895133e-05, ...,\n",
       "        2.14157369e-05, 1.63627790e-05, 1.81893989e-05],\n",
       "       [1.99412499e-05, 1.70262331e-05, 2.33221770e-05, ...,\n",
       "        1.82674038e-05, 1.95454120e-05, 1.86271684e-05],\n",
       "       [1.79752605e-05, 2.22484902e-05, 2.01084849e-05, ...,\n",
       "        2.02954210e-05, 2.19272764e-05, 1.95811140e-05]])"
      ]
     },
     "execution_count": 155,
     "metadata": {},
     "output_type": "execute_result"
    }
   ],
   "source": [
    "Al"
   ]
  },
  {
   "cell_type": "code",
   "execution_count": 156,
   "metadata": {},
   "outputs": [
    {
     "data": {
      "text/plain": [
       "3.627552023089111"
      ]
     },
     "execution_count": 156,
     "metadata": {},
     "output_type": "execute_result"
    }
   ],
   "source": [
    "compute_cost1(Al,y_flatten)"
   ]
  },
  {
   "cell_type": "code",
   "execution_count": 117,
   "metadata": {},
   "outputs": [
    {
     "name": "stderr",
     "output_type": "stream",
     "text": [
      "/home/aman/anaconda3/lib/python3.7/site-packages/ipykernel_launcher.py:1: RuntimeWarning: invalid value encountered in log\n",
      "  \"\"\"Entry point for launching an IPython kernel.\n"
     ]
    }
   ],
   "source": [
    "a=np.log(-20)"
   ]
  },
  {
   "cell_type": "code",
   "execution_count": 120,
   "metadata": {},
   "outputs": [],
   "source": [
    "import math"
   ]
  },
  {
   "cell_type": "code",
   "execution_count": 121,
   "metadata": {},
   "outputs": [
    {
     "name": "stdout",
     "output_type": "stream",
     "text": [
      "not exist\n"
     ]
    }
   ],
   "source": [
    "if math.isnan(a)==False:\n",
    "    print(\"Exist\")\n",
    "else:\n",
    "    print(\"not exist\")"
   ]
  },
  {
   "cell_type": "code",
   "execution_count": null,
   "metadata": {},
   "outputs": [],
   "source": []
  },
  {
   "cell_type": "code",
   "execution_count": null,
   "metadata": {},
   "outputs": [],
   "source": []
  },
  {
   "cell_type": "code",
   "execution_count": null,
   "metadata": {},
   "outputs": [],
   "source": []
  },
  {
   "cell_type": "code",
   "execution_count": 122,
   "metadata": {},
   "outputs": [],
   "source": [
    "Al,caches=L_model_forward(X_flatten, parameters)"
   ]
  },
  {
   "cell_type": "code",
   "execution_count": 123,
   "metadata": {},
   "outputs": [
    {
     "data": {
      "text/plain": [
       "(3, 17621)"
      ]
     },
     "execution_count": 123,
     "metadata": {},
     "output_type": "execute_result"
    }
   ],
   "source": [
    "Al.shape"
   ]
  },
  {
   "cell_type": "code",
   "execution_count": 114,
   "metadata": {},
   "outputs": [
    {
     "data": {
      "text/plain": [
       "(300, 200, 200, 3)"
      ]
     },
     "execution_count": 114,
     "metadata": {},
     "output_type": "execute_result"
    }
   ],
   "source": [
    "(layers_dims)"
   ]
  },
  {
   "cell_type": "code",
   "execution_count": 99,
   "metadata": {},
   "outputs": [
    {
     "data": {
      "text/plain": [
       "array([0.47615686, 0.01383864, 0.71567659])"
      ]
     },
     "execution_count": 99,
     "metadata": {},
     "output_type": "execute_result"
    }
   ],
   "source": [
    "s_t[80]"
   ]
  },
  {
   "cell_type": "code",
   "execution_count": 100,
   "metadata": {},
   "outputs": [
    {
     "data": {
      "text/plain": [
       "array([1., 0., 0.], dtype=float32)"
      ]
     },
     "execution_count": 100,
     "metadata": {},
     "output_type": "execute_result"
    }
   ],
   "source": [
    "y_t.T[80]"
   ]
  },
  {
   "cell_type": "code",
   "execution_count": 122,
   "metadata": {},
   "outputs": [],
   "source": [
    "def softmax(x):\n",
    "    \"\"\"Compute softmax values for each sets of scores in x.\"\"\"\n",
    "    e_x = np.exp(x - np.max(x))\n",
    "    \n",
    "    cache=x\n",
    "\n",
    "    return e_x / e_x.sum(),cache"
   ]
  },
  {
   "cell_type": "code",
   "execution_count": 131,
   "metadata": {},
   "outputs": [],
   "source": [
    "def L_layer_model(X, Y, layers_dims, learning_rate = 0.075, num_iterations = 3000, print_cost=False):#lr was 0.009\n",
    "\n",
    "    np.random.seed(1)\n",
    "    costs = []                         # keep track of cost\n",
    "    \n",
    "    # Parameters initialization. (≈ 1 line of code)\n",
    "    ### START CODE HERE ###\n",
    "    parameters = initialize_parameters_deep(layers_dims)\n",
    "    ### END CODE HERE ###\n",
    "    \n",
    "    # Loop (gradient descent)\n",
    "    for i in range(0, num_iterations):\n",
    "\n",
    "        # Forward propagation: [LINEAR -> RELU]*(L-1) -> LINEAR -> SIGMOID.\n",
    "        ### START CODE HERE ### (≈ 1 line of code)\n",
    "        AL, caches = L_model_forwrd(X, parameters)\n",
    "        ### END CODE HERE ###\n",
    "        #print(\"Forword propagation Complete \",i)\n",
    "        \n",
    "        # Compute cost.\n",
    "        ### START CODE HERE ### (≈ 1 line of code)\n",
    "        #print(\"cost function started \",i)\n",
    "        cost = compute_cost1(AL, Y)\n",
    "        if math.isnan(cost):\n",
    "            break\n",
    "        #print(cost)\n",
    "        ### END CODE HERE ###\n",
    "        #print(\"cost function completed \",i)\n",
    "    \n",
    "        # Backward propagation.\n",
    "        ### START CODE HERE ### (≈ 1 line of code)\n",
    "        #print(\"Back propagation started \",i)\n",
    "        grads = L_model_backward(AL, Y, caches)\n",
    "        ### END CODE HERE ###\n",
    "        #print(\"Back propagation completed \",i)\n",
    " \n",
    "        # Update parameters.\n",
    "        ### START CODE HERE ### (≈ 1 line of code)\n",
    "        parameters = update_parameters(parameters, grads, learning_rate)\n",
    "        ### END CODE HERE ###\n",
    "                \n",
    "        # Print the cost every 100 training example\n",
    "        if print_cost and i % 100 == 0:\n",
    "            print (\"Cost after iteration %i: %f\" %(i, cost))\n",
    "        if print_cost and i % 100 == 0:\n",
    "            costs.append(cost)\n",
    "            \n",
    "    # plot the cost\n",
    "    plt.plot(np.squeeze(costs))\n",
    "    plt.ylabel('cost')\n",
    "    plt.xlabel('iterations (per hundreds)')\n",
    "    plt.title(\"Learning rate =\" + str(learning_rate))\n",
    "    plt.show()\n",
    "    \n",
    "    return parameters"
   ]
  },
  {
   "cell_type": "code",
   "execution_count": 135,
   "metadata": {},
   "outputs": [
    {
     "name": "stdout",
     "output_type": "stream",
     "text": [
      "Cost after iteration 0: 0.687130\n",
      "Cost after iteration 100: 0.607203\n",
      "Cost after iteration 200: 0.524310\n",
      "Cost after iteration 300: 0.472534\n",
      "Cost after iteration 400: 0.459136\n",
      "Cost after iteration 500: 0.447342\n",
      "Cost after iteration 600: 0.431738\n",
      "Cost after iteration 700: 0.426302\n",
      "Cost after iteration 800: 0.411182\n",
      "Cost after iteration 900: 0.396955\n",
      "Cost after iteration 1000: 0.388952\n",
      "Cost after iteration 1100: 0.390868\n",
      "Cost after iteration 1200: 0.393320\n",
      "Cost after iteration 1300: 0.379501\n",
      "Cost after iteration 1400: 0.360441\n",
      "Cost after iteration 1500: 0.330737\n",
      "Cost after iteration 1600: 0.351598\n",
      "Cost after iteration 1700: 0.347700\n",
      "Cost after iteration 1800: 0.338588\n",
      "Cost after iteration 1900: 0.339455\n",
      "Cost after iteration 2000: 0.302833\n",
      "Cost after iteration 2100: 0.288240\n",
      "Cost after iteration 2200: 0.239314\n",
      "Cost after iteration 2300: 0.257365\n",
      "Cost after iteration 2400: 0.272004\n",
      "Cost after iteration 2500: 0.396539\n",
      "Cost after iteration 2600: 0.179630\n",
      "Cost after iteration 2700: 0.149534\n",
      "Cost after iteration 2800: 0.165545\n",
      "Cost after iteration 2900: 0.149294\n",
      "Cost after iteration 3000: 0.122940\n"
     ]
    },
    {
     "name": "stderr",
     "output_type": "stream",
     "text": [
      "/home/aman/anaconda3/lib/python3.7/site-packages/ipykernel_launcher.py:4: RuntimeWarning: invalid value encountered in multiply\n",
      "  after removing the cwd from sys.path.\n"
     ]
    },
    {
     "data": {
      "image/png": "[encoded data removed]",
      "text/plain": [
       "<Figure size 432x288 with 1 Axes>"
      ]
     },
     "metadata": {
      "needs_background": "light"
     },
     "output_type": "display_data"
    }
   ],
   "source": [
    "parameters=L_layer_model(X_flatten, y_flatten, layers_dims, learning_rate = 0.075, num_iterations = 3500, print_cost=True)"
   ]
  },
  {
   "cell_type": "code",
   "execution_count": 137,
   "metadata": {},
   "outputs": [
    {
     "data": {
      "text/plain": [
       "{'W1': array([[ 1.01072243e-01,  1.72408065e-02, -1.16256038e-01, ...,\n",
       "          2.33468332e-02, -1.18392001e-01,  3.86533106e-02],\n",
       "        [ 7.67307809e-02, -7.04839344e-02, -6.87859085e-02, ...,\n",
       "          4.99774111e-02, -3.53930311e-02,  5.94871666e-02],\n",
       "        [-5.42742861e-02,  4.11356573e-02, -4.89130798e-02, ...,\n",
       "         -7.65994853e-02,  3.74548023e-02, -8.84041292e-02],\n",
       "        ...,\n",
       "        [ 4.28738823e-02, -1.29554256e-01,  3.33003936e-02, ...,\n",
       "          3.77920144e-03, -3.52719738e-02, -6.88815737e-02],\n",
       "        [ 4.17744542e-02, -8.53698251e-02, -9.96761975e-05, ...,\n",
       "          2.17747672e-01,  4.16098154e-02, -1.82234646e-02],\n",
       "        [ 3.32603892e-02, -6.26845299e-02, -6.23995837e-02, ...,\n",
       "         -6.21533950e-02, -5.90819115e-02, -2.88935942e-02]]),\n",
       " 'b1': array([[ 5.14419202e-02],\n",
       "        [ 6.30818840e-03],\n",
       "        [ 2.33659384e-03],\n",
       "        [-4.55237523e-02],\n",
       "        [-3.08380513e-01],\n",
       "        [ 1.61815009e-03],\n",
       "        [ 2.75124833e-02],\n",
       "        [-3.80472305e-02],\n",
       "        [-8.92827821e-02],\n",
       "        [-3.44661063e-02],\n",
       "        [-7.06330478e-02],\n",
       "        [ 9.76592953e-03],\n",
       "        [-1.22229823e-02],\n",
       "        [-1.29761108e-01],\n",
       "        [-6.34064637e-03],\n",
       "        [-2.26988020e-02],\n",
       "        [-3.59598540e-02],\n",
       "        [-1.19168442e-01],\n",
       "        [-4.53738315e-02],\n",
       "        [-1.30890868e-02],\n",
       "        [-8.72652060e-03],\n",
       "        [-3.95807442e-02],\n",
       "        [-1.29665739e-01],\n",
       "        [ 7.35936738e-02],\n",
       "        [-8.72889395e-03],\n",
       "        [-3.88986248e-02],\n",
       "        [-9.16269583e-02],\n",
       "        [-1.81962434e-02],\n",
       "        [-4.95216071e-02],\n",
       "        [-6.61615729e-02],\n",
       "        [-9.83915450e-02],\n",
       "        [ 8.71772697e-03],\n",
       "        [-5.15775520e-02],\n",
       "        [ 9.69176419e-03],\n",
       "        [-2.38788385e-02],\n",
       "        [ 7.99396561e-02],\n",
       "        [-2.67560777e-02],\n",
       "        [-4.47150978e-02],\n",
       "        [-6.11901413e-03],\n",
       "        [-4.19788139e-03],\n",
       "        [-1.26904494e-01],\n",
       "        [-3.70808896e-02],\n",
       "        [-1.31492482e-02],\n",
       "        [ 4.57658930e-02],\n",
       "        [-8.40168333e-03],\n",
       "        [-1.25048606e-01],\n",
       "        [ 8.08377556e-02],\n",
       "        [-6.73676602e-02],\n",
       "        [ 2.85111092e-02],\n",
       "        [-1.68396624e-02],\n",
       "        [-8.50633659e-02],\n",
       "        [-6.16614742e-03],\n",
       "        [-9.08958426e-03],\n",
       "        [-4.17664898e-02],\n",
       "        [-2.13168222e-03],\n",
       "        [-6.77555462e-02],\n",
       "        [-1.09153181e-02],\n",
       "        [ 5.09374880e-03],\n",
       "        [-2.18577453e-03],\n",
       "        [-7.42722817e-02],\n",
       "        [ 6.50165837e-02],\n",
       "        [-4.10061228e-02],\n",
       "        [-2.31293305e-02],\n",
       "        [-5.83681197e-02],\n",
       "        [ 4.63630584e-02],\n",
       "        [-2.49682950e-02],\n",
       "        [ 6.14050356e-03],\n",
       "        [-2.77206980e-02],\n",
       "        [ 2.56766958e-02],\n",
       "        [-4.53010282e-02],\n",
       "        [-2.02544779e-02],\n",
       "        [-6.71512873e-02],\n",
       "        [-4.54837490e-03],\n",
       "        [-5.17042206e-02],\n",
       "        [-8.03013656e-03],\n",
       "        [-7.86808203e-02],\n",
       "        [-5.09470500e-02],\n",
       "        [-6.55275847e-02],\n",
       "        [-5.99690182e-02],\n",
       "        [ 1.07767138e-01],\n",
       "        [-8.41836678e-02],\n",
       "        [ 3.35053069e-02],\n",
       "        [ 8.21476468e-03],\n",
       "        [-3.90508647e-02],\n",
       "        [-5.20933406e-02],\n",
       "        [-1.39280461e-02],\n",
       "        [ 1.98812302e-02],\n",
       "        [ 1.67553023e-02],\n",
       "        [-2.98716635e-02],\n",
       "        [ 8.65435847e-03],\n",
       "        [-1.49787434e-02],\n",
       "        [-1.00673931e-01],\n",
       "        [-5.57836799e-03],\n",
       "        [ 3.63630689e-04],\n",
       "        [ 1.39222289e-02],\n",
       "        [ 7.06248150e-02],\n",
       "        [-1.35394994e-02],\n",
       "        [-3.41267066e-02],\n",
       "        [ 1.14315392e-02],\n",
       "        [-4.79963788e-02],\n",
       "        [-1.82714264e-02],\n",
       "        [ 2.12604138e-03],\n",
       "        [ 9.57422083e-03],\n",
       "        [-8.39192913e-03],\n",
       "        [-7.79175199e-02],\n",
       "        [-1.83240517e-02],\n",
       "        [ 3.70828628e-02],\n",
       "        [-1.53369370e-03],\n",
       "        [-1.09025971e-02],\n",
       "        [-4.10911197e-02],\n",
       "        [-6.34689241e-02],\n",
       "        [ 4.66300525e-02],\n",
       "        [-5.66297837e-02],\n",
       "        [-1.66734229e-02],\n",
       "        [-1.01200433e-01],\n",
       "        [ 2.64722987e-02],\n",
       "        [ 1.92348623e-02],\n",
       "        [-3.79620056e-02],\n",
       "        [-1.25687162e-01],\n",
       "        [ 1.29899615e-02],\n",
       "        [-8.50920882e-02],\n",
       "        [-4.08391964e-02],\n",
       "        [ 3.82983308e-02],\n",
       "        [-4.97234906e-02],\n",
       "        [-8.22872972e-02],\n",
       "        [-2.74625856e-02],\n",
       "        [-2.32516354e-03],\n",
       "        [ 2.30720308e-02],\n",
       "        [-6.34962002e-04],\n",
       "        [ 6.26321873e-03],\n",
       "        [-5.67430598e-02],\n",
       "        [-3.42199823e-02],\n",
       "        [-1.23205047e-03],\n",
       "        [ 2.44291702e-02],\n",
       "        [-8.99532230e-03],\n",
       "        [ 3.77848433e-02],\n",
       "        [-2.80369785e-02],\n",
       "        [-4.75974080e-02],\n",
       "        [-2.78245238e-02],\n",
       "        [-3.86931103e-02],\n",
       "        [ 7.92421150e-03],\n",
       "        [-1.23777961e-02],\n",
       "        [-3.62706869e-03],\n",
       "        [-7.78493400e-02],\n",
       "        [-2.46480935e-02],\n",
       "        [-5.38277323e-02],\n",
       "        [-4.80052814e-02],\n",
       "        [ 2.06047813e-02],\n",
       "        [-4.72530580e-02],\n",
       "        [-2.52083313e-02],\n",
       "        [-8.77681283e-04],\n",
       "        [-7.82051399e-02],\n",
       "        [ 1.82347923e-02],\n",
       "        [-5.16215625e-02],\n",
       "        [ 4.40610614e-02],\n",
       "        [-3.43030591e-02],\n",
       "        [-5.19576962e-02],\n",
       "        [-8.09331950e-03],\n",
       "        [ 1.44337815e-02],\n",
       "        [-4.36456873e-02],\n",
       "        [-6.78413492e-02],\n",
       "        [-5.08631128e-02],\n",
       "        [ 2.48868714e-02],\n",
       "        [-1.59481386e-02],\n",
       "        [-3.78635718e-03],\n",
       "        [-4.61304873e-03],\n",
       "        [-1.47971132e-02],\n",
       "        [-5.62852220e-02],\n",
       "        [-3.05733246e-02],\n",
       "        [ 8.81535664e-03],\n",
       "        [-1.18636581e-02],\n",
       "        [-1.48249924e-02],\n",
       "        [-5.45102227e-02],\n",
       "        [ 2.41954169e-02],\n",
       "        [ 4.96645141e-02],\n",
       "        [-1.40728970e-02],\n",
       "        [ 3.06825939e-02],\n",
       "        [ 4.19140125e-03],\n",
       "        [-6.55674219e-03],\n",
       "        [-2.16478418e-02],\n",
       "        [ 3.87011842e-03],\n",
       "        [-2.94497424e-02],\n",
       "        [-2.36822360e-02],\n",
       "        [-2.41721859e-02],\n",
       "        [-7.47034370e-02],\n",
       "        [ 5.56321730e-02],\n",
       "        [-7.68170813e-02],\n",
       "        [-8.82705750e-02],\n",
       "        [-6.36433475e-02],\n",
       "        [-6.76555580e-02],\n",
       "        [-2.77131643e-02],\n",
       "        [ 3.98672882e-02],\n",
       "        [ 2.21915770e-02],\n",
       "        [-2.85375867e-02],\n",
       "        [-4.27441753e-02],\n",
       "        [-7.94480706e-03],\n",
       "        [-1.87854195e-02],\n",
       "        [-5.99460535e-03],\n",
       "        [ 3.26304915e-02],\n",
       "        [-5.96091959e-02],\n",
       "        [-4.93807674e-02],\n",
       "        [-5.64652637e-02],\n",
       "        [ 2.27650080e-04],\n",
       "        [ 2.76532999e-02],\n",
       "        [-2.68201451e-02],\n",
       "        [-1.42225408e-02],\n",
       "        [ 2.24300686e-03],\n",
       "        [-2.59997945e-02],\n",
       "        [-7.21113404e-02],\n",
       "        [-7.93656503e-02],\n",
       "        [-9.12248518e-02],\n",
       "        [ 3.27092346e-04],\n",
       "        [-1.91337329e-02],\n",
       "        [-3.48930153e-02],\n",
       "        [-1.60621278e-02],\n",
       "        [-4.51527473e-02],\n",
       "        [ 1.17699085e-02],\n",
       "        [-1.13514749e-02],\n",
       "        [-1.04933826e-02],\n",
       "        [-7.35255835e-03],\n",
       "        [-1.61930918e-02],\n",
       "        [-4.86542128e-02],\n",
       "        [-1.36975458e-02],\n",
       "        [-1.05449198e-01],\n",
       "        [ 9.65633710e-03],\n",
       "        [-1.89488678e-02],\n",
       "        [ 6.99108077e-02],\n",
       "        [ 2.58696215e-02],\n",
       "        [-4.65857970e-02],\n",
       "        [-6.50072815e-02],\n",
       "        [-1.03402943e-01],\n",
       "        [ 2.31860127e-02],\n",
       "        [-4.28466137e-02],\n",
       "        [-1.64923450e-02],\n",
       "        [-3.54379168e-03],\n",
       "        [-2.30308077e-02],\n",
       "        [-1.34040256e-01],\n",
       "        [-1.67645489e-02],\n",
       "        [-2.23807504e-02],\n",
       "        [-3.42757463e-02],\n",
       "        [-1.66685889e-02],\n",
       "        [-2.00455089e-02],\n",
       "        [ 8.12165118e-02],\n",
       "        [-5.38495299e-02],\n",
       "        [-4.54838038e-02],\n",
       "        [-7.70931690e-02],\n",
       "        [ 6.77245547e-03],\n",
       "        [ 1.10065122e-03],\n",
       "        [-4.54046463e-02],\n",
       "        [-1.75327913e-02],\n",
       "        [-4.39820324e-03],\n",
       "        [ 2.70583858e-02],\n",
       "        [-3.31240561e-02],\n",
       "        [-7.07127778e-02],\n",
       "        [-1.20596667e-01],\n",
       "        [-9.18365116e-02],\n",
       "        [-8.26912788e-02],\n",
       "        [ 3.99625751e-02],\n",
       "        [-1.11744751e-03],\n",
       "        [-3.16432898e-02],\n",
       "        [-9.92081502e-02],\n",
       "        [-1.43980868e-03],\n",
       "        [-6.75830654e-02],\n",
       "        [-5.20234147e-03],\n",
       "        [-7.32429517e-02],\n",
       "        [ 1.31443015e-03],\n",
       "        [-5.22890914e-02],\n",
       "        [ 2.83912648e-03],\n",
       "        [-2.17804887e-02],\n",
       "        [-1.04953369e-01],\n",
       "        [-4.29247082e-02],\n",
       "        [-1.70822533e-02],\n",
       "        [-2.75053956e-02],\n",
       "        [ 2.38108371e-02],\n",
       "        [-9.53645556e-03],\n",
       "        [-1.67606073e-02],\n",
       "        [-1.19392795e-01],\n",
       "        [-1.74820733e-02],\n",
       "        [-2.17295669e-02],\n",
       "        [ 1.43141212e-02],\n",
       "        [-4.38262571e-02],\n",
       "        [-5.15216728e-02],\n",
       "        [-6.99848561e-03],\n",
       "        [ 3.21900211e-02],\n",
       "        [-2.34109319e-02],\n",
       "        [-3.62234714e-02],\n",
       "        [-3.16733132e-02],\n",
       "        [-8.63937983e-02],\n",
       "        [-1.02182512e-02],\n",
       "        [ 1.20442255e-02],\n",
       "        [-5.21415445e-02],\n",
       "        [-1.20124005e-02],\n",
       "        [-5.04982682e-02],\n",
       "        [-2.34383364e-02],\n",
       "        [-8.08932620e-02],\n",
       "        [ 1.94625655e-02],\n",
       "        [-1.86621812e-02],\n",
       "        [ 4.95489844e-02],\n",
       "        [ 1.40453787e-02],\n",
       "        [-1.44274126e-02],\n",
       "        [-5.92984298e-02],\n",
       "        [ 2.36697796e-02],\n",
       "        [-1.46186977e-02],\n",
       "        [-1.55467013e-02],\n",
       "        [ 2.96305332e-02],\n",
       "        [-5.92340624e-02],\n",
       "        [-4.22054061e-02],\n",
       "        [-2.88762494e-02],\n",
       "        [-1.66553281e-02],\n",
       "        [-4.37157529e-02],\n",
       "        [-3.20045899e-02],\n",
       "        [-7.84623588e-02],\n",
       "        [-3.69535146e-02],\n",
       "        [ 8.89037927e-03],\n",
       "        [-6.38226510e-02],\n",
       "        [-6.45176146e-02],\n",
       "        [-9.47719608e-02],\n",
       "        [-8.28975102e-02],\n",
       "        [ 1.15077684e-02],\n",
       "        [-5.56194055e-02],\n",
       "        [-3.00076139e-02],\n",
       "        [-2.21910732e-02],\n",
       "        [ 3.59571066e-02],\n",
       "        [ 6.70644480e-03],\n",
       "        [-1.13215977e-01],\n",
       "        [-9.14823802e-02],\n",
       "        [ 5.15714178e-02],\n",
       "        [-1.77363970e-02],\n",
       "        [ 4.16736020e-03],\n",
       "        [ 6.44045656e-04],\n",
       "        [ 3.81069965e-02],\n",
       "        [-3.11550023e-02],\n",
       "        [ 5.61934740e-02],\n",
       "        [-4.47840342e-03],\n",
       "        [-5.52473961e-02],\n",
       "        [-6.95124282e-02],\n",
       "        [ 7.21964623e-04],\n",
       "        [-5.84261316e-02],\n",
       "        [-3.70616690e-02],\n",
       "        [-1.43262128e-02],\n",
       "        [-5.91120812e-02],\n",
       "        [ 1.40791930e-02],\n",
       "        [-9.15071613e-02],\n",
       "        [-5.80952911e-02],\n",
       "        [-5.87462196e-02],\n",
       "        [-3.71230535e-02],\n",
       "        [-2.06525226e-02],\n",
       "        [ 2.98161709e-02],\n",
       "        [-3.89121474e-02],\n",
       "        [ 2.55263600e-03],\n",
       "        [-1.57032265e-02],\n",
       "        [ 3.63066160e-02],\n",
       "        [-2.02676999e-02],\n",
       "        [-3.64444588e-02],\n",
       "        [-4.59357128e-02],\n",
       "        [ 4.73913041e-03],\n",
       "        [-1.70712156e-03],\n",
       "        [-1.62513315e-02],\n",
       "        [-2.40861486e-02],\n",
       "        [ 3.44060521e-02],\n",
       "        [-2.64020510e-02],\n",
       "        [-2.36472254e-02],\n",
       "        [-1.06798407e-02],\n",
       "        [-9.81489288e-03],\n",
       "        [-3.36458923e-02],\n",
       "        [-1.46172974e-02],\n",
       "        [ 2.87099343e-02],\n",
       "        [-9.13723412e-04],\n",
       "        [-6.95136839e-02],\n",
       "        [-5.22789756e-02],\n",
       "        [-2.12877104e-02],\n",
       "        [-5.05015457e-02],\n",
       "        [-4.31847346e-02],\n",
       "        [ 3.41253115e-03],\n",
       "        [-1.18972319e-02],\n",
       "        [-3.29582931e-02],\n",
       "        [-1.62572161e-02],\n",
       "        [-5.27709230e-02],\n",
       "        [-7.00717843e-02],\n",
       "        [-4.91200710e-03],\n",
       "        [ 1.98152391e-02],\n",
       "        [-6.34097358e-02],\n",
       "        [ 4.73435613e-02],\n",
       "        [-4.98205998e-02],\n",
       "        [ 3.40510231e-02],\n",
       "        [ 1.94645459e-02],\n",
       "        [ 2.86999512e-02],\n",
       "        [-2.63365854e-02],\n",
       "        [-8.83596140e-02],\n",
       "        [-4.94507532e-02],\n",
       "        [ 4.32296354e-02],\n",
       "        [-1.86368759e-02],\n",
       "        [-2.25315499e-02],\n",
       "        [-3.86910094e-02],\n",
       "        [ 2.13401708e-02],\n",
       "        [ 8.46417455e-03],\n",
       "        [-2.03798970e-02],\n",
       "        [-6.52820776e-03],\n",
       "        [-5.17745590e-02],\n",
       "        [-6.76590404e-02],\n",
       "        [-2.78743671e-02],\n",
       "        [-5.85800302e-02],\n",
       "        [-2.20408857e-02],\n",
       "        [ 9.32075329e-04],\n",
       "        [ 1.03737905e-02],\n",
       "        [-5.29726342e-02],\n",
       "        [-3.54468545e-02],\n",
       "        [-1.50827929e-02],\n",
       "        [ 5.41287304e-02],\n",
       "        [-4.37980725e-02],\n",
       "        [-7.00738659e-02],\n",
       "        [-3.16109647e-02],\n",
       "        [-2.34599191e-02],\n",
       "        [-3.68633156e-02],\n",
       "        [-4.01786020e-02],\n",
       "        [ 2.13596746e-02],\n",
       "        [-3.08244268e-02],\n",
       "        [ 2.81446523e-02],\n",
       "        [-6.48368984e-02],\n",
       "        [ 6.15553995e-03],\n",
       "        [-3.91657594e-03],\n",
       "        [-1.06483006e-02],\n",
       "        [ 4.18030622e-02],\n",
       "        [-2.61397410e-02],\n",
       "        [-1.60135156e-02],\n",
       "        [-1.87758158e-02],\n",
       "        [ 8.40033993e-03],\n",
       "        [-6.68383887e-02],\n",
       "        [-3.29408412e-02],\n",
       "        [ 4.37226064e-02],\n",
       "        [ 1.00829810e-02],\n",
       "        [-5.98880638e-02],\n",
       "        [-2.66124082e-02],\n",
       "        [ 4.94766655e-03],\n",
       "        [ 2.76711038e-02],\n",
       "        [-4.58066848e-02],\n",
       "        [-1.25414910e-03],\n",
       "        [-2.65373042e-02],\n",
       "        [-9.35626193e-02],\n",
       "        [-1.12531842e-01],\n",
       "        [-1.80138171e-02],\n",
       "        [-4.72401362e-02],\n",
       "        [-5.20953424e-02],\n",
       "        [-5.17890609e-02],\n",
       "        [-7.61003269e-02],\n",
       "        [-1.56389918e-02],\n",
       "        [-2.78789928e-02],\n",
       "        [-4.34234531e-02],\n",
       "        [ 3.18960252e-02],\n",
       "        [-2.48474364e-02],\n",
       "        [-7.14141403e-02],\n",
       "        [-8.79609455e-02],\n",
       "        [-4.30363073e-02],\n",
       "        [-7.56152063e-02],\n",
       "        [-2.02364290e-02],\n",
       "        [-2.33239020e-02],\n",
       "        [ 1.15215844e-02],\n",
       "        [-7.36550632e-03],\n",
       "        [-1.17734224e-02],\n",
       "        [-4.78956995e-02],\n",
       "        [ 6.05469904e-02],\n",
       "        [-3.26203333e-02],\n",
       "        [-5.00034035e-03],\n",
       "        [-8.39760362e-02],\n",
       "        [ 5.46047520e-03],\n",
       "        [-2.04269365e-02],\n",
       "        [-2.72763828e-02],\n",
       "        [-6.59905174e-02],\n",
       "        [-3.19348798e-02],\n",
       "        [-1.58972576e-02],\n",
       "        [ 1.01142918e-02],\n",
       "        [-7.70556401e-03],\n",
       "        [-2.09698892e-02],\n",
       "        [ 1.77036495e-02],\n",
       "        [-6.19315744e-02],\n",
       "        [-4.69840725e-02],\n",
       "        [-2.22325115e-02],\n",
       "        [-1.21365687e-02],\n",
       "        [ 4.42413271e-02],\n",
       "        [ 4.76324138e-03],\n",
       "        [-4.18794726e-02],\n",
       "        [ 6.05323899e-03],\n",
       "        [-3.79262584e-02],\n",
       "        [-1.04537177e-01],\n",
       "        [-3.76856140e-02],\n",
       "        [-1.25697350e-02],\n",
       "        [-8.16296811e-02],\n",
       "        [-2.88591840e-02],\n",
       "        [-7.89637237e-03],\n",
       "        [-2.90036451e-02],\n",
       "        [ 3.48958594e-03],\n",
       "        [-2.10180592e-02],\n",
       "        [-9.53208442e-02],\n",
       "        [ 2.47412046e-03],\n",
       "        [-7.27835258e-03],\n",
       "        [-2.50738725e-02],\n",
       "        [-1.15600735e-01],\n",
       "        [-8.74214286e-02],\n",
       "        [-6.48656510e-02],\n",
       "        [ 1.70346196e-02]]),\n",
       " 'W2': array([[-0.04013394,  0.03744801,  0.05086971, ..., -0.02780024,\n",
       "          0.04259365, -0.00782212],\n",
       "        [ 0.03284589, -0.03374835, -0.04893903, ..., -0.03944828,\n",
       "          0.0061537 ,  0.06113571],\n",
       "        [-0.01349613,  0.03383628,  0.04339982, ..., -0.0384659 ,\n",
       "         -0.0913808 ,  0.02005543],\n",
       "        ...,\n",
       "        [-0.0205071 , -0.03634242,  0.07048441, ...,  0.01882022,\n",
       "          0.0794761 ,  0.04436029],\n",
       "        [-0.03481618,  0.02306955,  0.00217179, ...,  0.00231865,\n",
       "          0.04550626, -0.04428769],\n",
       "        [ 0.03937974,  0.09562461,  0.02963231, ..., -0.0820732 ,\n",
       "         -0.00610384, -0.10629158]]),\n",
       " 'b2': array([[-0.00305051],\n",
       "        [-0.01852276],\n",
       "        [ 0.0228795 ],\n",
       "        [ 0.02105226],\n",
       "        [-0.01676942],\n",
       "        [-0.00717404],\n",
       "        [-0.00167101],\n",
       "        [-0.03052096],\n",
       "        [ 0.00833826],\n",
       "        [ 0.00747498],\n",
       "        [ 0.01567652],\n",
       "        [-0.02174977],\n",
       "        [ 0.0092953 ],\n",
       "        [-0.02755965],\n",
       "        [-0.04620805],\n",
       "        [-0.02361332],\n",
       "        [-0.00252578],\n",
       "        [-0.00268186],\n",
       "        [-0.01198334],\n",
       "        [ 0.01791361],\n",
       "        [ 0.05079277],\n",
       "        [-0.03316678],\n",
       "        [ 0.00385923],\n",
       "        [ 0.00245845],\n",
       "        [ 0.00407328],\n",
       "        [ 0.03896371],\n",
       "        [-0.00811651],\n",
       "        [-0.01206769],\n",
       "        [-0.01448054],\n",
       "        [-0.01920065],\n",
       "        [ 0.07320518],\n",
       "        [ 0.00568198],\n",
       "        [ 0.08221933],\n",
       "        [-0.01936643],\n",
       "        [-0.02706976],\n",
       "        [-0.03975171],\n",
       "        [ 0.13129106],\n",
       "        [-0.08538571],\n",
       "        [ 0.00455564],\n",
       "        [-0.05304824],\n",
       "        [-0.01509336],\n",
       "        [ 0.01457326],\n",
       "        [ 0.04935086],\n",
       "        [-0.01897773],\n",
       "        [-0.03645485],\n",
       "        [-0.0255054 ],\n",
       "        [ 0.01004689],\n",
       "        [ 0.0309622 ],\n",
       "        [-0.00367497],\n",
       "        [-0.0848035 ],\n",
       "        [ 0.02991966],\n",
       "        [ 0.02512005],\n",
       "        [-0.04240524],\n",
       "        [ 0.0268638 ],\n",
       "        [ 0.04409268],\n",
       "        [-0.05656868],\n",
       "        [ 0.00108654],\n",
       "        [-0.01321006],\n",
       "        [-0.03782771],\n",
       "        [ 0.03438773],\n",
       "        [-0.01676583],\n",
       "        [-0.02500493],\n",
       "        [-0.01437284],\n",
       "        [-0.00958268],\n",
       "        [ 0.12640254],\n",
       "        [-0.03404028],\n",
       "        [ 0.10429312],\n",
       "        [ 0.0237164 ],\n",
       "        [-0.00984851],\n",
       "        [ 0.04526537],\n",
       "        [-0.03853645],\n",
       "        [ 0.0055801 ],\n",
       "        [ 0.01395073],\n",
       "        [-0.13060459],\n",
       "        [-0.00959457],\n",
       "        [ 0.06878987],\n",
       "        [ 0.09222146],\n",
       "        [ 0.06067971],\n",
       "        [-0.00939575],\n",
       "        [ 0.02200282]]),\n",
       " 'W3': array([[ 0.069719  ,  0.06348662,  0.13018   , ...,  0.09185117,\n",
       "         -0.1672084 , -0.15964443],\n",
       "        [ 0.0023328 ,  0.10609188, -0.12293754, ...,  0.02132138,\n",
       "          0.19354086, -0.18383196],\n",
       "        [ 0.14125273,  0.0924303 , -0.05139181, ..., -0.04035633,\n",
       "          0.04266625,  0.02825527],\n",
       "        ...,\n",
       "        [-0.11267803, -0.0986955 ,  0.1343336 , ..., -0.00130648,\n",
       "         -0.06133202, -0.20089229],\n",
       "        [-0.06499382, -0.08623346,  0.13895334, ...,  0.08944148,\n",
       "          0.0110921 ,  0.02940698],\n",
       "        [-0.0208134 , -0.23038908, -0.12673931, ..., -0.05059726,\n",
       "         -0.28645726, -0.07443494]]),\n",
       " 'b3': array([[-1.06957091e-02],\n",
       "        [-2.13872178e-02],\n",
       "        [-1.44801294e-02],\n",
       "        [ 4.24029069e-03],\n",
       "        [ 1.23008851e-02],\n",
       "        [-4.63641801e-03],\n",
       "        [-5.15730138e-04],\n",
       "        [ 1.64974700e-02],\n",
       "        [ 2.90669107e-02],\n",
       "        [-2.98634166e-02],\n",
       "        [-3.90582779e-03],\n",
       "        [-1.31281038e-02],\n",
       "        [ 4.42270474e-03],\n",
       "        [ 5.68107189e-03],\n",
       "        [-1.22959415e-02],\n",
       "        [ 2.50940491e-03],\n",
       "        [ 1.50786688e-02],\n",
       "        [-9.88268049e-03],\n",
       "        [ 1.10320939e-02],\n",
       "        [-3.89528342e-03],\n",
       "        [ 5.13110242e-02],\n",
       "        [-3.27217076e-03],\n",
       "        [ 9.56414049e-02],\n",
       "        [-1.03852201e-02],\n",
       "        [ 7.94680990e-03],\n",
       "        [ 2.54688654e-03],\n",
       "        [-3.66566640e-02],\n",
       "        [ 1.81254416e-02],\n",
       "        [-4.31445449e-02],\n",
       "        [ 1.23002924e-02],\n",
       "        [ 3.31295713e-02],\n",
       "        [ 6.97272788e-03],\n",
       "        [ 1.46999568e-02],\n",
       "        [ 6.63479951e-03],\n",
       "        [-8.78011373e-03],\n",
       "        [ 1.01284849e-02],\n",
       "        [-3.06828993e-02],\n",
       "        [-7.75051720e-05],\n",
       "        [ 3.87477611e-02],\n",
       "        [ 3.54516259e-02],\n",
       "        [-1.99198573e-02],\n",
       "        [ 4.23162944e-02],\n",
       "        [ 4.69263135e-03],\n",
       "        [-8.20673735e-04],\n",
       "        [ 7.43882457e-03],\n",
       "        [ 4.88055486e-04],\n",
       "        [-6.92130606e-04],\n",
       "        [ 8.11430471e-03],\n",
       "        [-2.17012370e-02],\n",
       "        [-1.50255822e-02],\n",
       "        [ 4.87908387e-03],\n",
       "        [-5.25193272e-03],\n",
       "        [ 2.95254916e-02],\n",
       "        [ 2.81315931e-03],\n",
       "        [-6.13803101e-02],\n",
       "        [ 2.83537803e-03],\n",
       "        [-6.32620356e-03],\n",
       "        [ 1.18568586e-02],\n",
       "        [ 1.00337061e-02],\n",
       "        [-1.19519995e-03],\n",
       "        [-4.11152602e-02],\n",
       "        [-3.25203613e-04],\n",
       "        [-1.25367304e-03],\n",
       "        [ 5.43589304e-03],\n",
       "        [ 2.35736342e-03],\n",
       "        [-2.99230611e-02],\n",
       "        [-1.17386499e-04],\n",
       "        [-9.76458217e-03],\n",
       "        [-3.68929669e-03],\n",
       "        [ 2.62724793e-03],\n",
       "        [ 8.19342854e-05],\n",
       "        [ 1.88807893e-04],\n",
       "        [ 5.12655042e-04],\n",
       "        [ 1.59581970e-02],\n",
       "        [-2.73871146e-03],\n",
       "        [ 4.37449647e-04],\n",
       "        [ 5.37102311e-02],\n",
       "        [-1.95014541e-03],\n",
       "        [-1.14547508e-02],\n",
       "        [ 1.25978433e-02],\n",
       "        [ 3.53463418e-02],\n",
       "        [-4.15643317e-03],\n",
       "        [ 2.32924719e-02],\n",
       "        [-3.03041438e-02],\n",
       "        [-1.46555151e-02],\n",
       "        [ 3.12997256e-02],\n",
       "        [ 3.85808770e-02],\n",
       "        [ 1.56435397e-02],\n",
       "        [-1.44586100e-03],\n",
       "        [ 3.09863541e-04],\n",
       "        [ 1.43350309e-02],\n",
       "        [-7.48783054e-04],\n",
       "        [ 1.80472805e-02],\n",
       "        [ 1.81466765e-02],\n",
       "        [ 1.57278811e-02],\n",
       "        [-2.95507953e-03],\n",
       "        [-3.21457159e-02],\n",
       "        [ 2.56520982e-03],\n",
       "        [ 5.78999938e-03],\n",
       "        [-2.33867015e-02],\n",
       "        [ 5.13857520e-02],\n",
       "        [-1.19452481e-03],\n",
       "        [ 5.22345628e-02],\n",
       "        [ 2.01809756e-02],\n",
       "        [ 1.30584678e-03],\n",
       "        [-2.29546064e-02],\n",
       "        [ 4.29078515e-02],\n",
       "        [ 1.31646422e-02],\n",
       "        [ 1.61626139e-03],\n",
       "        [ 5.74204707e-03],\n",
       "        [-5.37838565e-02],\n",
       "        [-1.08586110e-02],\n",
       "        [ 1.71168937e-02],\n",
       "        [ 3.55336517e-03],\n",
       "        [ 8.92929837e-04],\n",
       "        [ 7.31390067e-03],\n",
       "        [ 2.83567398e-03],\n",
       "        [-2.28946270e-02],\n",
       "        [ 1.37064101e-02],\n",
       "        [ 1.37386449e-03],\n",
       "        [-2.04301770e-02],\n",
       "        [ 8.03185191e-02],\n",
       "        [ 2.96025333e-02],\n",
       "        [ 1.96012397e-02],\n",
       "        [ 7.90598209e-03],\n",
       "        [-4.40156415e-03],\n",
       "        [ 1.59304149e-02],\n",
       "        [-6.03488049e-03],\n",
       "        [ 8.47056403e-03],\n",
       "        [ 4.07033673e-02],\n",
       "        [ 2.45621949e-02],\n",
       "        [-6.83122559e-04],\n",
       "        [-3.38082223e-02],\n",
       "        [-3.19471677e-02],\n",
       "        [-5.60770574e-04],\n",
       "        [ 5.71523392e-02],\n",
       "        [ 6.30973769e-02],\n",
       "        [ 3.80020140e-03],\n",
       "        [-1.22603397e-02],\n",
       "        [ 2.32892871e-02],\n",
       "        [-1.15806215e-02],\n",
       "        [-5.08073221e-02],\n",
       "        [-1.21307055e-02],\n",
       "        [ 2.03877681e-03],\n",
       "        [-1.07638977e-02],\n",
       "        [-1.53938598e-02],\n",
       "        [ 2.70741036e-04],\n",
       "        [-5.58626074e-03],\n",
       "        [ 1.93030335e-02],\n",
       "        [ 2.27368454e-03],\n",
       "        [-1.04812206e-02],\n",
       "        [-4.76940692e-02],\n",
       "        [-2.29819701e-02],\n",
       "        [ 4.79556869e-02],\n",
       "        [-4.63607485e-02],\n",
       "        [-1.40895571e-03],\n",
       "        [ 1.50938940e-03],\n",
       "        [ 1.14269595e-02],\n",
       "        [-1.72937845e-02],\n",
       "        [-1.67075354e-02],\n",
       "        [-4.90244766e-03],\n",
       "        [ 5.82768373e-03],\n",
       "        [ 1.10689231e-02],\n",
       "        [ 1.59981391e-02],\n",
       "        [-2.29985842e-04],\n",
       "        [-1.51548716e-03],\n",
       "        [ 4.89480948e-03],\n",
       "        [-3.12616604e-02],\n",
       "        [-4.09061082e-03],\n",
       "        [ 2.29422910e-02],\n",
       "        [-2.96990055e-03],\n",
       "        [-1.02421988e-02],\n",
       "        [-3.37000262e-02],\n",
       "        [ 2.30812231e-02],\n",
       "        [-2.20568695e-03],\n",
       "        [ 8.38712785e-02],\n",
       "        [ 1.56359507e-02],\n",
       "        [ 2.77717109e-02],\n",
       "        [ 6.89566277e-03],\n",
       "        [ 6.50624739e-02],\n",
       "        [ 4.58406292e-03],\n",
       "        [ 1.73055395e-02],\n",
       "        [ 3.32839580e-03],\n",
       "        [ 2.53967910e-02],\n",
       "        [ 6.42195102e-03],\n",
       "        [ 4.32027820e-02],\n",
       "        [-3.22132177e-02],\n",
       "        [ 3.76706947e-03],\n",
       "        [ 6.31837778e-04],\n",
       "        [ 6.75475683e-03],\n",
       "        [ 4.06423736e-02],\n",
       "        [ 3.42473331e-02],\n",
       "        [ 2.42222862e-03],\n",
       "        [ 2.04082006e-02],\n",
       "        [ 1.61455522e-02],\n",
       "        [-2.51114393e-02],\n",
       "        [-2.69210820e-02],\n",
       "        [ 5.91567315e-02],\n",
       "        [ 7.27025436e-03],\n",
       "        [ 9.39039208e-03],\n",
       "        [-2.08152845e-03],\n",
       "        [ 1.19701077e-02],\n",
       "        [ 2.25669904e-02],\n",
       "        [-2.06093849e-02],\n",
       "        [ 2.84399771e-02],\n",
       "        [ 1.15891654e-02],\n",
       "        [ 3.14456490e-03],\n",
       "        [ 4.31775228e-03],\n",
       "        [-2.75436216e-02],\n",
       "        [ 2.53771110e-02],\n",
       "        [ 8.84572460e-03],\n",
       "        [ 1.89744662e-02],\n",
       "        [ 9.93231995e-03],\n",
       "        [-4.68373983e-03],\n",
       "        [-2.46214171e-03],\n",
       "        [ 1.77984243e-02],\n",
       "        [ 2.01014190e-02],\n",
       "        [ 2.67866467e-03],\n",
       "        [-8.24420513e-03],\n",
       "        [ 4.89844694e-02],\n",
       "        [ 2.92515383e-02],\n",
       "        [-2.18037443e-02],\n",
       "        [ 7.30185918e-03],\n",
       "        [ 1.77283265e-02],\n",
       "        [-1.51731179e-02],\n",
       "        [-2.03166927e-02],\n",
       "        [-1.48067589e-02],\n",
       "        [-3.97430272e-02],\n",
       "        [ 4.15432987e-03],\n",
       "        [-1.03841170e-02],\n",
       "        [ 1.45908179e-03],\n",
       "        [-4.05166798e-03],\n",
       "        [-7.50026014e-04],\n",
       "        [-6.15845021e-03],\n",
       "        [ 2.98571304e-02],\n",
       "        [-5.35847512e-03],\n",
       "        [ 6.59950440e-03],\n",
       "        [ 2.18861862e-02],\n",
       "        [ 3.08862614e-02],\n",
       "        [-2.67291811e-02],\n",
       "        [ 1.19052973e-02],\n",
       "        [-7.57102911e-05],\n",
       "        [ 1.51222958e-04],\n",
       "        [-1.10627215e-02],\n",
       "        [-1.84711339e-03],\n",
       "        [ 4.87226449e-03],\n",
       "        [ 1.05938451e-02],\n",
       "        [-2.85041110e-03],\n",
       "        [-5.49250865e-03],\n",
       "        [-6.72702890e-03],\n",
       "        [ 2.71048127e-03],\n",
       "        [-3.94295020e-02],\n",
       "        [ 1.61079589e-02],\n",
       "        [-2.25151865e-02],\n",
       "        [ 5.83207159e-03],\n",
       "        [ 1.08200331e-03],\n",
       "        [ 2.25599125e-02],\n",
       "        [-2.36403018e-02],\n",
       "        [ 4.44406102e-02],\n",
       "        [-2.59145165e-02],\n",
       "        [ 3.88871255e-03],\n",
       "        [ 1.18333783e-03],\n",
       "        [ 4.66355314e-02],\n",
       "        [-1.99845314e-02],\n",
       "        [ 3.32885943e-02],\n",
       "        [-5.78521151e-02],\n",
       "        [-2.22918894e-02],\n",
       "        [-5.54869465e-03],\n",
       "        [-1.31711206e-02],\n",
       "        [ 1.90436334e-02],\n",
       "        [-1.54700786e-02],\n",
       "        [ 1.96735977e-02],\n",
       "        [ 2.96273652e-03],\n",
       "        [-6.26855908e-02],\n",
       "        [-6.04654098e-02],\n",
       "        [-1.01340164e-02],\n",
       "        [-3.79180347e-02],\n",
       "        [-1.76843272e-02],\n",
       "        [-5.07979976e-03],\n",
       "        [ 2.14380821e-02],\n",
       "        [ 4.14539754e-03],\n",
       "        [ 2.59297290e-02],\n",
       "        [-5.95868585e-02],\n",
       "        [-5.63581322e-03],\n",
       "        [-3.99473520e-02],\n",
       "        [-5.76589096e-03],\n",
       "        [ 5.85785518e-03],\n",
       "        [ 1.64595094e-02],\n",
       "        [-1.86244067e-02],\n",
       "        [-2.18243878e-02],\n",
       "        [ 2.70136178e-02],\n",
       "        [-2.32346128e-03],\n",
       "        [ 1.16224170e-01],\n",
       "        [ 4.35985939e-02],\n",
       "        [ 2.41862062e-02],\n",
       "        [ 1.28472404e-02],\n",
       "        [ 2.84303256e-03],\n",
       "        [-1.90394836e-02],\n",
       "        [ 3.61361778e-03],\n",
       "        [ 6.11155912e-02],\n",
       "        [ 2.16046738e-02],\n",
       "        [ 1.60393618e-02],\n",
       "        [ 1.37832284e-01],\n",
       "        [ 1.52899021e-02],\n",
       "        [-6.06191087e-03],\n",
       "        [ 4.15851259e-03],\n",
       "        [ 2.60742350e-02],\n",
       "        [-5.29478005e-04],\n",
       "        [-1.21276782e-02],\n",
       "        [-2.32788395e-02],\n",
       "        [ 8.74536323e-02],\n",
       "        [-1.93182730e-02],\n",
       "        [-1.67208884e-02],\n",
       "        [ 1.44279262e-02],\n",
       "        [-2.42805686e-02],\n",
       "        [ 4.83792385e-03],\n",
       "        [-4.91615456e-02],\n",
       "        [-4.26816450e-03],\n",
       "        [ 2.30265517e-03],\n",
       "        [ 3.93175084e-02],\n",
       "        [-2.01863821e-03],\n",
       "        [ 2.42451509e-02],\n",
       "        [ 1.17981210e-02],\n",
       "        [ 9.98911750e-03],\n",
       "        [ 3.53891299e-02],\n",
       "        [-8.04341991e-03],\n",
       "        [ 2.24403938e-02],\n",
       "        [ 3.95749001e-02],\n",
       "        [ 6.58191501e-03],\n",
       "        [ 2.73721038e-02],\n",
       "        [ 1.77955668e-02],\n",
       "        [-1.43960949e-02],\n",
       "        [-1.97825067e-02],\n",
       "        [ 8.23586282e-03],\n",
       "        [ 1.43710931e-03],\n",
       "        [ 4.35224695e-03],\n",
       "        [-7.79895736e-03],\n",
       "        [-1.61647834e-02],\n",
       "        [-1.05284478e-02],\n",
       "        [ 3.62470520e-02],\n",
       "        [ 8.14210227e-02],\n",
       "        [ 1.38979625e-03],\n",
       "        [ 3.77474272e-02],\n",
       "        [ 1.72514379e-02],\n",
       "        [-3.66843570e-03],\n",
       "        [ 1.48741488e-02],\n",
       "        [ 2.56564552e-02],\n",
       "        [-3.87840311e-04],\n",
       "        [ 7.74428458e-03],\n",
       "        [-1.04243640e-02],\n",
       "        [ 4.48438223e-03],\n",
       "        [-1.17923715e-03],\n",
       "        [ 3.87850832e-03],\n",
       "        [-3.28329200e-03],\n",
       "        [ 2.53308267e-02],\n",
       "        [ 1.27636608e-03],\n",
       "        [-3.59409772e-04],\n",
       "        [ 1.04106021e-02],\n",
       "        [ 4.45707995e-02],\n",
       "        [-2.45048841e-02],\n",
       "        [ 5.14007739e-02],\n",
       "        [ 2.75575593e-02],\n",
       "        [ 4.25877102e-03],\n",
       "        [ 2.43758205e-02],\n",
       "        [-1.64899137e-02],\n",
       "        [-3.34925412e-03],\n",
       "        [-1.03872386e-02],\n",
       "        [-2.15532597e-03],\n",
       "        [ 3.50327851e-02],\n",
       "        [-3.96953946e-02],\n",
       "        [-2.25631013e-04],\n",
       "        [-3.74238375e-03],\n",
       "        [ 2.55364395e-02],\n",
       "        [ 2.97692288e-02],\n",
       "        [ 1.05458738e-03],\n",
       "        [ 4.24923548e-03],\n",
       "        [ 1.11866345e-04],\n",
       "        [ 1.35713292e-02],\n",
       "        [ 7.19526120e-03],\n",
       "        [ 3.07790374e-02],\n",
       "        [ 2.82334061e-02],\n",
       "        [ 2.39401659e-02],\n",
       "        [-1.26521022e-02],\n",
       "        [-6.41087915e-03],\n",
       "        [-4.57626304e-02],\n",
       "        [ 4.04963984e-03],\n",
       "        [ 3.03182080e-02],\n",
       "        [ 2.77496684e-02],\n",
       "        [-1.10671616e-02],\n",
       "        [-2.03479511e-02],\n",
       "        [-6.69457763e-03],\n",
       "        [-4.23054374e-02],\n",
       "        [ 2.67146421e-03],\n",
       "        [-2.33218432e-02],\n",
       "        [-1.36721683e-02],\n",
       "        [-3.12843557e-02],\n",
       "        [-1.94998324e-02],\n",
       "        [ 4.19432969e-02],\n",
       "        [ 9.19409110e-04],\n",
       "        [ 2.19843055e-03],\n",
       "        [-1.51963443e-02],\n",
       "        [ 4.36943798e-02],\n",
       "        [-4.27896864e-03],\n",
       "        [ 3.77993165e-03],\n",
       "        [ 4.73395715e-02],\n",
       "        [-3.36156491e-02],\n",
       "        [-1.28605129e-02],\n",
       "        [-8.61128812e-03],\n",
       "        [ 4.25316319e-02],\n",
       "        [ 1.23193245e-02],\n",
       "        [-9.96660142e-05],\n",
       "        [-2.29929279e-02],\n",
       "        [-1.30034599e-02],\n",
       "        [ 7.20570061e-02],\n",
       "        [ 4.15900207e-03],\n",
       "        [ 3.27304267e-02],\n",
       "        [-3.10946268e-04],\n",
       "        [-2.24703831e-03],\n",
       "        [-1.44009479e-03],\n",
       "        [-1.79899798e-02],\n",
       "        [ 2.02169620e-03],\n",
       "        [-7.81800324e-03],\n",
       "        [ 5.79199034e-03],\n",
       "        [-2.11390449e-02],\n",
       "        [ 2.65443927e-02],\n",
       "        [ 1.90202692e-02],\n",
       "        [-8.46172980e-03],\n",
       "        [-2.78288374e-03],\n",
       "        [ 4.76454665e-02],\n",
       "        [-1.06594649e-02],\n",
       "        [ 5.60404385e-03],\n",
       "        [ 1.17403417e-02],\n",
       "        [ 1.05530237e-01],\n",
       "        [ 3.39148354e-02],\n",
       "        [ 2.48483127e-02],\n",
       "        [ 1.47165956e-03],\n",
       "        [ 1.69415389e-02],\n",
       "        [-1.89405434e-02],\n",
       "        [-2.80985519e-02],\n",
       "        [ 2.46151327e-03],\n",
       "        [-3.30519780e-04],\n",
       "        [ 2.09509933e-02],\n",
       "        [-1.45174742e-03],\n",
       "        [ 5.78961399e-02],\n",
       "        [-2.02279836e-02],\n",
       "        [-2.38762354e-02],\n",
       "        [-5.23600300e-02],\n",
       "        [ 6.19583055e-03],\n",
       "        [-4.48253921e-02],\n",
       "        [ 3.12109749e-02],\n",
       "        [ 5.75722096e-03],\n",
       "        [-6.61315964e-03],\n",
       "        [ 7.44129102e-02],\n",
       "        [ 5.02411705e-03],\n",
       "        [ 6.56659619e-02],\n",
       "        [ 2.78401107e-02],\n",
       "        [ 4.04048460e-02],\n",
       "        [-2.79372672e-02],\n",
       "        [-1.51619868e-02],\n",
       "        [-1.24526405e-02],\n",
       "        [-3.19621993e-02],\n",
       "        [ 4.44282109e-02],\n",
       "        [ 4.11571165e-03],\n",
       "        [-3.83131394e-04],\n",
       "        [ 1.65424822e-04],\n",
       "        [ 5.90770165e-03],\n",
       "        [ 2.84463745e-02],\n",
       "        [ 1.11939433e-02],\n",
       "        [ 2.56231656e-02],\n",
       "        [-5.96269889e-02],\n",
       "        [-1.89195678e-03],\n",
       "        [ 9.37553629e-03],\n",
       "        [ 3.91262212e-02],\n",
       "        [ 3.25456692e-02],\n",
       "        [-2.90273551e-02],\n",
       "        [ 3.78133967e-02],\n",
       "        [ 1.77865911e-02],\n",
       "        [-1.68119180e-02],\n",
       "        [-1.25539355e-02],\n",
       "        [-2.88512563e-02],\n",
       "        [ 1.40973614e-02],\n",
       "        [-2.53850667e-03],\n",
       "        [ 6.82715690e-02],\n",
       "        [-4.87125723e-02],\n",
       "        [-2.85878544e-03],\n",
       "        [ 1.93537299e-02],\n",
       "        [-1.61047861e-02],\n",
       "        [-2.17018853e-02],\n",
       "        [-1.01947026e-02],\n",
       "        [ 9.42522956e-04],\n",
       "        [-1.25041785e-02],\n",
       "        [-1.17685194e-02],\n",
       "        [-1.01467761e-01],\n",
       "        [ 4.85795784e-02],\n",
       "        [ 2.97191803e-03],\n",
       "        [-4.75073817e-03],\n",
       "        [ 9.51880836e-03],\n",
       "        [ 6.10236243e-03],\n",
       "        [-2.47887654e-03],\n",
       "        [ 5.95179376e-02]]),\n",
       " 'W4': array([[-0.03914459,  0.00505308, -0.12681375, ...,  0.00594497,\n",
       "         -0.01132865,  0.08778631],\n",
       "        [ 0.0391886 , -0.0124392 ,  0.07490837, ...,  0.0692453 ,\n",
       "          0.04047509,  0.12452305],\n",
       "        [ 0.07315291, -0.00634395, -0.00719435, ...,  0.01222582,\n",
       "          0.01274535, -0.22413097]]),\n",
       " 'b4': array([[-0.10069395],\n",
       "        [-0.23848361],\n",
       "        [-0.25250702]])}"
      ]
     },
     "execution_count": 137,
     "metadata": {},
     "output_type": "execute_result"
    }
   ],
   "source": [
    "parameters"
   ]
  },
  {
   "cell_type": "code",
   "execution_count": 138,
   "metadata": {},
   "outputs": [
    {
     "name": "stdout",
     "output_type": "stream",
     "text": [
      "now the accuracy is 60.37%\n"
     ]
    }
   ],
   "source": [
    "predict(X_flatten,y_flatten,parameters)"
   ]
  },
  {
   "cell_type": "code",
   "execution_count": 126,
   "metadata": {},
   "outputs": [
    {
     "data": {
      "text/plain": [
       "(3, 17621)"
      ]
     },
     "execution_count": 126,
     "metadata": {},
     "output_type": "execute_result"
    }
   ],
   "source": [
    "y_flatten.shape"
   ]
  },
  {
   "cell_type": "code",
   "execution_count": 139,
   "metadata": {},
   "outputs": [
    {
     "name": "stdout",
     "output_type": "stream",
     "text": [
      "now the accuracy is 49.08%\n"
     ]
    }
   ],
   "source": [
    "predict(x_t,y_t,parameters)"
   ]
  },
  {
   "cell_type": "markdown",
   "metadata": {},
   "source": [
    "## 4. Using regularization"
   ]
  },
  {
   "cell_type": "code",
   "execution_count": 140,
   "metadata": {},
   "outputs": [],
   "source": [
    "def initialize_with_he(dims):\n",
    "    \n",
    "    L=len(dims)\n",
    "    parameters={}\n",
    "    for i in range(1,L):\n",
    "        parameters['W'+str(i)]=np.random.randn(dims[i],dims[i-1])*(np.sqrt(2/dims[i-1]))\n",
    "        parameters['b'+str(i)]=np.zeros((dims[i],1))\n",
    "        \n",
    "        assert(parameters['W' + str(i)].shape == (dims[i], dims[i-1]))\n",
    "        assert(parameters['b' + str(i)].shape == (dims[i], 1))\n",
    "    \n",
    "    return parameters"
   ]
  },
  {
   "cell_type": "code",
   "execution_count": 141,
   "metadata": {},
   "outputs": [],
   "source": [
    "def compute_cost_with_regularization(Al , Y,parameters, lambd=0.07):\n",
    "    #print(\"MY name is aman\")\n",
    "    m=Y.shape[1]\n",
    "    W1=parameters[\"W1\"]\n",
    "    W2=parameters[\"W2\"]\n",
    "    W3=parameters[\"W3\"]\n",
    "    \n",
    "    cost=compute_cost1(Al, Y)\n",
    "    #print(\"cross entropy: \",cost1)\n",
    "    \n",
    "    ## now defing the regularization in the fub=nction\n",
    "    regularization= np.sum(np.square(W3))+np.sum(np.square(W2))+np.sum(np.square(W1))\n",
    "    #print(regularization)\n",
    "    \n",
    "    ## now defing the regularization\n",
    "    cost=cost+regularization*(lambd/(2*m))\n",
    "    \n",
    "    return cost"
   ]
  },
  {
   "cell_type": "code",
   "execution_count": 142,
   "metadata": {},
   "outputs": [
    {
     "ename": "NameError",
     "evalue": "name 'Al' is not defined",
     "output_type": "error",
     "traceback": [
      "\u001b[0;31m---------------------------------------------------------------------------\u001b[0m",
      "\u001b[0;31mNameError\u001b[0m                                 Traceback (most recent call last)",
      "\u001b[0;32m<ipython-input-142-601676cf2fa3>\u001b[0m in \u001b[0;36m<module>\u001b[0;34m\u001b[0m\n\u001b[0;32m----> 1\u001b[0;31m \u001b[0mcompute_cost_with_regularization\u001b[0m\u001b[0;34m(\u001b[0m\u001b[0mAl\u001b[0m\u001b[0;34m,\u001b[0m\u001b[0my_flatten\u001b[0m\u001b[0;34m,\u001b[0m\u001b[0mparameters\u001b[0m\u001b[0;34m,\u001b[0m\u001b[0mlambd\u001b[0m\u001b[0;34m=\u001b[0m\u001b[0;36m0.07\u001b[0m\u001b[0;34m)\u001b[0m\u001b[0;34m\u001b[0m\u001b[0;34m\u001b[0m\u001b[0m\n\u001b[0m",
      "\u001b[0;31mNameError\u001b[0m: name 'Al' is not defined"
     ]
    }
   ],
   "source": [
    "compute_cost_with_regularization(Al,y_flatten,parameters,lambd=0.07)"
   ]
  },
  {
   "cell_type": "code",
   "execution_count": null,
   "metadata": {},
   "outputs": [],
   "source": []
  },
  {
   "cell_type": "code",
   "execution_count": null,
   "metadata": {},
   "outputs": [],
   "source": []
  },
  {
   "cell_type": "code",
   "execution_count": 143,
   "metadata": {},
   "outputs": [],
   "source": [
    "def forword_propagation_with_dropout(X,parameters,keep_prob):\n",
    "    # probagation ->RELU -> DROPOUT-> propagation ->RELU -> DROPOUT ->propagation ->sigmoid\n",
    "    W1=parameters[\"W1\"]\n",
    "    b1=parameters[\"b1\"]\n",
    "    W2=parameters[\"W2\"]\n",
    "    b2=parameters[\"b2\"]\n",
    "    W3=parameters[\"W3\"]\n",
    "    b3=parameters[\"b3\"]\n",
    "    \n",
    "    Z1=np.dot(W1,X)+b1\n",
    "    A1,cache=relu(Z1)\n",
    "    ## dropout------\n",
    "    D1=np.random.rand(A1.shape[0],A1.shape[1])\n",
    "    D1=(D1<keep_prob).astype(int)\n",
    "    A1=np.multiply(A1,D1)\n",
    "    A1=A1/keep_prob\n",
    "    ##dropout......\n",
    "    \n",
    "    Z2=np.dot(W2,A1)+b2\n",
    "    A2,cache=relu(Z2)\n",
    "    ##dropout....\n",
    "    D2=np.random.rand(A2.shape[0],A2.shape[1])\n",
    "    D2=(D2<keep_prob).astype(int)\n",
    "    A2=np.multiply(A2,D2)\n",
    "    A2=A2/keep_prob\n",
    "    ## dropout....\n",
    "    \n",
    "    Z3=np.dot(W3,A2)+b3\n",
    "    A3,cache=sigmoid(Z3)\n",
    "    \n",
    "    caches=(Z1,D1,A1,W1,b1,Z2,D2,A2,W2,b2,Z3,A3,W3,b3)\n",
    "    \n",
    "    \n",
    "    return A3,caches"
   ]
  },
  {
   "cell_type": "code",
   "execution_count": 144,
   "metadata": {},
   "outputs": [],
   "source": [
    "def forword_propagation(X,parameters):\n",
    "    #print(\"Its me\")\n",
    "    W1=parameters['W1']\n",
    "    b1=parameters['b1']\n",
    "    W2=parameters['W2']\n",
    "    b2=parameters['b2']\n",
    "    W3=parameters['W3']\n",
    "    b3=parameters['b3']\n",
    "    \n",
    "    Z1=np.dot(W1,X)+b1\n",
    "    A1,cache=relu(Z1)\n",
    "    \n",
    "    Z2=np.dot(W2,A1)+b2\n",
    "    A2,cache=relu(Z2)\n",
    "    \n",
    "    Z3=np.dot(W3,A2)+b3\n",
    "    A3,cache=sigmoid(Z3)\n",
    "    \n",
    "    cache=(Z1,A1,W1,b1,Z2,A2,W2,b2,Z3,A3,W3,b3)\n",
    "    \n",
    "    return A3,cache\n",
    "    \n",
    "    "
   ]
  },
  {
   "cell_type": "code",
   "execution_count": 145,
   "metadata": {},
   "outputs": [],
   "source": [
    "def backword_propagation_with_regularization(X,Y,caches,lambd=0):\n",
    "    \n",
    "    m=X.shape[1]\n",
    "    (Z1,A1,W1,b1,Z2,A2,W2,b2,Z3,A3,W3,b3)=caches\n",
    "    \n",
    "    dZ3=A3-Y\n",
    "    dW3=1./m * np.dot(dZ3,A2.T)+((lambd*W3)/m)\n",
    "    db3=1./m * np.sum(dZ3,axis=1,keepdims=True)\n",
    "    \n",
    "    dA2=np.dot(W3.T,dZ3)\n",
    "    dZ2=np.multiply(dA2,np.int64(A2>0))\n",
    "    dW2=1./m * np.dot(dZ2,A1.T)+((lambd*W2)/m)\n",
    "    db2=1./m * np.sum(dZ2,axis=1,keepdims=True)\n",
    "    \n",
    "    dA1=np.dot(W2.T,dZ2)\n",
    "    dZ1=np.multiply(dA1,np.int64(A1>0))\n",
    "    dW1=1./m * np.dot(dZ1,X.T)+((lambd)/m)\n",
    "    db1=1./m * np.sum(dZ1,axis=1,keepdims=True)\n",
    "    \n",
    "    gradients={ \"dZ3\":dZ3, \"dW3\": dW3, \"db3\": db3, \"dA2\": dA2,\n",
    "               \"dZ2\":dZ2, \"dW2\": dW2, \"db2\": db2, \"dA1\": dA1,\n",
    "                \"dZ1\":dZ1, \"dW1\": dW1, \"db1\": db1}\n",
    "        \n",
    "    return gradients"
   ]
  },
  {
   "cell_type": "code",
   "execution_count": 146,
   "metadata": {},
   "outputs": [],
   "source": [
    "def backword_propagation_with_dropout(X,Y,caches,keep_prob):\n",
    "    \n",
    "    m=X.shape[1]\n",
    "    (Z1,D1,A1,W1,b1,Z2,D2,A2,W2,b2,Z3,A3,W3,b3)=caches\n",
    "    \n",
    "    dZ3=A3-Y\n",
    "    dW3=1./m * np.dot(dZ3,A2.T)\n",
    "    db3=1./m * np.sum(dZ3,axis=1,keepdims=True)\n",
    "    ##db3=np.sum(dZ,axis=1,keepdims=True)*(1/m)\n",
    "    \n",
    "    dA2=np.dot(W3.T,dZ3)\n",
    "    ##Dropout\n",
    "    dA2=dA2*D2\n",
    "    dA2=dA2/keep_prob\n",
    "    dZ2=np.multiply(dA2,np.int64(A2>0))\n",
    "    dW2=1./m * np.dot(dZ2,A1.T)\n",
    "    db2=1./m * np.sum(dZ2,axis=1,keepdims=True)\n",
    "    \n",
    "    dA1=np.dot(dW2.T,dZ2)\n",
    "    ##dropout\n",
    "    dA1=dA1*D1\n",
    "    dA1=dA1/keep_prob\n",
    "    dZ1=np.multiply(dA1,np.int64(A1>0))\n",
    "    dW1=1./m * np.dot(dZ1,X.T)\n",
    "    db1=1./m * np.sum(dZ1,axis=1,keepdims=True)\n",
    "    \n",
    "    gradients={ \"dZ3\":dZ3, \"dW3\": dW3, \"db3\": db3, \"dA2\": dA2,\n",
    "               \"dZ2\":dZ2, \"dW2\": dW2, \"db2\": db2, \"dA1\": dA1,\n",
    "                \"dZ1\":dZ1, \"dW1\": dW1, \"db1\": db1}\n",
    "     \n",
    "    return gradients\n",
    "    \n",
    "    \n",
    "    \n",
    "    "
   ]
  },
  {
   "cell_type": "code",
   "execution_count": 147,
   "metadata": {},
   "outputs": [],
   "source": [
    "def model_com(X,Y,learning_rate,num_iters,lambd=0,keep_prob=1,print_cost=True):\n",
    "    \n",
    "    \n",
    "    grads={}\n",
    "    costs=[]\n",
    "    m=X.shape[1]\n",
    "    layer_dims=[X.shape[0],64,64,3]\n",
    "    parameters=initialize_with_he(layer_dims)\n",
    "    for i in range(0,num_iters):\n",
    "        ##print(\"irteration no \",i)\n",
    "        ## forword propagation :..\n",
    "        if keep_prob==1:\n",
    "            Al,caches=forword_propagation(X,parameters)\n",
    "        elif keep_prob<1:\n",
    "            Al,caches=forword_propagation_with_dropout(X,parameters,keep_prob)\n",
    "        \n",
    "        ### here we find cost funtion\n",
    "        if lambd==0:\n",
    "            cost=compute_cost1(Al,Y)\n",
    "        elif lambd!=0:\n",
    "            cost=compute_cost_with_regularization(Al,Y,parameters,lambd)\n",
    "            \n",
    "        assert(lambd==0 or keep_prob==1)\n",
    "        if cost:\n",
    "            continue\n",
    "        else:\n",
    "            break\n",
    "        if math.isnan(cost):\n",
    "            break\n",
    "        ## backpropagation:.....\n",
    "        if keep_prob==1 and lambd==0:\n",
    "            grads=backword_propagation(X,Y,caches)\n",
    "        \n",
    "        elif keep_prob<1:\n",
    "            grads=backword_propagation_with_dropout(X,Y,caches,keep_prob)\n",
    "        \n",
    "        elif lambd!=0:\n",
    "            grads=backword_propagation_with_regularization(X,Y,caches,lambd)\n",
    "        \n",
    "        ##update parameters:.....\n",
    "        parameters=update_parameters(parameters,grads,learning_rate)\n",
    "        \n",
    "        if print_cost and i%1000==0:\n",
    "            print(\"cost after iteratrion {} : {}\".format(i,cost))\n",
    "        if print_cost and i%100==0:\n",
    "            #print(\"cost after iteratrion {} : {}\".format(i,cost))\n",
    "            costs.append(cost)\n",
    "    ##plot the cost\n",
    "    plt.plot(costs)\n",
    "    plt.ylabel('cost')\n",
    "    plt.xlabel('iteration (x1,1000)')\n",
    "    plt.title(\"learning rate= \"+str(learning_rate))\n",
    "    plt.show()\n",
    "    \n",
    "    \n",
    "    \n",
    "    return parameters    "
   ]
  },
  {
   "cell_type": "code",
   "execution_count": 223,
   "metadata": {},
   "outputs": [
    {
     "ename": "KeyboardInterrupt",
     "evalue": "",
     "output_type": "error",
     "traceback": [
      "\u001b[0;31m---------------------------------------------------------------------------\u001b[0m",
      "\u001b[0;31mKeyboardInterrupt\u001b[0m                         Traceback (most recent call last)",
      "\u001b[0;32m<ipython-input-223-b7268a5a7e93>\u001b[0m in \u001b[0;36m<module>\u001b[0;34m\u001b[0m\n\u001b[0;32m----> 1\u001b[0;31m \u001b[0mparameters\u001b[0m\u001b[0;34m=\u001b[0m\u001b[0mmodel_com\u001b[0m\u001b[0;34m(\u001b[0m\u001b[0mX_flatten\u001b[0m\u001b[0;34m,\u001b[0m \u001b[0my_flatten\u001b[0m\u001b[0;34m,\u001b[0m\u001b[0mlearning_rate\u001b[0m\u001b[0;34m=\u001b[0m\u001b[0;36m0.1\u001b[0m\u001b[0;34m,\u001b[0m\u001b[0mnum_iters\u001b[0m\u001b[0;34m=\u001b[0m\u001b[0;36m15000\u001b[0m\u001b[0;34m,\u001b[0m\u001b[0mlambd\u001b[0m\u001b[0;34m=\u001b[0m\u001b[0;36m0.07\u001b[0m\u001b[0;34m,\u001b[0m\u001b[0mkeep_prob\u001b[0m\u001b[0;34m=\u001b[0m\u001b[0;36m1\u001b[0m\u001b[0;34m,\u001b[0m\u001b[0mprint_cost\u001b[0m\u001b[0;34m=\u001b[0m\u001b[0;32mTrue\u001b[0m\u001b[0;34m)\u001b[0m\u001b[0;34m\u001b[0m\u001b[0;34m\u001b[0m\u001b[0m\n\u001b[0m",
      "\u001b[0;32m<ipython-input-222-d6e1e1a87e36>\u001b[0m in \u001b[0;36mmodel_com\u001b[0;34m(X, Y, learning_rate, num_iters, lambd, keep_prob, print_cost)\u001b[0m\n\u001b[1;32m     11\u001b[0m         \u001b[0;31m## forword propagation :..\u001b[0m\u001b[0;34m\u001b[0m\u001b[0;34m\u001b[0m\u001b[0;34m\u001b[0m\u001b[0m\n\u001b[1;32m     12\u001b[0m         \u001b[0;32mif\u001b[0m \u001b[0mkeep_prob\u001b[0m\u001b[0;34m==\u001b[0m\u001b[0;36m1\u001b[0m\u001b[0;34m:\u001b[0m\u001b[0;34m\u001b[0m\u001b[0;34m\u001b[0m\u001b[0m\n\u001b[0;32m---> 13\u001b[0;31m             \u001b[0mAl\u001b[0m\u001b[0;34m,\u001b[0m\u001b[0mcaches\u001b[0m\u001b[0;34m=\u001b[0m\u001b[0mforword_propagation\u001b[0m\u001b[0;34m(\u001b[0m\u001b[0mX\u001b[0m\u001b[0;34m,\u001b[0m\u001b[0mparameters\u001b[0m\u001b[0;34m)\u001b[0m\u001b[0;34m\u001b[0m\u001b[0;34m\u001b[0m\u001b[0m\n\u001b[0m\u001b[1;32m     14\u001b[0m         \u001b[0;32melif\u001b[0m \u001b[0mkeep_prob\u001b[0m\u001b[0;34m<\u001b[0m\u001b[0;36m1\u001b[0m\u001b[0;34m:\u001b[0m\u001b[0;34m\u001b[0m\u001b[0;34m\u001b[0m\u001b[0m\n\u001b[1;32m     15\u001b[0m             \u001b[0mAl\u001b[0m\u001b[0;34m,\u001b[0m\u001b[0mcaches\u001b[0m\u001b[0;34m=\u001b[0m\u001b[0mforword_propagation_with_dropout\u001b[0m\u001b[0;34m(\u001b[0m\u001b[0mX\u001b[0m\u001b[0;34m,\u001b[0m\u001b[0mparameters\u001b[0m\u001b[0;34m,\u001b[0m\u001b[0mkeep_prob\u001b[0m\u001b[0;34m)\u001b[0m\u001b[0;34m\u001b[0m\u001b[0;34m\u001b[0m\u001b[0m\n",
      "\u001b[0;32m<ipython-input-181-f67b1c723156>\u001b[0m in \u001b[0;36mforword_propagation\u001b[0;34m(X, parameters)\u001b[0m\n\u001b[1;32m      8\u001b[0m     \u001b[0mb3\u001b[0m\u001b[0;34m=\u001b[0m\u001b[0mparameters\u001b[0m\u001b[0;34m[\u001b[0m\u001b[0;34m'b3'\u001b[0m\u001b[0;34m]\u001b[0m\u001b[0;34m\u001b[0m\u001b[0;34m\u001b[0m\u001b[0m\n\u001b[1;32m      9\u001b[0m \u001b[0;34m\u001b[0m\u001b[0m\n\u001b[0;32m---> 10\u001b[0;31m     \u001b[0mZ1\u001b[0m\u001b[0;34m=\u001b[0m\u001b[0mnp\u001b[0m\u001b[0;34m.\u001b[0m\u001b[0mdot\u001b[0m\u001b[0;34m(\u001b[0m\u001b[0mW1\u001b[0m\u001b[0;34m,\u001b[0m\u001b[0mX\u001b[0m\u001b[0;34m)\u001b[0m\u001b[0;34m+\u001b[0m\u001b[0mb1\u001b[0m\u001b[0;34m\u001b[0m\u001b[0;34m\u001b[0m\u001b[0m\n\u001b[0m\u001b[1;32m     11\u001b[0m     \u001b[0mA1\u001b[0m\u001b[0;34m,\u001b[0m\u001b[0mcache\u001b[0m\u001b[0;34m=\u001b[0m\u001b[0mrelu\u001b[0m\u001b[0;34m(\u001b[0m\u001b[0mZ1\u001b[0m\u001b[0;34m)\u001b[0m\u001b[0;34m\u001b[0m\u001b[0;34m\u001b[0m\u001b[0m\n\u001b[1;32m     12\u001b[0m \u001b[0;34m\u001b[0m\u001b[0m\n",
      "\u001b[0;32m<__array_function__ internals>\u001b[0m in \u001b[0;36mdot\u001b[0;34m(*args, **kwargs)\u001b[0m\n",
      "\u001b[0;31mKeyboardInterrupt\u001b[0m: "
     ]
    }
   ],
   "source": [
    "parameters=model_com(X_flatten, y_flatten,learning_rate=0.1,num_iters=15000,lambd=0.07,keep_prob=1,print_cost=True)"
   ]
  },
  {
   "cell_type": "markdown",
   "metadata": {},
   "source": [
    "### Note.. "
   ]
  },
  {
   "cell_type": "markdown",
   "metadata": {},
   "source": [
    "Here we have seen that regularization give better result on NLP data only for trainig data set\n",
    " 1. it gives 95% accuracy on learning_rate=0.1 number of Iteration= 15000 and lambda=0.085"
   ]
  },
  {
   "cell_type": "markdown",
   "metadata": {},
   "source": [
    "1.1  but gives 64% accuracy on cross validation set which is very bad "
   ]
  },
  {
   "cell_type": "code",
   "execution_count": 220,
   "metadata": {},
   "outputs": [
    {
     "name": "stdout",
     "output_type": "stream",
     "text": [
      "now the accuracy is 55.87%\n"
     ]
    }
   ],
   "source": [
    "predict(x_t,y_t,parameters)"
   ]
  },
  {
   "cell_type": "code",
   "execution_count": 221,
   "metadata": {},
   "outputs": [
    {
     "ename": "NameError",
     "evalue": "name 'nan' is not defined",
     "output_type": "error",
     "traceback": [
      "\u001b[0;31m---------------------------------------------------------------------------\u001b[0m",
      "\u001b[0;31mNameError\u001b[0m                                 Traceback (most recent call last)",
      "\u001b[0;32m<ipython-input-221-01a87fb4d4ad>\u001b[0m in \u001b[0;36m<module>\u001b[0;34m\u001b[0m\n\u001b[0;32m----> 1\u001b[0;31m \u001b[0mcost\u001b[0m\u001b[0;34m=\u001b[0m\u001b[0mnan\u001b[0m\u001b[0;34m\u001b[0m\u001b[0;34m\u001b[0m\u001b[0m\n\u001b[0m",
      "\u001b[0;31mNameError\u001b[0m: name 'nan' is not defined"
     ]
    }
   ],
   "source": [
    "cost="
   ]
  },
  {
   "cell_type": "code",
   "execution_count": 147,
   "metadata": {},
   "outputs": [],
   "source": [
    "layer_dims=[X_flatten.shape[0],64,64,3]"
   ]
  },
  {
   "cell_type": "code",
   "execution_count": 148,
   "metadata": {},
   "outputs": [],
   "source": [
    "parameters=initialize_with_he(layers_dims)"
   ]
  },
  {
   "cell_type": "code",
   "execution_count": 149,
   "metadata": {},
   "outputs": [
    {
     "data": {
      "text/plain": [
       "{'W1': array([[ 0.00412967,  0.07104038, -0.03236389, ..., -0.12573891,\n",
       "         -0.05606441,  0.11894395],\n",
       "        [-0.1307399 , -0.12945585, -0.04925058, ...,  0.09685405,\n",
       "          0.04427996,  0.04403341],\n",
       "        [ 0.03114408, -0.00664743,  0.08291168, ..., -0.05767307,\n",
       "          0.05877269,  0.06531139],\n",
       "        ...,\n",
       "        [-0.08126617, -0.01617538,  0.02146229, ...,  0.16244738,\n",
       "         -0.13340518,  0.05174535],\n",
       "        [ 0.16163921, -0.04903776,  0.06123141, ...,  0.08773717,\n",
       "         -0.09166194,  0.00897791],\n",
       "        [-0.19588928,  0.16513869, -0.09353748, ..., -0.14928163,\n",
       "         -0.03193231,  0.00790219]]), 'b1': array([[0.],\n",
       "        [0.],\n",
       "        [0.],\n",
       "        [0.],\n",
       "        [0.],\n",
       "        [0.],\n",
       "        [0.],\n",
       "        [0.],\n",
       "        [0.],\n",
       "        [0.],\n",
       "        [0.],\n",
       "        [0.],\n",
       "        [0.],\n",
       "        [0.],\n",
       "        [0.],\n",
       "        [0.],\n",
       "        [0.],\n",
       "        [0.],\n",
       "        [0.],\n",
       "        [0.],\n",
       "        [0.],\n",
       "        [0.],\n",
       "        [0.],\n",
       "        [0.],\n",
       "        [0.],\n",
       "        [0.],\n",
       "        [0.],\n",
       "        [0.],\n",
       "        [0.],\n",
       "        [0.],\n",
       "        [0.],\n",
       "        [0.],\n",
       "        [0.],\n",
       "        [0.],\n",
       "        [0.],\n",
       "        [0.],\n",
       "        [0.],\n",
       "        [0.],\n",
       "        [0.],\n",
       "        [0.],\n",
       "        [0.],\n",
       "        [0.],\n",
       "        [0.],\n",
       "        [0.],\n",
       "        [0.],\n",
       "        [0.],\n",
       "        [0.],\n",
       "        [0.],\n",
       "        [0.],\n",
       "        [0.],\n",
       "        [0.],\n",
       "        [0.],\n",
       "        [0.],\n",
       "        [0.],\n",
       "        [0.],\n",
       "        [0.],\n",
       "        [0.],\n",
       "        [0.],\n",
       "        [0.],\n",
       "        [0.],\n",
       "        [0.],\n",
       "        [0.],\n",
       "        [0.],\n",
       "        [0.],\n",
       "        [0.],\n",
       "        [0.],\n",
       "        [0.],\n",
       "        [0.],\n",
       "        [0.],\n",
       "        [0.],\n",
       "        [0.],\n",
       "        [0.],\n",
       "        [0.],\n",
       "        [0.],\n",
       "        [0.],\n",
       "        [0.],\n",
       "        [0.],\n",
       "        [0.],\n",
       "        [0.],\n",
       "        [0.],\n",
       "        [0.],\n",
       "        [0.],\n",
       "        [0.],\n",
       "        [0.],\n",
       "        [0.],\n",
       "        [0.],\n",
       "        [0.],\n",
       "        [0.],\n",
       "        [0.],\n",
       "        [0.],\n",
       "        [0.],\n",
       "        [0.],\n",
       "        [0.],\n",
       "        [0.],\n",
       "        [0.],\n",
       "        [0.],\n",
       "        [0.],\n",
       "        [0.],\n",
       "        [0.],\n",
       "        [0.],\n",
       "        [0.],\n",
       "        [0.],\n",
       "        [0.],\n",
       "        [0.],\n",
       "        [0.],\n",
       "        [0.],\n",
       "        [0.],\n",
       "        [0.],\n",
       "        [0.],\n",
       "        [0.],\n",
       "        [0.],\n",
       "        [0.],\n",
       "        [0.],\n",
       "        [0.],\n",
       "        [0.],\n",
       "        [0.],\n",
       "        [0.],\n",
       "        [0.],\n",
       "        [0.],\n",
       "        [0.],\n",
       "        [0.],\n",
       "        [0.],\n",
       "        [0.],\n",
       "        [0.],\n",
       "        [0.],\n",
       "        [0.],\n",
       "        [0.],\n",
       "        [0.],\n",
       "        [0.],\n",
       "        [0.],\n",
       "        [0.],\n",
       "        [0.],\n",
       "        [0.],\n",
       "        [0.],\n",
       "        [0.],\n",
       "        [0.],\n",
       "        [0.],\n",
       "        [0.],\n",
       "        [0.],\n",
       "        [0.],\n",
       "        [0.],\n",
       "        [0.],\n",
       "        [0.],\n",
       "        [0.],\n",
       "        [0.],\n",
       "        [0.],\n",
       "        [0.],\n",
       "        [0.],\n",
       "        [0.],\n",
       "        [0.],\n",
       "        [0.],\n",
       "        [0.],\n",
       "        [0.],\n",
       "        [0.],\n",
       "        [0.],\n",
       "        [0.],\n",
       "        [0.],\n",
       "        [0.],\n",
       "        [0.],\n",
       "        [0.],\n",
       "        [0.],\n",
       "        [0.],\n",
       "        [0.],\n",
       "        [0.],\n",
       "        [0.],\n",
       "        [0.],\n",
       "        [0.],\n",
       "        [0.],\n",
       "        [0.],\n",
       "        [0.],\n",
       "        [0.],\n",
       "        [0.],\n",
       "        [0.],\n",
       "        [0.],\n",
       "        [0.],\n",
       "        [0.],\n",
       "        [0.],\n",
       "        [0.],\n",
       "        [0.],\n",
       "        [0.],\n",
       "        [0.],\n",
       "        [0.],\n",
       "        [0.],\n",
       "        [0.],\n",
       "        [0.],\n",
       "        [0.],\n",
       "        [0.],\n",
       "        [0.],\n",
       "        [0.],\n",
       "        [0.],\n",
       "        [0.],\n",
       "        [0.],\n",
       "        [0.],\n",
       "        [0.],\n",
       "        [0.],\n",
       "        [0.],\n",
       "        [0.],\n",
       "        [0.],\n",
       "        [0.],\n",
       "        [0.]]), 'W2': array([[ 0.07916455, -0.02518272,  0.20106465, ...,  0.10195941,\n",
       "         -0.14432148,  0.1834198 ],\n",
       "        [ 0.16918549,  0.02212496, -0.15150241, ..., -0.00750542,\n",
       "         -0.14376517, -0.05145603],\n",
       "        [-0.09991805, -0.02438935, -0.03524297, ..., -0.09008009,\n",
       "          0.02516282, -0.13186507],\n",
       "        ...,\n",
       "        [ 0.06666413, -0.02073638,  0.00181517, ...,  0.04604344,\n",
       "         -0.18119367,  0.02555159],\n",
       "        [ 0.02784613, -0.21540904,  0.02562465, ..., -0.02407669,\n",
       "         -0.11218416,  0.03296598],\n",
       "        [-0.02541541,  0.00779426, -0.0528663 , ...,  0.09097231,\n",
       "         -0.02599192, -0.02358425]]), 'b2': array([[0.],\n",
       "        [0.],\n",
       "        [0.],\n",
       "        [0.],\n",
       "        [0.],\n",
       "        [0.],\n",
       "        [0.],\n",
       "        [0.],\n",
       "        [0.],\n",
       "        [0.],\n",
       "        [0.],\n",
       "        [0.],\n",
       "        [0.],\n",
       "        [0.],\n",
       "        [0.],\n",
       "        [0.],\n",
       "        [0.],\n",
       "        [0.],\n",
       "        [0.],\n",
       "        [0.],\n",
       "        [0.],\n",
       "        [0.],\n",
       "        [0.],\n",
       "        [0.],\n",
       "        [0.],\n",
       "        [0.],\n",
       "        [0.],\n",
       "        [0.],\n",
       "        [0.],\n",
       "        [0.],\n",
       "        [0.],\n",
       "        [0.],\n",
       "        [0.],\n",
       "        [0.],\n",
       "        [0.],\n",
       "        [0.],\n",
       "        [0.],\n",
       "        [0.],\n",
       "        [0.],\n",
       "        [0.],\n",
       "        [0.],\n",
       "        [0.],\n",
       "        [0.],\n",
       "        [0.],\n",
       "        [0.],\n",
       "        [0.],\n",
       "        [0.],\n",
       "        [0.],\n",
       "        [0.],\n",
       "        [0.],\n",
       "        [0.],\n",
       "        [0.],\n",
       "        [0.],\n",
       "        [0.],\n",
       "        [0.],\n",
       "        [0.],\n",
       "        [0.],\n",
       "        [0.],\n",
       "        [0.],\n",
       "        [0.],\n",
       "        [0.],\n",
       "        [0.],\n",
       "        [0.],\n",
       "        [0.],\n",
       "        [0.],\n",
       "        [0.],\n",
       "        [0.],\n",
       "        [0.],\n",
       "        [0.],\n",
       "        [0.],\n",
       "        [0.],\n",
       "        [0.],\n",
       "        [0.],\n",
       "        [0.],\n",
       "        [0.],\n",
       "        [0.],\n",
       "        [0.],\n",
       "        [0.],\n",
       "        [0.],\n",
       "        [0.],\n",
       "        [0.],\n",
       "        [0.],\n",
       "        [0.],\n",
       "        [0.],\n",
       "        [0.],\n",
       "        [0.],\n",
       "        [0.],\n",
       "        [0.],\n",
       "        [0.],\n",
       "        [0.],\n",
       "        [0.],\n",
       "        [0.],\n",
       "        [0.],\n",
       "        [0.],\n",
       "        [0.],\n",
       "        [0.],\n",
       "        [0.],\n",
       "        [0.],\n",
       "        [0.],\n",
       "        [0.],\n",
       "        [0.],\n",
       "        [0.],\n",
       "        [0.],\n",
       "        [0.],\n",
       "        [0.],\n",
       "        [0.],\n",
       "        [0.],\n",
       "        [0.],\n",
       "        [0.],\n",
       "        [0.],\n",
       "        [0.],\n",
       "        [0.],\n",
       "        [0.],\n",
       "        [0.],\n",
       "        [0.],\n",
       "        [0.],\n",
       "        [0.],\n",
       "        [0.],\n",
       "        [0.],\n",
       "        [0.],\n",
       "        [0.],\n",
       "        [0.],\n",
       "        [0.],\n",
       "        [0.],\n",
       "        [0.],\n",
       "        [0.],\n",
       "        [0.],\n",
       "        [0.],\n",
       "        [0.],\n",
       "        [0.],\n",
       "        [0.],\n",
       "        [0.],\n",
       "        [0.],\n",
       "        [0.],\n",
       "        [0.],\n",
       "        [0.],\n",
       "        [0.],\n",
       "        [0.],\n",
       "        [0.],\n",
       "        [0.],\n",
       "        [0.],\n",
       "        [0.],\n",
       "        [0.],\n",
       "        [0.],\n",
       "        [0.],\n",
       "        [0.],\n",
       "        [0.],\n",
       "        [0.],\n",
       "        [0.],\n",
       "        [0.],\n",
       "        [0.],\n",
       "        [0.],\n",
       "        [0.],\n",
       "        [0.],\n",
       "        [0.],\n",
       "        [0.],\n",
       "        [0.],\n",
       "        [0.],\n",
       "        [0.],\n",
       "        [0.],\n",
       "        [0.],\n",
       "        [0.],\n",
       "        [0.],\n",
       "        [0.],\n",
       "        [0.],\n",
       "        [0.],\n",
       "        [0.],\n",
       "        [0.],\n",
       "        [0.],\n",
       "        [0.],\n",
       "        [0.],\n",
       "        [0.],\n",
       "        [0.],\n",
       "        [0.],\n",
       "        [0.],\n",
       "        [0.],\n",
       "        [0.],\n",
       "        [0.],\n",
       "        [0.],\n",
       "        [0.],\n",
       "        [0.],\n",
       "        [0.],\n",
       "        [0.],\n",
       "        [0.],\n",
       "        [0.],\n",
       "        [0.],\n",
       "        [0.],\n",
       "        [0.],\n",
       "        [0.],\n",
       "        [0.],\n",
       "        [0.],\n",
       "        [0.],\n",
       "        [0.],\n",
       "        [0.],\n",
       "        [0.],\n",
       "        [0.],\n",
       "        [0.],\n",
       "        [0.],\n",
       "        [0.],\n",
       "        [0.]]), 'W3': array([[-1.85716961e-01, -5.37095087e-02, -5.21022156e-02,\n",
       "          1.45437510e-01, -3.85837143e-03,  1.70431230e-01,\n",
       "          1.39681336e-01,  3.52445462e-02,  2.61139076e-01,\n",
       "         -3.50381023e-02,  7.74782841e-02,  8.28368199e-02,\n",
       "         -3.26985373e-02,  9.70435715e-02,  1.27856829e-01,\n",
       "         -6.00809156e-02,  9.53524395e-02, -4.17048029e-02,\n",
       "         -1.26331798e-02, -7.15477256e-02, -1.04949530e-01,\n",
       "          1.75237188e-01, -1.07153364e-01, -4.09198258e-02,\n",
       "          1.77553462e-02, -2.97396732e-02,  9.69947604e-02,\n",
       "         -4.58668481e-05,  1.55682052e-01, -4.99667553e-02,\n",
       "         -1.26445199e-01,  5.63127173e-02, -1.51478102e-01,\n",
       "          8.05316785e-03, -5.79093353e-02, -1.00842348e-01,\n",
       "          7.23778985e-02, -6.81476793e-02, -9.36292631e-02,\n",
       "         -1.42463500e-01, -8.28363304e-02,  9.56267307e-02,\n",
       "         -1.16761186e-01,  9.22716572e-02, -4.97992639e-02,\n",
       "          1.13068966e-01, -8.44779541e-02, -1.62160867e-01,\n",
       "         -1.58695938e-02,  1.02297349e-01,  1.22811676e-02,\n",
       "         -2.13481571e-01, -1.12993212e-01,  4.18525444e-02,\n",
       "          1.00942246e-02,  1.36603593e-01,  1.92404989e-01,\n",
       "          5.78266315e-02,  6.51970628e-02, -6.94720218e-02,\n",
       "         -8.68297749e-02, -9.83880758e-02,  4.23881145e-02,\n",
       "          8.87989012e-02, -6.77541718e-02,  1.80722957e-01,\n",
       "         -1.25587325e-01, -1.08072578e-01,  1.28512534e-02,\n",
       "          1.30785460e-01,  2.77606013e-02,  7.34749447e-02,\n",
       "         -8.86745419e-02,  1.20723302e-01, -1.14627349e-01,\n",
       "         -8.57257942e-03,  1.50653509e-01,  9.27228814e-02,\n",
       "          2.47724364e-01, -3.03513337e-03, -1.36112071e-01,\n",
       "          1.12761098e-01,  9.27102590e-02, -1.33201984e-02,\n",
       "          2.45188941e-01,  1.31567768e-02,  4.84015922e-02,\n",
       "          7.61786676e-02,  6.51540725e-03, -4.21803623e-03,\n",
       "          6.89052840e-02, -1.82197528e-01,  4.66687638e-02,\n",
       "         -5.92056468e-04,  2.49046161e-01, -5.79172183e-02,\n",
       "          1.01070418e-01,  7.54420907e-02, -4.48374879e-03,\n",
       "          2.86876727e-02, -6.64885241e-02, -8.64042375e-02,\n",
       "         -5.85843331e-02, -2.54283514e-02, -5.26475202e-02,\n",
       "          1.00164401e-02, -2.89303656e-02,  3.53967381e-02,\n",
       "         -2.37378916e-01,  8.33235653e-02, -5.33485512e-02,\n",
       "          9.84481203e-03,  1.53659741e-01,  2.54498727e-02,\n",
       "          6.81867188e-02,  2.04715380e-01, -1.21306284e-01,\n",
       "         -9.32503383e-02,  8.91171687e-02, -2.93056143e-01,\n",
       "         -8.84168669e-02,  1.32832773e-01, -2.08059729e-01,\n",
       "          6.81971240e-02, -1.63350417e-02,  6.57455892e-02,\n",
       "         -8.30389534e-02, -7.34006544e-02, -1.39902499e-02,\n",
       "         -5.08466110e-02,  1.71113421e-01, -6.80740470e-02,\n",
       "          9.26754649e-02, -3.98637374e-02,  8.94645727e-02,\n",
       "         -7.18780775e-02, -1.37598025e-01, -1.11223471e-01,\n",
       "         -1.41281621e-01, -7.28896345e-02, -6.86823582e-02,\n",
       "         -7.35870800e-02, -5.71214407e-02, -1.06226125e-01,\n",
       "          5.64808002e-02,  3.58775617e-02, -1.03119067e-01,\n",
       "          3.93365885e-02,  2.45082312e-02,  1.31916937e-02,\n",
       "          2.84522723e-02, -7.08318545e-02, -8.07224765e-02,\n",
       "         -4.74316069e-03, -5.23953924e-02,  3.63631647e-02,\n",
       "          1.17422880e-01, -9.98744868e-02,  2.41338608e-01,\n",
       "         -8.44500261e-02, -1.34405606e-01, -1.16447080e-01,\n",
       "         -1.61890118e-02,  3.34058401e-02,  7.21203107e-02,\n",
       "          1.11075026e-02, -1.32750616e-01,  1.16767000e-01,\n",
       "          1.83574418e-01, -1.04735310e-01, -4.00410311e-02,\n",
       "         -5.56363200e-02,  1.51120848e-02, -1.16624717e-01,\n",
       "         -6.89997476e-02, -3.57801204e-02, -2.05247146e-01,\n",
       "         -1.91599036e-01, -3.24830959e-02, -1.78129642e-02,\n",
       "          1.18406398e-02, -9.37597004e-02,  3.05355298e-01,\n",
       "         -6.55616892e-02,  3.39599187e-02,  1.75754931e-02,\n",
       "          2.07166277e-02,  2.75506305e-01,  3.09960393e-02,\n",
       "          1.46695744e-02, -1.82050620e-01, -9.38895603e-02,\n",
       "          2.04068070e-01, -1.08251939e-01, -1.19516579e-01,\n",
       "         -1.47981299e-01, -6.75076001e-03,  1.35528774e-02,\n",
       "          1.45643136e-02,  2.54720728e-01],\n",
       "        [-6.18144582e-02, -1.52108249e-01, -1.03646105e-01,\n",
       "         -5.43041587e-03, -8.09580329e-02, -1.15004590e-01,\n",
       "          1.18400669e-01, -1.24480859e-01,  8.90669622e-02,\n",
       "         -1.64170211e-01,  4.06959289e-02,  1.92803908e-01,\n",
       "          7.20815704e-03, -8.68893836e-02,  1.54448549e-01,\n",
       "         -1.29220322e-01, -5.22725824e-02,  7.34903820e-02,\n",
       "          1.90592746e-01,  6.20245274e-03,  6.50177545e-02,\n",
       "          1.93430269e-01,  3.43681385e-02,  5.24375961e-02,\n",
       "         -1.48452823e-01, -3.69426846e-02, -3.41342804e-02,\n",
       "         -1.72687693e-02,  9.80055091e-02,  9.62601813e-02,\n",
       "          8.68621575e-02, -3.34709334e-02, -1.38575379e-01,\n",
       "          1.27521341e-01, -2.37943940e-01, -2.75981609e-02,\n",
       "         -7.65034977e-02,  2.62939304e-02,  2.06054574e-01,\n",
       "         -5.14681648e-02, -1.94888855e-02,  5.27802688e-02,\n",
       "          1.24544241e-01, -1.55643595e-02, -1.67681664e-02,\n",
       "         -1.90216491e-02,  1.81663227e-01, -1.09927889e-01,\n",
       "         -1.32077864e-01, -7.27752796e-02,  1.12682990e-01,\n",
       "         -2.04822007e-02,  1.29148778e-01,  2.16314354e-02,\n",
       "          7.25215956e-02,  7.91655691e-02, -1.17038175e-01,\n",
       "          1.31524606e-02,  2.95575515e-02, -1.18458219e-01,\n",
       "          6.66000190e-02, -5.80182886e-02, -3.70243139e-02,\n",
       "          1.01337086e-02,  1.20841938e-02,  1.24391457e-01,\n",
       "          2.13145998e-01, -5.33245143e-03,  6.00608611e-02,\n",
       "          5.44714760e-02,  1.48125302e-02, -1.47145341e-01,\n",
       "          3.33820620e-02, -1.23025822e-01, -7.73972690e-02,\n",
       "         -6.02999661e-02, -1.92952631e-01, -1.06198407e-01,\n",
       "         -1.20524599e-02, -9.84634949e-02,  1.40470537e-01,\n",
       "          2.35247117e-02, -9.62084247e-02, -1.32251731e-01,\n",
       "          4.35376521e-02,  1.63646272e-01,  1.67398061e-02,\n",
       "          4.77388939e-02,  3.73944882e-02, -2.23287491e-01,\n",
       "         -6.71369193e-02, -4.95543159e-02, -4.59377132e-03,\n",
       "          2.01053702e-01,  4.50985177e-02,  2.04502010e-01,\n",
       "          9.71599957e-02, -1.20389914e-01,  6.41765921e-02,\n",
       "         -1.74839628e-02,  3.10917288e-02, -1.20217907e-01,\n",
       "         -6.90636102e-02,  6.13252977e-02,  1.52335312e-01,\n",
       "         -6.76688498e-02, -2.31092196e-01, -2.73179419e-02,\n",
       "          1.42724594e-01,  1.89432100e-02, -1.49235741e-01,\n",
       "          3.94064325e-02, -1.04664342e-01,  2.96054401e-02,\n",
       "          2.36422482e-03,  1.43423542e-02, -1.85776352e-01,\n",
       "         -9.49536411e-02,  9.25043236e-02,  2.57186112e-03,\n",
       "          3.70326154e-02, -1.49596066e-01, -2.75427936e-02,\n",
       "          1.86665751e-01, -1.26412860e-01,  1.07421233e-01,\n",
       "         -7.99330479e-02, -5.74612101e-02, -6.08787699e-02,\n",
       "         -7.02899236e-02,  1.36231029e-01, -1.29311666e-01,\n",
       "          1.59029733e-01, -7.21366466e-02, -9.29660783e-02,\n",
       "         -1.28652157e-01,  1.76762678e-01,  3.40101551e-02,\n",
       "         -3.03761119e-01, -1.49526147e-01, -1.84796427e-01,\n",
       "         -1.11224621e-01,  8.45814984e-02,  1.28672530e-01,\n",
       "          5.46971640e-02,  1.27363945e-01,  1.45040248e-01,\n",
       "         -5.91447917e-03,  1.88592117e-01, -1.52396633e-01,\n",
       "          2.78866034e-02,  1.27046525e-01,  2.23292542e-01,\n",
       "          1.26781505e-01, -1.01202005e-01, -1.07664235e-01,\n",
       "          2.25562510e-01, -7.75936460e-04,  5.76177802e-02,\n",
       "          6.92857915e-02, -1.38799408e-01, -9.33966891e-03,\n",
       "          7.43352964e-02, -5.17204299e-02,  6.73581189e-02,\n",
       "         -1.42744087e-01, -1.27800337e-01, -1.49231311e-01,\n",
       "          4.14929807e-02,  1.55425111e-01, -1.06159821e-01,\n",
       "         -7.37186219e-02,  5.78137753e-02,  1.75216904e-02,\n",
       "          5.63697649e-02,  4.79549371e-03,  1.42144263e-01,\n",
       "         -2.50188535e-01, -1.33058984e-01, -3.74955109e-02,\n",
       "         -4.73437735e-02, -4.54373672e-02,  3.71380192e-02,\n",
       "         -9.20047981e-02, -1.66461939e-02, -1.82975939e-01,\n",
       "          5.24471233e-02,  1.29399206e-01, -5.64741593e-02,\n",
       "          1.32479311e-01,  1.42152754e-01,  1.12737145e-02,\n",
       "         -4.83764692e-02, -2.54119963e-02, -6.95891277e-02,\n",
       "         -7.11770087e-03, -4.36734752e-02,  1.66404301e-01,\n",
       "         -2.11891064e-02,  3.53955970e-03],\n",
       "        [ 1.23245851e-01,  1.37700542e-01,  3.30756306e-02,\n",
       "         -7.23256225e-02,  1.37532960e-02,  1.92321283e-01,\n",
       "         -5.42761418e-02,  3.51122683e-03, -1.61256098e-01,\n",
       "         -1.65453263e-01,  6.58529149e-02, -6.73641903e-02,\n",
       "          7.16758721e-02,  1.31235224e-02,  2.19231497e-02,\n",
       "          6.89948346e-03, -3.84095609e-02,  2.52433342e-03,\n",
       "         -2.53322031e-01, -9.32786535e-03,  4.83485415e-02,\n",
       "         -3.80488667e-02,  6.09362115e-02, -3.51003104e-02,\n",
       "          5.60750994e-02, -5.60095363e-02,  1.41953984e-02,\n",
       "         -3.02642305e-02,  7.53148048e-02, -7.63382143e-03,\n",
       "          1.15453549e-01,  1.12645056e-01,  1.52991327e-01,\n",
       "         -2.83418967e-02, -1.30468096e-01,  5.85591730e-02,\n",
       "         -3.09015757e-02, -1.88547369e-01, -4.83743555e-03,\n",
       "          2.48095885e-02,  4.35720528e-02,  1.41166172e-01,\n",
       "         -9.29767553e-02, -1.45788077e-01,  3.47599374e-02,\n",
       "          4.36507847e-02, -8.22497898e-03, -4.09301629e-02,\n",
       "         -9.18858225e-02, -1.65320006e-01, -2.76228136e-02,\n",
       "         -4.64832844e-02,  1.12208247e-03, -8.74550228e-02,\n",
       "         -5.35574902e-02,  8.55939769e-02, -9.42566098e-02,\n",
       "          9.27342422e-02,  5.28318208e-03, -1.27524908e-01,\n",
       "         -5.78740757e-02,  6.61709803e-03,  8.19828885e-02,\n",
       "         -1.30994225e-01,  1.37636809e-01, -8.08874987e-02,\n",
       "         -1.23217501e-02, -5.77376444e-02,  3.49913245e-02,\n",
       "          1.01762803e-03, -5.49022857e-02,  1.35819411e-01,\n",
       "          4.41000857e-02, -1.20422999e-01,  3.68336448e-02,\n",
       "          7.42952891e-02,  4.00780050e-02,  1.39272661e-02,\n",
       "          1.82210388e-01, -1.22688095e-03, -4.19448569e-02,\n",
       "          1.10193016e-01, -2.85676198e-02,  7.69100059e-02,\n",
       "         -1.98386329e-01, -3.26156700e-02,  9.80007630e-02,\n",
       "          9.78545647e-03, -3.26327979e-02, -1.54756013e-01,\n",
       "         -1.04121536e-01, -2.73334326e-02, -2.00598377e-01,\n",
       "          1.68068344e-01, -3.08330479e-02,  7.84587906e-02,\n",
       "          1.95684505e-01, -1.72063269e-02,  4.53733745e-03,\n",
       "         -6.70561466e-02,  1.26829625e-01,  2.84588872e-02,\n",
       "          4.90093377e-02,  2.28035628e-03,  1.75745459e-01,\n",
       "         -7.19399849e-02, -5.07638492e-02,  3.63238295e-02,\n",
       "          1.24717188e-01,  7.51501010e-02,  8.76016018e-02,\n",
       "          1.93327713e-02, -1.89869835e-01,  1.27259027e-01,\n",
       "          9.67322936e-02, -3.89583361e-02,  3.83305479e-02,\n",
       "         -4.93527568e-02, -3.54386857e-03, -1.82096457e-02,\n",
       "          1.01987046e-01,  2.69939423e-02,  3.31051252e-02,\n",
       "          2.53190212e-02,  2.62076151e-02,  1.23001112e-01,\n",
       "          1.67736847e-02, -1.30579802e-01, -3.58729187e-02,\n",
       "          3.72862984e-02,  2.37273569e-02,  1.13710991e-01,\n",
       "         -1.86806699e-01,  1.83962021e-01, -9.02529159e-02,\n",
       "         -1.06914704e-01, -7.60829561e-02, -3.93790218e-03,\n",
       "         -1.03019587e-01, -6.30280650e-02,  2.66069377e-02,\n",
       "          2.40769134e-01, -1.50083855e-02, -8.24150007e-02,\n",
       "          9.55699854e-02,  1.66195293e-02,  8.10856355e-02,\n",
       "         -1.56749708e-02, -1.50483290e-01,  5.42103867e-02,\n",
       "          1.33438809e-01,  3.20261756e-02, -2.29824617e-02,\n",
       "         -2.10518991e-02,  6.55373573e-02,  2.80111059e-02,\n",
       "          2.52197452e-02,  1.86949446e-03,  5.94218915e-03,\n",
       "          7.53171603e-02,  6.93736455e-02,  1.78161534e-01,\n",
       "          1.97626514e-01, -6.45429747e-02,  4.98550908e-02,\n",
       "         -2.43746288e-02,  5.05811766e-02,  3.87749397e-02,\n",
       "         -1.20288032e-01, -1.21096376e-01,  3.26548810e-02,\n",
       "          6.97296023e-02,  7.93040907e-02,  1.58844301e-01,\n",
       "         -1.24242654e-01, -1.25219225e-01, -1.54468874e-02,\n",
       "          7.90515860e-03, -5.41130577e-02, -6.32301612e-02,\n",
       "         -1.50366150e-01,  3.29144704e-03,  8.93695521e-02,\n",
       "          2.07937875e-02,  1.66343227e-01,  1.34771678e-02,\n",
       "          6.11750611e-02,  2.15166668e-01,  9.73339798e-02,\n",
       "          4.73164014e-02,  1.29885981e-01,  2.97103063e-02,\n",
       "          1.65831587e-01,  6.85384686e-02, -1.16184876e-01,\n",
       "         -5.53225564e-02,  2.72586858e-02,  2.17989769e-01,\n",
       "         -1.81118264e-01, -4.37536559e-03]]), 'b3': array([[0.],\n",
       "        [0.],\n",
       "        [0.]])}"
      ]
     },
     "execution_count": 149,
     "metadata": {},
     "output_type": "execute_result"
    }
   ],
   "source": [
    "parameters"
   ]
  },
  {
   "cell_type": "code",
   "execution_count": 113,
   "metadata": {},
   "outputs": [],
   "source": [
    "W1=parameters['W1']\n",
    "b1=parameters['b1']\n",
    "W2=parameters['W2']\n",
    "b2=parameters['b2']\n",
    "W3=parameters['W3']\n",
    "b3=parameters['b3']"
   ]
  },
  {
   "cell_type": "code",
   "execution_count": 150,
   "metadata": {},
   "outputs": [],
   "source": [
    "Al,caches=forword_propagation(X_flatten,parameters)"
   ]
  },
  {
   "cell_type": "code",
   "execution_count": 136,
   "metadata": {},
   "outputs": [],
   "source": [
    "m=y_flatten.shape[1]"
   ]
  },
  {
   "cell_type": "code",
   "execution_count": 186,
   "metadata": {},
   "outputs": [],
   "source": [
    "cost=compute_cost1(Al,y_flatten)"
   ]
  },
  {
   "cell_type": "code",
   "execution_count": 187,
   "metadata": {},
   "outputs": [],
   "source": [
    "regularization=np.sum(np.square(W3))+np.sum(np.square(W2))+np.sum(np.square(W1))"
   ]
  },
  {
   "cell_type": "code",
   "execution_count": 188,
   "metadata": {},
   "outputs": [
    {
     "data": {
      "text/plain": [
       "0.6945726188826664"
      ]
     },
     "execution_count": 188,
     "metadata": {},
     "output_type": "execute_result"
    }
   ],
   "source": [
    "cost+regularization*(0.07/(2*m))"
   ]
  },
  {
   "cell_type": "code",
   "execution_count": 204,
   "metadata": {},
   "outputs": [],
   "source": [
    "lambd=0.07"
   ]
  },
  {
   "cell_type": "code",
   "execution_count": 214,
   "metadata": {},
   "outputs": [
    {
     "data": {
      "text/plain": [
       "0.6945635280413861"
      ]
     },
     "execution_count": 214,
     "metadata": {},
     "output_type": "execute_result"
    }
   ],
   "source": [
    "compute_cost_with_regularization(Al,y_flatten,parameters,lambd)"
   ]
  },
  {
   "cell_type": "code",
   "execution_count": 138,
   "metadata": {},
   "outputs": [
    {
     "data": {
      "text/plain": [
       "array([1.02311996e-04, 1.62488836e-05, 5.30638455e-05, ...,\n",
       "       2.25335484e-05, 1.31474476e-04, 1.49179747e-04])"
      ]
     },
     "execution_count": 138,
     "metadata": {},
     "output_type": "execute_result"
    }
   ],
   "source": [
    "-sum(y_flatten*np.log(Al)+(1-y_flatten)*np.log(1-Al))/m"
   ]
  },
  {
   "cell_type": "code",
   "execution_count": 116,
   "metadata": {},
   "outputs": [
    {
     "name": "stderr",
     "output_type": "stream",
     "text": [
      "/home/aman/anaconda3/lib/python3.7/site-packages/ipykernel_launcher.py:12: RuntimeWarning: invalid value encountered in sqrt\n",
      "  if sys.path[0] == '':\n"
     ]
    }
   ],
   "source": [
    "cost=compute_cost_with_regularization(Al,y_flatten,lambd=0.07)"
   ]
  },
  {
   "cell_type": "code",
   "execution_count": 117,
   "metadata": {},
   "outputs": [
    {
     "data": {
      "text/plain": [
       "nan"
      ]
     },
     "execution_count": 117,
     "metadata": {},
     "output_type": "execute_result"
    }
   ],
   "source": [
    "cost"
   ]
  },
  {
   "cell_type": "code",
   "execution_count": 131,
   "metadata": {},
   "outputs": [],
   "source": [
    "grads=backword_propagation_with_regularization(X_flatten, y_flatten, caches, lambd=0.07)"
   ]
  },
  {
   "cell_type": "code",
   "execution_count": 256,
   "metadata": {},
   "outputs": [
    {
     "data": {
      "text/plain": [
       "(3, 17621)"
      ]
     },
     "execution_count": 256,
     "metadata": {},
     "output_type": "execute_result"
    }
   ],
   "source": [
    "grads[\"dZ3\"].shape"
   ]
  },
  {
   "cell_type": "code",
   "execution_count": 146,
   "metadata": {},
   "outputs": [
    {
     "data": {
      "text/plain": [
       "{'W1': array([[-0.23861641, -0.05194905,  0.29840174, ..., -0.11816866,\n",
       "         -0.11638322,  0.11474881],\n",
       "        [ 0.08647265, -0.0551149 ,  0.17872811, ...,  0.0159752 ,\n",
       "         -0.07423238,  0.08893638],\n",
       "        [ 0.13281952, -0.04749088,  0.11541664, ..., -0.14858307,\n",
       "          0.01376116, -0.01626743],\n",
       "        ...,\n",
       "        [ 0.05178087, -0.02946296, -0.20783337, ...,  0.08947978,\n",
       "         -0.04419866, -0.04651467],\n",
       "        [-0.11488594,  0.08910823,  0.24157111, ...,  0.06101895,\n",
       "          0.00933461,  0.13332249],\n",
       "        [-0.0185545 , -0.00231175,  0.15982814, ..., -0.02440985,\n",
       "         -0.01889167, -0.01220399]]), 'b1': array([[ 3.42992037e-02],\n",
       "        [ 3.62959028e-02],\n",
       "        [-5.42846534e-02],\n",
       "        [ 1.25239729e-01],\n",
       "        [ 6.31239317e-02],\n",
       "        [ 6.66052408e-02],\n",
       "        [ 3.36849635e-03],\n",
       "        [-1.04420417e-01],\n",
       "        [ 1.06725619e-02],\n",
       "        [ 8.18867196e-02],\n",
       "        [-1.83625167e-01],\n",
       "        [ 4.55449461e-02],\n",
       "        [-3.58893789e-01],\n",
       "        [ 6.48494160e-02],\n",
       "        [-2.75338988e-01],\n",
       "        [-1.17179922e-01],\n",
       "        [-5.89437597e-04],\n",
       "        [ 1.44099204e-01],\n",
       "        [-4.78180232e-02],\n",
       "        [-1.37490997e-01],\n",
       "        [ 1.99505748e-02],\n",
       "        [-1.39402263e-03],\n",
       "        [-5.18753736e-02],\n",
       "        [ 3.83715638e-02],\n",
       "        [-3.83417731e-02],\n",
       "        [ 1.39600922e-02],\n",
       "        [ 3.44085879e-02],\n",
       "        [ 1.28725068e-01],\n",
       "        [-1.31705789e-01],\n",
       "        [ 2.21262057e-01],\n",
       "        [ 9.40143806e-02],\n",
       "        [-6.67740697e-02],\n",
       "        [-6.42830629e-03],\n",
       "        [ 7.13286598e-04],\n",
       "        [ 4.58958518e-02],\n",
       "        [-1.04089604e-01],\n",
       "        [ 8.06386154e-02],\n",
       "        [-3.22333817e-02],\n",
       "        [-6.47967883e-02],\n",
       "        [-1.81982844e-01],\n",
       "        [ 7.41155652e-02],\n",
       "        [-4.16739183e-02],\n",
       "        [-1.09321703e-02],\n",
       "        [-3.25336070e-02],\n",
       "        [-2.50952165e-02],\n",
       "        [ 7.90897618e-02],\n",
       "        [-1.89249227e-01],\n",
       "        [-1.47635779e-02],\n",
       "        [ 1.29464984e-02],\n",
       "        [-4.55254122e-02],\n",
       "        [ 1.61697314e-01],\n",
       "        [ 1.87501687e-04],\n",
       "        [-5.70496165e-02],\n",
       "        [-1.58077279e-03],\n",
       "        [-7.67513224e-02],\n",
       "        [ 5.32491295e-03],\n",
       "        [-6.65924472e-02],\n",
       "        [ 2.25644368e-02],\n",
       "        [ 5.84580329e-02],\n",
       "        [ 1.39630980e-01],\n",
       "        [-4.40175182e-02],\n",
       "        [ 2.27739815e-01],\n",
       "        [ 8.70408291e-02],\n",
       "        [ 1.17399708e-02],\n",
       "        [-1.46716329e-01],\n",
       "        [ 2.89105430e-01],\n",
       "        [-8.26686870e-02],\n",
       "        [ 6.12137048e-02],\n",
       "        [-6.00224758e-03],\n",
       "        [ 1.61470139e-01],\n",
       "        [ 1.21666786e-02],\n",
       "        [ 1.11313574e-02],\n",
       "        [-7.70926058e-02],\n",
       "        [ 5.23056347e-02],\n",
       "        [ 4.14340632e-02],\n",
       "        [-1.46833639e-02],\n",
       "        [ 3.48114990e-02],\n",
       "        [-3.65233379e-02],\n",
       "        [-8.94642454e-03],\n",
       "        [-2.19320249e-02]]), 'W2': array([[ 0.01353863,  0.08969434,  0.06561683, ..., -0.10504037,\n",
       "         -0.03581283,  0.13904823],\n",
       "        [-0.06410224,  0.02978424,  0.22763342, ...,  0.02394739,\n",
       "         -0.07053947, -0.05508516],\n",
       "        [-0.04976464, -0.24395443,  0.04151249, ...,  0.05438075,\n",
       "          0.08158376, -0.14406951],\n",
       "        ...,\n",
       "        [-0.01160971,  0.21124861, -0.04943534, ..., -0.17585746,\n",
       "         -0.09841735, -0.152427  ],\n",
       "        [ 0.35968899, -0.19476975,  0.15582972, ..., -0.02666184,\n",
       "         -0.04204658, -0.1509383 ],\n",
       "        [-0.21767158, -0.17861452, -0.05677295, ...,  0.02555715,\n",
       "          0.16247337,  0.28655769]]), 'b2': array([[ 0.02016407],\n",
       "        [-0.02009655],\n",
       "        [-0.04688995],\n",
       "        [ 0.08199197],\n",
       "        [ 0.18762839],\n",
       "        [-0.05710179],\n",
       "        [ 0.03313309],\n",
       "        [ 0.31417106],\n",
       "        [-0.15076664],\n",
       "        [ 0.04011757],\n",
       "        [ 0.01706669],\n",
       "        [-0.13694935],\n",
       "        [-0.03209308],\n",
       "        [ 0.03063272],\n",
       "        [-0.05078102],\n",
       "        [ 0.10655048],\n",
       "        [ 0.22775293],\n",
       "        [-0.08253312],\n",
       "        [-0.09676066],\n",
       "        [ 0.01455471],\n",
       "        [ 0.14829531],\n",
       "        [ 0.24456133],\n",
       "        [-0.12157756],\n",
       "        [ 0.03392899],\n",
       "        [ 0.01972133],\n",
       "        [ 0.24855617],\n",
       "        [-0.00672818],\n",
       "        [-0.05711966],\n",
       "        [-0.04327768],\n",
       "        [-0.09159236],\n",
       "        [-0.00795074],\n",
       "        [-0.02191519],\n",
       "        [-0.10094871],\n",
       "        [ 0.09811702],\n",
       "        [-0.10986409],\n",
       "        [ 0.12283708],\n",
       "        [ 0.10129861],\n",
       "        [ 0.16098974],\n",
       "        [-0.00240981],\n",
       "        [ 0.02636072],\n",
       "        [-0.05365309],\n",
       "        [-0.20302206],\n",
       "        [-0.01773672],\n",
       "        [-0.00650047],\n",
       "        [-0.11821558],\n",
       "        [-0.03847327],\n",
       "        [ 0.21200622],\n",
       "        [-0.01830729],\n",
       "        [-0.03851155],\n",
       "        [-0.01879303],\n",
       "        [-0.0677361 ],\n",
       "        [ 0.02771009],\n",
       "        [ 0.14188608],\n",
       "        [-0.09878313],\n",
       "        [ 0.08595679],\n",
       "        [ 0.05542623],\n",
       "        [-0.07631328],\n",
       "        [ 0.09357624],\n",
       "        [-0.1002386 ],\n",
       "        [ 0.0192205 ],\n",
       "        [-0.09979505],\n",
       "        [ 0.04673682],\n",
       "        [ 0.12364148],\n",
       "        [ 0.02959255]]), 'W3': array([[ 7.02768367e-02, -5.18719779e-02, -3.88829961e-02,\n",
       "          1.74959650e-01,  4.51449175e-02, -6.15721126e-01,\n",
       "          8.10284202e-03,  1.62387616e+00, -7.27600458e-01,\n",
       "         -5.88514723e-02, -1.93479705e-01, -5.56784919e-01,\n",
       "          2.72220986e-02,  1.89929738e-01, -9.75202861e-01,\n",
       "          4.08181950e-01,  5.33617506e-01, -3.99160286e-01,\n",
       "         -5.37512466e-01,  5.51449118e-01,  6.32555507e-01,\n",
       "          3.75082814e-01, -2.57424418e-01,  9.45319089e-02,\n",
       "          6.74784068e-02,  7.24282824e-01,  1.44978314e-03,\n",
       "         -2.04928169e-01, -4.46476980e-01, -6.37693401e-01,\n",
       "          2.27833292e-01, -5.85507872e-01, -2.17796462e-01,\n",
       "          1.05252851e-01, -8.08643411e-01,  4.60102584e-01,\n",
       "          2.93689122e-01,  4.96372442e-01, -6.85939123e-01,\n",
       "         -1.99812533e-01, -5.00422939e-01, -1.52550599e+00,\n",
       "          4.05168884e-02, -2.65496857e-01, -8.36100919e-01,\n",
       "         -3.04141382e-01,  5.47386012e-01, -7.30866296e-01,\n",
       "         -4.19867639e-01, -1.92534047e-01, -1.57563114e-01,\n",
       "          1.79100625e-01,  4.63144068e-01, -7.70944586e-01,\n",
       "          1.39244088e-01, -1.07327586e-01, -2.32705778e+00,\n",
       "          1.23819972e-01, -6.56159677e-01, -3.41480213e-01,\n",
       "         -4.42160422e-01,  1.11714539e-01, -3.44303379e-01,\n",
       "          6.40255671e-01],\n",
       "        [-2.97291845e-02, -7.45235329e-02,  5.49981521e-02,\n",
       "         -6.30496663e-01,  6.57555470e-01,  6.92250627e-01,\n",
       "         -2.55378384e-01, -2.05411950e+00,  4.73810739e-01,\n",
       "          2.13808721e-01, -2.74525136e-01,  3.65940228e-02,\n",
       "          2.11726659e-01, -1.30634716e-01, -1.31842548e+00,\n",
       "         -3.02454438e-01, -1.91411590e-01, -6.57090262e-01,\n",
       "          5.32315903e-01, -3.34575493e-01, -5.50191435e-01,\n",
       "         -6.73429556e-02, -1.18335407e-01, -1.31219583e-01,\n",
       "         -3.10511846e-01, -9.26669358e-01, -5.99264187e-02,\n",
       "         -1.21156748e-01, -4.27365581e-02, -1.98341548e-01,\n",
       "         -1.48203155e-01, -6.01491300e-01,  1.65187808e-01,\n",
       "          1.32289917e-01, -2.75554673e-01, -1.77978719e-01,\n",
       "          6.57628550e-02, -4.05855689e-01,  7.58108405e-01,\n",
       "         -1.79688021e-01,  5.71592639e-01, -6.58237983e-01,\n",
       "          6.38009463e-02,  2.05013116e-01,  1.17387149e-01,\n",
       "          1.74129890e-01,  2.58412630e-01,  7.72282967e-01,\n",
       "          1.36522294e-02, -2.25320487e-01,  4.21870302e-01,\n",
       "         -1.58886839e-01, -4.94685299e-01, -4.91599934e-01,\n",
       "         -1.10401757e+00,  3.56567528e-01,  1.85962022e+00,\n",
       "         -6.81618260e-01,  6.34348904e-01,  8.99822426e-02,\n",
       "          3.56696084e-01, -4.13466707e-01,  7.55548787e-01,\n",
       "         -5.18817033e-01],\n",
       "        [-8.71715775e-02,  8.44494573e-02,  1.04912903e-01,\n",
       "          2.11822055e-01, -8.20613728e-01, -3.26851221e-01,\n",
       "          1.19684036e-01, -1.26663068e+00,  5.98650455e-01,\n",
       "         -1.89580729e-01,  4.07420644e-01,  3.64712724e-01,\n",
       "          1.78600206e-01, -7.58933323e-02,  9.17264233e-01,\n",
       "         -4.30915325e-01, -9.09699189e-01,  6.16657648e-01,\n",
       "         -2.51391614e-01, -1.47219016e-01, -4.35706899e-01,\n",
       "         -6.99357929e-01,  2.57298873e-01, -1.24563872e-01,\n",
       "          4.31826190e-02, -5.27538216e-01, -1.29174809e-02,\n",
       "          3.31778285e-01,  5.29585940e-01,  5.01016500e-01,\n",
       "         -2.16299855e-02,  5.18813006e-01,  1.78048510e-01,\n",
       "         -3.31287270e-01,  8.43975013e-01, -4.51598377e-01,\n",
       "         -4.79555604e-01, -1.34245330e-01, -5.96184577e-01,\n",
       "          2.62885183e-01, -4.61525066e-01,  1.19346380e+00,\n",
       "         -1.12324943e-01, -1.17964800e-01,  6.80239117e-01,\n",
       "          2.82501321e-01, -6.67938473e-01, -1.59420662e-01,\n",
       "          2.78039252e-01,  2.67667356e-01,  6.43532106e-02,\n",
       "         -1.19830975e-02, -5.54935908e-01,  5.01595110e-01,\n",
       "          5.67072440e-01, -3.03709881e-01, -1.60467929e+00,\n",
       "          1.13417459e-01, -3.79607144e-01, -2.09811789e-01,\n",
       "         -1.22911724e-01,  4.66772806e-02, -1.29595273e+00,\n",
       "         -6.17074579e-01]]), 'b3': array([[ 0.02494508],\n",
       "        [-0.37086558],\n",
       "        [-0.52876238]])}"
      ]
     },
     "execution_count": 146,
     "metadata": {},
     "output_type": "execute_result"
    }
   ],
   "source": [
    "parameters"
   ]
  },
  {
   "cell_type": "markdown",
   "metadata": {},
   "source": [
    "## 5. Dropout technique"
   ]
  },
  {
   "cell_type": "code",
   "execution_count": null,
   "metadata": {},
   "outputs": [],
   "source": [
    "parameters=model_com(X_flatten, y_flatten,learning_rate=0.075,num_iters=15000,lambd=0,keep_prob=0.5,print_cost=True)"
   ]
  },
  {
   "cell_type": "code",
   "execution_count": 170,
   "metadata": {},
   "outputs": [],
   "source": [
    "def predict_dropout(X,Y,parameters,keep_prob):\n",
    "    y_pred,caches=forword_propagation_with_dropout(X,parameters,keep_prob)\n",
    "    \n",
    "    ##convert it into normalize format\n",
    "    y_p=np.zeros((y_pred.T.shape))\n",
    "    i=0\n",
    "    for l in y_pred.T:\n",
    "        l=l.tolist()                                   ## convert them in list\n",
    "        indx=l.index(max(l))                           ## find maximize in list\n",
    "        y_p[i][indx]=1                                 ## using the put 1 in list\n",
    "        i=i+1\n",
    "        \n",
    "    ##finished the binarization\n",
    "    y_t=Y.T\n",
    "    accur=metrics.accuracy_score(y_t,y_p)\n",
    "    print(\"now the accuracy is {0:.2f}%\".format(accur*100))     ###print the acuracy"
   ]
  },
  {
   "cell_type": "code",
   "execution_count": 172,
   "metadata": {},
   "outputs": [
    {
     "name": "stdout",
     "output_type": "stream",
     "text": [
      "now the accuracy is 45.91%\n"
     ]
    }
   ],
   "source": [
    "predict_dropout(x_t,y_t,parameters,keep_prob=0.8)"
   ]
  },
  {
   "cell_type": "code",
   "execution_count": 174,
   "metadata": {},
   "outputs": [
    {
     "name": "stdout",
     "output_type": "stream",
     "text": [
      "now the accuracy is 50.44%\n"
     ]
    }
   ],
   "source": [
    "predict_dropout(X_flatten,y_flatten,parameters,keep_prob=0.8)"
   ]
  },
  {
   "cell_type": "code",
   "execution_count": null,
   "metadata": {},
   "outputs": [],
   "source": []
  }
 ],
 "metadata": {
  "kernelspec": {
   "display_name": "Python 3",
   "language": "python",
   "name": "python3"
  },
  "language_info": {
   "codemirror_mode": {
    "name": "ipython",
    "version": 3
   },
   "file_extension": ".py",
   "mimetype": "text/x-python",
   "name": "python",
   "nbconvert_exporter": "python",
   "pygments_lexer": "ipython3",
   "version": "3.7.4"
  }
 },
 "nbformat": 4,
 "nbformat_minor": 2
}
